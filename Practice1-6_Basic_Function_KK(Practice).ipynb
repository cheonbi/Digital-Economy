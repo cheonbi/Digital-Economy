{
 "cells": [
  {
   "cell_type": "code",
   "execution_count": 1,
   "metadata": {
    "ExecuteTime": {
     "end_time": "2021-11-05T17:01:42.138712Z",
     "start_time": "2021-11-05T17:01:42.109790Z"
    }
   },
   "outputs": [
    {
     "name": "stdout",
     "output_type": "stream",
     "text": [
      "Intel64 Family 6 Model 158 Stepping 10, GenuineIntel\n",
      "48(GB)\n",
      "Windows\n",
      "10.0.19041\n",
      "D:\\DS\\Lecture\\[DataScience]\n",
      "2021-10-02 01:56:22.964415\n",
      "2021-11-06 02:01:40.213269\n",
      "2021-11-06 02:01:40.213269\n",
      "2021-11-06 02:01:42.127714\n",
      "다음 출력을 파일명으로 설정하고 제출하시오: 김경원_20211011_E정보시스템-1반_Function\n"
     ]
    }
   ],
   "source": [
    "# 반드시 이 cell을 실행하시오\n",
    "# 실행하지 않을 시 직접 하지 않은 것으로 간주\n",
    "# 마지막 줄 출력으로 파일명을 설정하고 제출 필수\n",
    "import platform, psutil, os, datetime\n",
    "print(platform.processor())\n",
    "print(str(round(psutil.virtual_memory().total / (1024.0 **3)))+\"(GB)\")\n",
    "print(platform.system())\n",
    "print(platform.version())\n",
    "print(os.getcwd())\n",
    "print(datetime.datetime.fromtimestamp(os.path.getctime(os.getcwd())))\n",
    "print(datetime.datetime.fromtimestamp(os.path.getmtime(os.getcwd())))\n",
    "print(datetime.datetime.fromtimestamp(os.path.getatime(os.getcwd())))\n",
    "print(datetime.datetime.now())\n",
    "title = 'Function'    # 고정값\n",
    "name = '김경원'    # 본인 이름을 작성\n",
    "studentid = '20211011'    # 본인 학번을 작성\n",
    "course_number = 'E정보시스템-1반'    # 1반: E정보시스템-1반, 2반: E정보시스템-2반, 3반: E정보시스템-3반\n",
    "print('다음 출력을 파일명으로 설정하고 제출하시오:', name + '_' + studentid + '_' + course_number + '_' + title)"
   ]
  },
  {
   "cell_type": "markdown",
   "metadata": {},
   "source": [
    "# 파이썬함수: 사람의 생각을 정교하게 구현/자동화하다\n",
    "\n",
    "- **목적:** 사람의 생각(f)을 컴퓨터로 구현하여 자동으로 입력에 대응되는 출력 반환\n",
    "> - 사람의 \"생각\" 또는 컴퓨터의 \"처리\" 과정을 \"함수\"로 관리하면 효율적이고 편리하게 반복사용 가능\n",
    "> - 입력(X)을 받아 \"함수\"를 거쳐 출력(Y) 된다: Y = f(X)\n",
    "> - print, input 등도 모두 파이썬에서 미리 만들어 둔 내장 함수\n",
    "> - 특정 기능을 수행하는 코드의 집합으로 여러 실행 문장을 하나로 묶는 기능\n",
    "> - 코드의 용도를 잘 정리해 둘 수 있고, 얼마든지 재사용 가능하며, 실수를 줄일 수 있음\n",
    "> - 복잡한 것들도 결국 \"함수\"로 작성할 수 있고, 결국 사람이 수작업으로 해야할 것들이 줄어들고 자동화(인공지능) 가능\n",
    "\n",
    "<center><img src='Image/Programming_RealCommunication.png' width='600'></center>\n",
    "\n",
    "---\n",
    "\n",
    "<center><img src='Image/DataSplit_Concept1.png' width='900'></center>\n",
    "\n",
    "---\n",
    "\n",
    "<center><img src='Image/Analysis_Process.png' width='900'></center>"
   ]
  },
  {
   "cell_type": "markdown",
   "metadata": {},
   "source": [
    "# 파이썬함수의 모양과 종류\n",
    "\n",
    "- def 키워드를 사용하여 정의한다\n",
    "- 함수에는 입력값과 출력값이 있으며 없을 수도 있다\n",
    "- 입력은 매개변수라고도 하고 출력은 반환값이라고도 한다\n",
    "- 함수 선언시 마지막에 콜론을 입력한다\n",
    "- **입력값:** 매개변수, 인수 등\n",
    "> - **매개변수:** 함수 선언시 입력 값이나 변수\n",
    "> - **인수:** 함수 사용(호출)시 입력 값이나 변수\n",
    "- **출력값:** 결과값, 반환값, 돌려주는값 등\n",
    "> - **return:** 값을 반환하는 + 함수를 종료하는 기능\n",
    "\n",
    "<center><img src='Image/Basic_Function.png' width='500'></center>"
   ]
  },
  {
   "cell_type": "code",
   "execution_count": 1,
   "metadata": {
    "ExecuteTime": {
     "end_time": "2021-11-05T16:42:39.913486Z",
     "start_time": "2021-11-05T16:42:39.899524Z"
    }
   },
   "outputs": [
    {
     "data": {
      "text/plain": [
       "1"
      ]
     },
     "execution_count": 1,
     "metadata": {},
     "output_type": "execute_result"
    }
   ],
   "source": [
    "5 % 2"
   ]
  },
  {
   "cell_type": "code",
   "execution_count": 2,
   "metadata": {
    "ExecuteTime": {
     "end_time": "2021-11-05T16:42:39.928446Z",
     "start_time": "2021-11-05T16:42:39.914484Z"
    }
   },
   "outputs": [
    {
     "data": {
      "text/plain": [
       "3"
      ]
     },
     "execution_count": 2,
     "metadata": {},
     "output_type": "execute_result"
    }
   ],
   "source": [
    "7 % 4"
   ]
  },
  {
   "cell_type": "code",
   "execution_count": 3,
   "metadata": {
    "ExecuteTime": {
     "end_time": "2021-11-05T16:42:39.944403Z",
     "start_time": "2021-11-05T16:42:39.929443Z"
    }
   },
   "outputs": [
    {
     "data": {
      "text/plain": [
       "1"
      ]
     },
     "execution_count": 3,
     "metadata": {},
     "output_type": "execute_result"
    }
   ],
   "source": [
    "# 함수정의\n",
    "# 함수의 이름(함수이름)은 func_name이고 입력으로 2개의 값을 받아 나눈 나머지를 출력\n",
    "# 정의한 함수를 사용(호출)하여 5를 2로 나눈 나머지를 출력\n",
    "\n"
   ]
  },
  {
   "cell_type": "code",
   "execution_count": 4,
   "metadata": {
    "ExecuteTime": {
     "end_time": "2021-11-05T16:42:39.959364Z",
     "start_time": "2021-11-05T16:42:39.945401Z"
    }
   },
   "outputs": [
    {
     "data": {
      "text/plain": [
       "1"
      ]
     },
     "execution_count": 4,
     "metadata": {},
     "output_type": "execute_result"
    }
   ],
   "source": [
    "# 변수값으로 출력 가능\n"
   ]
  },
  {
   "cell_type": "code",
   "execution_count": 5,
   "metadata": {
    "ExecuteTime": {
     "end_time": "2021-11-05T16:42:39.974324Z",
     "start_time": "2021-11-05T16:42:39.960361Z"
    }
   },
   "outputs": [
    {
     "data": {
      "text/plain": [
       "1"
      ]
     },
     "execution_count": 5,
     "metadata": {},
     "output_type": "execute_result"
    }
   ],
   "source": [
    "# 변수값으로 출력 가능\n"
   ]
  },
  {
   "cell_type": "code",
   "execution_count": 6,
   "metadata": {
    "ExecuteTime": {
     "end_time": "2021-11-05T16:42:39.989284Z",
     "start_time": "2021-11-05T16:42:39.976319Z"
    }
   },
   "outputs": [
    {
     "data": {
      "text/plain": [
       "1"
      ]
     },
     "execution_count": 6,
     "metadata": {},
     "output_type": "execute_result"
    }
   ],
   "source": [
    "# 예시 결과 확인\n"
   ]
  },
  {
   "cell_type": "code",
   "execution_count": 7,
   "metadata": {
    "ExecuteTime": {
     "end_time": "2021-11-05T16:42:40.004244Z",
     "start_time": "2021-11-05T16:42:39.992277Z"
    }
   },
   "outputs": [
    {
     "data": {
      "text/plain": [
       "2"
      ]
     },
     "execution_count": 7,
     "metadata": {},
     "output_type": "execute_result"
    }
   ],
   "source": [
    "# 예시 결과 확인\n"
   ]
  },
  {
   "cell_type": "code",
   "execution_count": 8,
   "metadata": {
    "ExecuteTime": {
     "end_time": "2021-11-05T16:42:40.019203Z",
     "start_time": "2021-11-05T16:42:40.005241Z"
    }
   },
   "outputs": [],
   "source": [
    "# print(a)\n",
    "# print(b)"
   ]
  },
  {
   "cell_type": "code",
   "execution_count": 9,
   "metadata": {
    "ExecuteTime": {
     "end_time": "2021-11-05T16:42:40.034163Z",
     "start_time": "2021-11-05T16:42:40.020201Z"
    }
   },
   "outputs": [
    {
     "name": "stdout",
     "output_type": "stream",
     "text": [
      "Hello, world!\n"
     ]
    }
   ],
   "source": [
    "# 예시 결과 확인\n"
   ]
  },
  {
   "cell_type": "markdown",
   "metadata": {},
   "source": [
    "- **함수의 실행 순서:**\n",
    "\n",
    "1. 파이썬 함수 작성 및 실행\n",
    "2. 작성 함수 호출(함수 생성 전 호출 불가)\n",
    "3. 호출된 함수 실행\n",
    "4. 호출된 함수 출력\n",
    "5. 호출된 함수 종료"
   ]
  },
  {
   "cell_type": "code",
   "execution_count": 10,
   "metadata": {
    "ExecuteTime": {
     "end_time": "2021-11-05T16:42:40.049124Z",
     "start_time": "2021-11-05T16:42:40.035161Z"
    }
   },
   "outputs": [],
   "source": [
    "def hello():\n",
    "    pass"
   ]
  },
  {
   "cell_type": "code",
   "execution_count": 11,
   "metadata": {
    "ExecuteTime": {
     "end_time": "2021-11-05T16:42:40.064084Z",
     "start_time": "2021-11-05T16:42:40.050121Z"
    }
   },
   "outputs": [],
   "source": [
    "hello()"
   ]
  },
  {
   "cell_type": "markdown",
   "metadata": {},
   "source": [
    "## 입력도 없고 출력도 없는 함수"
   ]
  },
  {
   "cell_type": "code",
   "execution_count": 12,
   "metadata": {
    "ExecuteTime": {
     "end_time": "2021-11-05T16:42:40.079043Z",
     "start_time": "2021-11-05T16:42:40.065081Z"
    }
   },
   "outputs": [
    {
     "name": "stdout",
     "output_type": "stream",
     "text": [
      "My name is KK\n",
      "My name is KK\n"
     ]
    }
   ],
   "source": [
    "# 함수를 작성하고, 함수를 호출하여 결과 확인\n",
    "\n"
   ]
  },
  {
   "cell_type": "markdown",
   "metadata": {},
   "source": [
    "## 입력만 있는 함수"
   ]
  },
  {
   "cell_type": "code",
   "execution_count": 13,
   "metadata": {
    "ExecuteTime": {
     "end_time": "2021-11-05T16:42:40.094004Z",
     "start_time": "2021-11-05T16:42:40.080041Z"
    }
   },
   "outputs": [
    {
     "name": "stdout",
     "output_type": "stream",
     "text": [
      "2 곱하기 4 = 8\n"
     ]
    }
   ],
   "source": [
    "# 함수를 작성하고, 함수를 호출하여 결과 확인\n",
    "# a = 2, b = 4\n",
    "\n"
   ]
  },
  {
   "cell_type": "code",
   "execution_count": 14,
   "metadata": {
    "ExecuteTime": {
     "end_time": "2021-11-05T16:42:40.108964Z",
     "start_time": "2021-11-05T16:42:40.095001Z"
    }
   },
   "outputs": [
    {
     "name": "stdout",
     "output_type": "stream",
     "text": [
      "5 곱하기 4 = 20\n"
     ]
    }
   ],
   "source": [
    "# 예시 결과 확인\n"
   ]
  },
  {
   "cell_type": "code",
   "execution_count": 15,
   "metadata": {
    "ExecuteTime": {
     "end_time": "2021-11-05T16:42:40.124921Z",
     "start_time": "2021-11-05T16:42:40.109962Z"
    }
   },
   "outputs": [
    {
     "name": "stdout",
     "output_type": "stream",
     "text": [
      "10 곱하기 2 = 20\n"
     ]
    }
   ],
   "source": [
    "# 예시 결과 확인\n"
   ]
  },
  {
   "cell_type": "markdown",
   "metadata": {},
   "source": [
    "## 출력만 있는 함수"
   ]
  },
  {
   "cell_type": "code",
   "execution_count": 16,
   "metadata": {
    "ExecuteTime": {
     "end_time": "2021-11-05T16:42:40.140878Z",
     "start_time": "2021-11-05T16:42:40.125919Z"
    }
   },
   "outputs": [
    {
     "data": {
      "text/plain": [
       "'What is your name? '"
      ]
     },
     "execution_count": 16,
     "metadata": {},
     "output_type": "execute_result"
    }
   ],
   "source": [
    "# 함수를 작성하고, 함수를 호출하여 결과 확인\n"
   ]
  },
  {
   "cell_type": "code",
   "execution_count": 17,
   "metadata": {
    "ExecuteTime": {
     "end_time": "2021-11-05T16:42:40.155838Z",
     "start_time": "2021-11-05T16:42:40.141876Z"
    }
   },
   "outputs": [],
   "source": [
    "# 예시 결과 확인\n"
   ]
  },
  {
   "cell_type": "code",
   "execution_count": 18,
   "metadata": {
    "ExecuteTime": {
     "end_time": "2021-11-05T16:42:40.170798Z",
     "start_time": "2021-11-05T16:42:40.156837Z"
    }
   },
   "outputs": [
    {
     "data": {
      "text/plain": [
       "'What is your name? KK'"
      ]
     },
     "execution_count": 18,
     "metadata": {},
     "output_type": "execute_result"
    }
   ],
   "source": [
    "# 예시 결과 확인\n"
   ]
  },
  {
   "cell_type": "markdown",
   "metadata": {},
   "source": [
    "## 입력이나 출력이 여러개인 함수"
   ]
  },
  {
   "cell_type": "code",
   "execution_count": 19,
   "metadata": {
    "ExecuteTime": {
     "end_time": "2021-11-05T16:42:40.185759Z",
     "start_time": "2021-11-05T16:42:40.171796Z"
    }
   },
   "outputs": [
    {
     "data": {
      "text/plain": [
       "10"
      ]
     },
     "execution_count": 19,
     "metadata": {},
     "output_type": "execute_result"
    }
   ],
   "source": [
    "# 함수를 작성하고, 함수를 호출하여 결과 확인\n",
    "# a=1, b=2, c=3, d=4\n"
   ]
  },
  {
   "cell_type": "code",
   "execution_count": 20,
   "metadata": {
    "ExecuteTime": {
     "end_time": "2021-11-05T16:42:40.200718Z",
     "start_time": "2021-11-05T16:42:40.186756Z"
    }
   },
   "outputs": [],
   "source": [
    "# input_several(1,2,3,4,5)"
   ]
  },
  {
   "cell_type": "code",
   "execution_count": 21,
   "metadata": {
    "ExecuteTime": {
     "end_time": "2021-11-05T16:42:40.215678Z",
     "start_time": "2021-11-05T16:42:40.201716Z"
    }
   },
   "outputs": [
    {
     "data": {
      "text/plain": [
       "(10, -10)"
      ]
     },
     "execution_count": 21,
     "metadata": {},
     "output_type": "execute_result"
    }
   ],
   "source": [
    "# 함수를 작성하고, 함수를 호출하여 결과 확인\n",
    "# 모든 입력값의 합과 차를 계산하는 함수\n",
    "# a=1, b=2, c=3, d=4\n"
   ]
  },
  {
   "cell_type": "code",
   "execution_count": 22,
   "metadata": {
    "ExecuteTime": {
     "end_time": "2021-11-05T16:42:40.230637Z",
     "start_time": "2021-11-05T16:42:40.218670Z"
    }
   },
   "outputs": [
    {
     "name": "stdout",
     "output_type": "stream",
     "text": [
      "10 -10\n"
     ]
    }
   ],
   "source": [
    "# 변수로 받아 출력 가능\n"
   ]
  },
  {
   "cell_type": "markdown",
   "metadata": {},
   "source": [
    "# 파이썬함수 응용"
   ]
  },
  {
   "cell_type": "markdown",
   "metadata": {},
   "source": [
    "## 위치인수 활용\n",
    "\n",
    "- **위치인수(Positional Argument):** 함수의 입력을 순서대로 넣는 방식"
   ]
  },
  {
   "cell_type": "code",
   "execution_count": 23,
   "metadata": {
    "ExecuteTime": {
     "end_time": "2021-11-05T16:42:40.245598Z",
     "start_time": "2021-11-05T16:42:40.233631Z"
    }
   },
   "outputs": [
    {
     "name": "stdout",
     "output_type": "stream",
     "text": [
      "10 20 30\n"
     ]
    }
   ],
   "source": [
    "print(10, 20, 30)"
   ]
  },
  {
   "cell_type": "code",
   "execution_count": 24,
   "metadata": {
    "ExecuteTime": {
     "end_time": "2021-11-05T16:42:40.260558Z",
     "start_time": "2021-11-05T16:42:40.246596Z"
    }
   },
   "outputs": [
    {
     "name": "stdout",
     "output_type": "stream",
     "text": [
      "10\n",
      "20\n",
      "30\n"
     ]
    }
   ],
   "source": [
    "def print_numbers(a, b, c):\n",
    "    print(a)\n",
    "    print(b)\n",
    "    print(c)\n",
    "    \n",
    "print_numbers(10, 20, 30)"
   ]
  },
  {
   "cell_type": "code",
   "execution_count": 25,
   "metadata": {
    "ExecuteTime": {
     "end_time": "2021-11-05T16:42:40.275518Z",
     "start_time": "2021-11-05T16:42:40.261557Z"
    }
   },
   "outputs": [
    {
     "name": "stdout",
     "output_type": "stream",
     "text": [
      "10\n",
      "20\n",
      "30\n",
      "40\n",
      "50\n",
      "60\n",
      "70\n",
      "80\n",
      "90\n",
      "100\n"
     ]
    }
   ],
   "source": [
    "# 함수의 입력값은 코드의 입력 위치와 매핑되어 자동으로 인식\n"
   ]
  },
  {
   "cell_type": "markdown",
   "metadata": {},
   "source": [
    "## 아규먼트인수 활용"
   ]
  },
  {
   "cell_type": "markdown",
   "metadata": {},
   "source": [
    "- **언패킹(Unpacking):** 입력변수(인수) 앞에 \"*\" 기호를 붙이면 리스트 내부 값들을 모두 모아 튜플로 만들고 차례대로 반영\n",
    "- 함수의 입력(매개변수)의 갯수와 리스트 내부 요소의 갯수는 같아야 함"
   ]
  },
  {
   "cell_type": "code",
   "execution_count": 26,
   "metadata": {
    "ExecuteTime": {
     "end_time": "2021-11-05T16:42:40.290478Z",
     "start_time": "2021-11-05T16:42:40.276515Z"
    }
   },
   "outputs": [
    {
     "name": "stdout",
     "output_type": "stream",
     "text": [
      "10\n",
      "20\n",
      "30\n"
     ]
    }
   ],
   "source": [
    "def print_numbers(a, b, c):\n",
    "    print(a)\n",
    "    print(b)\n",
    "    print(c)\n",
    "\n",
    "# print_numbers(10, 20, 30)    \n",
    "print_numbers(*[10, 20, 30])"
   ]
  },
  {
   "cell_type": "code",
   "execution_count": 27,
   "metadata": {
    "ExecuteTime": {
     "end_time": "2021-11-05T16:42:40.305438Z",
     "start_time": "2021-11-05T16:42:40.291477Z"
    }
   },
   "outputs": [
    {
     "name": "stdout",
     "output_type": "stream",
     "text": [
      "10\n",
      "20\n",
      "30\n"
     ]
    }
   ],
   "source": [
    "# x에 [10, 20, 30]를 반영하고 이를 아규먼트를 사용하여 print_numbers 함수를 출력\n"
   ]
  },
  {
   "cell_type": "code",
   "execution_count": 28,
   "metadata": {
    "ExecuteTime": {
     "end_time": "2021-11-05T16:42:40.320398Z",
     "start_time": "2021-11-05T16:42:40.306436Z"
    }
   },
   "outputs": [],
   "source": [
    "# 입력 갯수가 다르면 오류 발생\n"
   ]
  },
  {
   "cell_type": "markdown",
   "metadata": {},
   "source": [
    "- **가변인수(Variable Argument):** 입력의 갯수가 정해지지 않은 경우 사용\n",
    "- 입력 값을 한개, 열개, 넣지 않아도 됨\n",
    "\n",
    "```python\n",
    "def 함수이름(*매개변수):\n",
    "    문장\n",
    "```"
   ]
  },
  {
   "cell_type": "code",
   "execution_count": 29,
   "metadata": {
    "ExecuteTime": {
     "end_time": "2021-11-05T16:42:40.335357Z",
     "start_time": "2021-11-05T16:42:40.321395Z"
    }
   },
   "outputs": [
    {
     "name": "stdout",
     "output_type": "stream",
     "text": [
      "(10, 20, 30, 40, 50)\n"
     ]
    }
   ],
   "source": [
    "# 가변인수를 사용해서 입력의 갯수를 조정 가능\n"
   ]
  },
  {
   "cell_type": "code",
   "execution_count": 30,
   "metadata": {
    "ExecuteTime": {
     "end_time": "2021-11-05T16:42:40.350318Z",
     "start_time": "2021-11-05T16:42:40.336356Z"
    }
   },
   "outputs": [
    {
     "name": "stdout",
     "output_type": "stream",
     "text": [
      "(10, 20, 30, 40, 50, 60, 70)\n"
     ]
    }
   ],
   "source": [
    "# 다양한 상황 활용 가능\n"
   ]
  },
  {
   "cell_type": "code",
   "execution_count": 31,
   "metadata": {
    "ExecuteTime": {
     "end_time": "2021-11-05T16:42:40.365278Z",
     "start_time": "2021-11-05T16:42:40.351315Z"
    }
   },
   "outputs": [
    {
     "name": "stdout",
     "output_type": "stream",
     "text": [
      "10\n"
     ]
    }
   ],
   "source": [
    "# 입력값들의 개별 출력 가능\n"
   ]
  },
  {
   "cell_type": "code",
   "execution_count": 32,
   "metadata": {
    "ExecuteTime": {
     "end_time": "2021-11-05T16:42:40.380237Z",
     "start_time": "2021-11-05T16:42:40.366276Z"
    }
   },
   "outputs": [],
   "source": [
    "# 예시 출력 확인\n"
   ]
  },
  {
   "cell_type": "code",
   "execution_count": 33,
   "metadata": {
    "ExecuteTime": {
     "end_time": "2021-11-05T16:42:40.395197Z",
     "start_time": "2021-11-05T16:42:40.381236Z"
    }
   },
   "outputs": [
    {
     "name": "stdout",
     "output_type": "stream",
     "text": [
      "10\n",
      "20\n",
      "30\n",
      "40\n"
     ]
    }
   ],
   "source": [
    "# 예시 출력 확인\n"
   ]
  },
  {
   "cell_type": "code",
   "execution_count": 34,
   "metadata": {
    "ExecuteTime": {
     "end_time": "2021-11-05T16:42:40.410158Z",
     "start_time": "2021-11-05T16:42:40.396196Z"
    }
   },
   "outputs": [
    {
     "name": "stdout",
     "output_type": "stream",
     "text": [
      "10\n",
      "20\n",
      "30\n",
      "40\n",
      "50\n",
      "60\n",
      "70\n"
     ]
    }
   ],
   "source": [
    "# 예시 출력 확인\n"
   ]
  },
  {
   "cell_type": "code",
   "execution_count": 35,
   "metadata": {
    "ExecuteTime": {
     "end_time": "2021-11-05T16:42:40.425117Z",
     "start_time": "2021-11-05T16:42:40.411155Z"
    }
   },
   "outputs": [
    {
     "name": "stdout",
     "output_type": "stream",
     "text": [
      "10\n"
     ]
    }
   ],
   "source": [
    "# 값의 위치를 기반으로 출력 가능\n"
   ]
  },
  {
   "cell_type": "code",
   "execution_count": 36,
   "metadata": {
    "ExecuteTime": {
     "end_time": "2021-11-05T16:42:40.441075Z",
     "start_time": "2021-11-05T16:42:40.427113Z"
    }
   },
   "outputs": [
    {
     "name": "stdout",
     "output_type": "stream",
     "text": [
      "10\n",
      "20\n",
      "30\n"
     ]
    }
   ],
   "source": [
    "# 예시 출력 확인\n"
   ]
  },
  {
   "cell_type": "code",
   "execution_count": 37,
   "metadata": {
    "ExecuteTime": {
     "end_time": "2021-11-05T16:42:40.456035Z",
     "start_time": "2021-11-05T16:42:40.442073Z"
    }
   },
   "outputs": [
    {
     "data": {
      "text/plain": [
       "3"
      ]
     },
     "execution_count": 37,
     "metadata": {},
     "output_type": "execute_result"
    }
   ],
   "source": [
    "# 입력값들의 합을 계산\n"
   ]
  },
  {
   "cell_type": "code",
   "execution_count": 38,
   "metadata": {
    "ExecuteTime": {
     "end_time": "2021-11-05T16:42:40.471992Z",
     "start_time": "2021-11-05T16:42:40.457033Z"
    }
   },
   "outputs": [
    {
     "data": {
      "text/plain": [
       "18"
      ]
     },
     "execution_count": 38,
     "metadata": {},
     "output_type": "execute_result"
    }
   ],
   "source": [
    "# 3,4,5,6의 합을 위 함수를 사용하여 출력\n"
   ]
  },
  {
   "cell_type": "code",
   "execution_count": 39,
   "metadata": {
    "ExecuteTime": {
     "end_time": "2021-11-05T16:42:40.486952Z",
     "start_time": "2021-11-05T16:42:40.472990Z"
    }
   },
   "outputs": [
    {
     "data": {
      "text/plain": [
       "0"
      ]
     },
     "execution_count": 39,
     "metadata": {},
     "output_type": "execute_result"
    }
   ],
   "source": [
    "# 예시 출력 확인\n"
   ]
  },
  {
   "cell_type": "markdown",
   "metadata": {},
   "source": [
    "- ***args:** \"arguments\"의 약자로 함수를 호출할 때 입력의 갯수가 여러개여도 상관없이 받음\n",
    "- args로 입력된 값들을 튜플 타입으로 변환하여 함수 내부로 모두 전달\n",
    "- 고정인수와 가변인수를 함께 사용할 때는 고정 매개변수를 앞어 지정하고, 다음 매개별수로 *args\n",
    "\n",
    "```python\n",
    "def 함수이름(고정 매개변수, *args):\n",
    "    문장\n",
    "```"
   ]
  },
  {
   "cell_type": "code",
   "execution_count": 40,
   "metadata": {
    "ExecuteTime": {
     "end_time": "2021-11-05T16:42:40.501914Z",
     "start_time": "2021-11-05T16:42:40.487949Z"
    }
   },
   "outputs": [
    {
     "name": "stdout",
     "output_type": "stream",
     "text": [
      "5 (2, 3)\n",
      "7\n",
      "8\n"
     ]
    }
   ],
   "source": [
    "# 위치인수와 가변인수를 모두 입력으로 활용 가능\n"
   ]
  },
  {
   "cell_type": "code",
   "execution_count": 41,
   "metadata": {
    "ExecuteTime": {
     "end_time": "2021-11-05T16:42:40.516873Z",
     "start_time": "2021-11-05T16:42:40.502910Z"
    }
   },
   "outputs": [],
   "source": [
    "def print_numbers(a, *args):\n",
    "    print(a)\n",
    "    print(args)"
   ]
  },
  {
   "cell_type": "code",
   "execution_count": 42,
   "metadata": {
    "ExecuteTime": {
     "end_time": "2021-11-05T16:42:40.531832Z",
     "start_time": "2021-11-05T16:42:40.517869Z"
    }
   },
   "outputs": [
    {
     "name": "stdout",
     "output_type": "stream",
     "text": [
      "1\n",
      "()\n"
     ]
    }
   ],
   "source": [
    "print_numbers(1)"
   ]
  },
  {
   "cell_type": "code",
   "execution_count": 43,
   "metadata": {
    "ExecuteTime": {
     "end_time": "2021-11-05T16:42:40.546792Z",
     "start_time": "2021-11-05T16:42:40.532831Z"
    }
   },
   "outputs": [
    {
     "name": "stdout",
     "output_type": "stream",
     "text": [
      "1\n",
      "(10, 20)\n"
     ]
    }
   ],
   "source": [
    "print_numbers(1, 10, 20)"
   ]
  },
  {
   "cell_type": "code",
   "execution_count": 44,
   "metadata": {
    "ExecuteTime": {
     "end_time": "2021-11-05T16:42:40.561752Z",
     "start_time": "2021-11-05T16:42:40.547790Z"
    }
   },
   "outputs": [
    {
     "name": "stdout",
     "output_type": "stream",
     "text": [
      "10\n",
      "(20, 30)\n"
     ]
    }
   ],
   "source": [
    "print_numbers(*[10, 20, 30])"
   ]
  },
  {
   "cell_type": "markdown",
   "metadata": {},
   "source": [
    "- **Question:** 리스트 언패킹(\\*args)을 사용하여 \"get_max_score\" 함수를 만들고, 아래의 코드를 사용하여 가장 높은 점수가 출력되도록 만드시오\n",
    "\n",
    "```\n",
    "korean, english, mathematics, science = 100, 86, 81, 91\n",
    "\n",
    "max_score = get_max_score(korean, english, mathematics, science)\n",
    "print('높은점수: ', max_score)\n",
    "\n",
    "max_score = get_max_score(english, science)\n",
    "print('높은점수: ', max_score)\n",
    "```"
   ]
  },
  {
   "cell_type": "code",
   "execution_count": 45,
   "metadata": {
    "ExecuteTime": {
     "end_time": "2021-11-05T16:42:40.576713Z",
     "start_time": "2021-11-05T16:42:40.563748Z"
    }
   },
   "outputs": [],
   "source": [
    "# 함수작성\n",
    "\n",
    "# 아래코드 실행하여 최고점수 100 출력\n",
    "# max_score = get_max_score(korean, english, mathematics, science)\n",
    "# print('높은점수: ', max_score)\n",
    "\n",
    "# 아래코드 실행하여 최고점수 91 출력\n",
    "# max_score = get_max_score(english, science)\n",
    "# print('높은점수: ', max_score)"
   ]
  },
  {
   "cell_type": "markdown",
   "metadata": {},
   "source": [
    "- **Question:** 입력의 갯수는 정해지지 않았으나 모든 입력의 평균값을 계산해주는 함수를 만드시고, 임의의 입력이 2개일때 그리고 입력이 5개일때 평균값을 출력하시오"
   ]
  },
  {
   "cell_type": "code",
   "execution_count": null,
   "metadata": {
    "ExecuteTime": {
     "end_time": "2021-10-07T04:07:33.285141Z",
     "start_time": "2021-10-07T04:07:33.267595Z"
    }
   },
   "outputs": [],
   "source": []
  },
  {
   "cell_type": "markdown",
   "metadata": {},
   "source": [
    "## 키워드인수 활용\n",
    "\n",
    "- **키워드 인수(Keyword Argument):** 함수의 값 입력시 매개변수의 위치와 용도를 함께 기억해야하지만, 각 인수마다 이름을 붙여 그럴 필요를 줄여줌\n",
    "- 키워드 인수 사용시 매개변수의 입력 순서를 맞출 필요가 없음\n",
    "\n",
    "```python\n",
    "def 함수이름(키워드=값):\n",
    "    문장\n",
    "```"
   ]
  },
  {
   "cell_type": "code",
   "execution_count": 46,
   "metadata": {
    "ExecuteTime": {
     "end_time": "2021-11-05T16:42:40.591673Z",
     "start_time": "2021-11-05T16:42:40.577710Z"
    }
   },
   "outputs": [],
   "source": [
    "# 키워드 인수를 사용하여 입력값을 고정 가능\n"
   ]
  },
  {
   "cell_type": "code",
   "execution_count": 47,
   "metadata": {
    "ExecuteTime": {
     "end_time": "2021-11-05T16:42:40.606632Z",
     "start_time": "2021-11-05T16:42:40.592670Z"
    }
   },
   "outputs": [
    {
     "name": "stdout",
     "output_type": "stream",
     "text": [
      "이름:  KK\n",
      "나이:  30\n",
      "주소:  서울시 용산구\n"
     ]
    }
   ],
   "source": [
    "# 위 함수 사용하여 본인 이름, 나이, 주소를 출력\n"
   ]
  },
  {
   "cell_type": "code",
   "execution_count": 48,
   "metadata": {
    "ExecuteTime": {
     "end_time": "2021-11-05T16:42:40.621593Z",
     "start_time": "2021-11-05T16:42:40.607629Z"
    }
   },
   "outputs": [
    {
     "name": "stdout",
     "output_type": "stream",
     "text": [
      "이름:  서울시 용산구\n",
      "나이:  KK\n",
      "주소:  30\n"
     ]
    }
   ],
   "source": [
    "# 입력값의 위치를 바꾸면 결과도 변경\n"
   ]
  },
  {
   "cell_type": "code",
   "execution_count": 49,
   "metadata": {
    "ExecuteTime": {
     "end_time": "2021-11-05T16:42:40.636552Z",
     "start_time": "2021-11-05T16:42:40.622590Z"
    }
   },
   "outputs": [
    {
     "name": "stdout",
     "output_type": "stream",
     "text": [
      "이름:  KK\n",
      "나이:  30\n",
      "주소:  서울시 용산구\n"
     ]
    }
   ],
   "source": [
    "# 입력값의 위치를 바꾸더라도 결과가 달라지지 않도록 고정 가능\n"
   ]
  },
  {
   "cell_type": "code",
   "execution_count": 50,
   "metadata": {
    "ExecuteTime": {
     "end_time": "2021-11-05T16:42:40.651513Z",
     "start_time": "2021-11-05T16:42:40.637550Z"
    }
   },
   "outputs": [
    {
     "name": "stdout",
     "output_type": "stream",
     "text": [
      "이름:  KK\n",
      "나이:  30\n",
      "주소:  서울시 용산구\n"
     ]
    }
   ],
   "source": [
    "# 다양한 방식으로 사용 가능\n"
   ]
  },
  {
   "cell_type": "markdown",
   "metadata": {},
   "source": [
    "## 딕셔너리인수 활용\n",
    "\n",
    "- 매개변수가 많아지게 되면 함수의 가로 길이가 길어져 가독성이 떨어지고 입력을 이해하기 어려움\n",
    "- **딕셔너리 언패킹(Dictionary Unpacking):** 키와 값으로 이루어진 딕셔너리 활용 함수 입력 제어\n",
    "- 함수의 매개변수 이름과 갯수가 딕션너리의 키의 이름과 갯수가 같아야 함"
   ]
  },
  {
   "cell_type": "code",
   "execution_count": 51,
   "metadata": {
    "ExecuteTime": {
     "end_time": "2021-11-05T16:42:40.666472Z",
     "start_time": "2021-11-05T16:42:40.653507Z"
    }
   },
   "outputs": [],
   "source": [
    "def personal_info(name, age, address):\n",
    "    print('이름: ', name)\n",
    "    print('나이: ', age)\n",
    "    print('주소: ', address)"
   ]
  },
  {
   "cell_type": "code",
   "execution_count": 52,
   "metadata": {
    "ExecuteTime": {
     "end_time": "2021-11-05T16:42:40.681432Z",
     "start_time": "2021-11-05T16:42:40.667470Z"
    }
   },
   "outputs": [
    {
     "name": "stdout",
     "output_type": "stream",
     "text": [
      "이름:  KK\n",
      "나이:  30\n",
      "주소:  서울시 용산구\n"
     ]
    }
   ],
   "source": [
    "personal_info(name='KK', address='서울시 용산구', age=30)"
   ]
  },
  {
   "cell_type": "code",
   "execution_count": 53,
   "metadata": {
    "ExecuteTime": {
     "end_time": "2021-11-05T16:42:40.696392Z",
     "start_time": "2021-11-05T16:42:40.682430Z"
    }
   },
   "outputs": [],
   "source": [
    "x = {'name': 'KK', 'age': 30, 'address': '서울시 용산구'}"
   ]
  },
  {
   "cell_type": "code",
   "execution_count": 54,
   "metadata": {
    "ExecuteTime": {
     "end_time": "2021-11-05T16:42:40.711353Z",
     "start_time": "2021-11-05T16:42:40.697391Z"
    }
   },
   "outputs": [
    {
     "name": "stdout",
     "output_type": "stream",
     "text": [
      "이름:  KK\n",
      "나이:  30\n",
      "주소:  서울시 용산구\n"
     ]
    }
   ],
   "source": [
    "# 임의의 딕셔너리로 입력값을 반영 가능\n"
   ]
  },
  {
   "cell_type": "code",
   "execution_count": 55,
   "metadata": {
    "ExecuteTime": {
     "end_time": "2021-11-05T16:42:40.726313Z",
     "start_time": "2021-11-05T16:42:40.712351Z"
    }
   },
   "outputs": [],
   "source": [
    "# 임의의 딕셔너리라도 입력값의 갯수는 함수의 입력 갯수와 같아야 함\n"
   ]
  },
  {
   "cell_type": "code",
   "execution_count": 56,
   "metadata": {
    "ExecuteTime": {
     "end_time": "2021-11-05T16:42:40.741273Z",
     "start_time": "2021-11-05T16:42:40.727311Z"
    }
   },
   "outputs": [
    {
     "name": "stdout",
     "output_type": "stream",
     "text": [
      "이름:  KK\n",
      "나이:  30\n",
      "주소:  서울시 용산구\n"
     ]
    }
   ],
   "source": [
    "# 다양하게 입력 가능\n"
   ]
  },
  {
   "cell_type": "code",
   "execution_count": 57,
   "metadata": {
    "ExecuteTime": {
     "end_time": "2021-11-05T16:42:40.756233Z",
     "start_time": "2021-11-05T16:42:40.742271Z"
    }
   },
   "outputs": [
    {
     "name": "stdout",
     "output_type": "stream",
     "text": [
      "이름:  name\n",
      "나이:  age\n",
      "주소:  address\n"
     ]
    }
   ],
   "source": [
    "# 일반 변수로 입력시 key만 인식\n"
   ]
  },
  {
   "cell_type": "markdown",
   "metadata": {},
   "source": [
    "- ****kwargs:** 매개변수 이름은 자유지만 관례적으로 keyword arguments를 줄여서 표현\n",
    "\n",
    "```python\n",
    "def 함수이름(**kwargs):\n",
    "    문장\n",
    "```"
   ]
  },
  {
   "cell_type": "code",
   "execution_count": 58,
   "metadata": {
    "ExecuteTime": {
     "end_time": "2021-11-05T16:42:40.772190Z",
     "start_time": "2021-11-05T16:42:40.757230Z"
    }
   },
   "outputs": [],
   "source": [
    "# 키워드 인수의 갯수에 무관하게 함수 구성 가능\n"
   ]
  },
  {
   "cell_type": "code",
   "execution_count": 59,
   "metadata": {
    "ExecuteTime": {
     "end_time": "2021-11-05T16:42:40.787150Z",
     "start_time": "2021-11-05T16:42:40.773187Z"
    }
   },
   "outputs": [
    {
     "name": "stdout",
     "output_type": "stream",
     "text": [
      "name:KK\n"
     ]
    }
   ],
   "source": [
    "# 키워드 인수가 하나일 때 출력\n"
   ]
  },
  {
   "cell_type": "code",
   "execution_count": 60,
   "metadata": {
    "ExecuteTime": {
     "end_time": "2021-11-05T16:42:40.802110Z",
     "start_time": "2021-11-05T16:42:40.788147Z"
    }
   },
   "outputs": [
    {
     "name": "stdout",
     "output_type": "stream",
     "text": [
      "name:KK\n",
      "age:30\n",
      "address:서울시 용산구\n"
     ]
    }
   ],
   "source": [
    "# 키워드 인수가 세개일 때 출력\n"
   ]
  },
  {
   "cell_type": "code",
   "execution_count": 61,
   "metadata": {
    "ExecuteTime": {
     "end_time": "2021-11-05T16:42:40.817069Z",
     "start_time": "2021-11-05T16:42:40.803108Z"
    }
   },
   "outputs": [
    {
     "name": "stdout",
     "output_type": "stream",
     "text": [
      "name:KK\n",
      "age:30\n",
      "address:서울시 용산구\n"
     ]
    }
   ],
   "source": [
    "# 다양하게 입력 가능\n"
   ]
  },
  {
   "cell_type": "code",
   "execution_count": 62,
   "metadata": {
    "ExecuteTime": {
     "end_time": "2021-11-05T16:42:40.832029Z",
     "start_time": "2021-11-05T16:42:40.818067Z"
    }
   },
   "outputs": [
    {
     "name": "stdout",
     "output_type": "stream",
     "text": [
      "name:KK\n",
      "age:30\n",
      "address:서울시 용산구\n",
      "temp:블라블라\n"
     ]
    }
   ],
   "source": [
    "# 다양하게 입력 가능\n"
   ]
  },
  {
   "cell_type": "code",
   "execution_count": 63,
   "metadata": {
    "ExecuteTime": {
     "end_time": "2021-11-05T16:42:40.846990Z",
     "start_time": "2021-11-05T16:42:40.833028Z"
    }
   },
   "outputs": [],
   "source": [
    "# 조건문이 포함된 함수에 키워드 인수 활용 가능\n"
   ]
  },
  {
   "cell_type": "code",
   "execution_count": 64,
   "metadata": {
    "ExecuteTime": {
     "end_time": "2021-11-05T16:42:40.861950Z",
     "start_time": "2021-11-05T16:42:40.847987Z"
    }
   },
   "outputs": [
    {
     "name": "stdout",
     "output_type": "stream",
     "text": [
      "이름:  KK\n",
      "나이:  30\n",
      "주소:  서울시 용산구\n"
     ]
    }
   ],
   "source": [
    "# 세개의 키워드 인수 활용 가능\n"
   ]
  },
  {
   "cell_type": "code",
   "execution_count": 65,
   "metadata": {
    "ExecuteTime": {
     "end_time": "2021-11-05T16:42:40.876910Z",
     "start_time": "2021-11-05T16:42:40.862947Z"
    }
   },
   "outputs": [
    {
     "name": "stdout",
     "output_type": "stream",
     "text": [
      "이름:  KK\n",
      "나이:  30\n",
      "주소:  서울시 용산구\n"
     ]
    }
   ],
   "source": [
    "# 네개의 키워드 인수 활용 가능\n"
   ]
  },
  {
   "cell_type": "code",
   "execution_count": 66,
   "metadata": {
    "ExecuteTime": {
     "end_time": "2021-11-05T16:42:40.891870Z",
     "start_time": "2021-11-05T16:42:40.877911Z"
    }
   },
   "outputs": [
    {
     "name": "stdout",
     "output_type": "stream",
     "text": [
      "{'name': 'KK'}\n"
     ]
    }
   ],
   "source": [
    "# 입력을 자동으로 dictionary로 인식\n"
   ]
  },
  {
   "cell_type": "code",
   "execution_count": 67,
   "metadata": {
    "ExecuteTime": {
     "end_time": "2021-11-05T16:42:40.907827Z",
     "start_time": "2021-11-05T16:42:40.899848Z"
    }
   },
   "outputs": [
    {
     "name": "stdout",
     "output_type": "stream",
     "text": [
      "{'name': 'KK', 'age': 30}\n"
     ]
    }
   ],
   "source": [
    "# 입력을 자동으로 dictionary로 인식\n"
   ]
  },
  {
   "cell_type": "code",
   "execution_count": 68,
   "metadata": {
    "ExecuteTime": {
     "end_time": "2021-11-05T16:42:40.922788Z",
     "start_time": "2021-11-05T16:42:40.910819Z"
    }
   },
   "outputs": [],
   "source": [
    "# 위치인수와 키워드인수를 함께 사용 가능\n"
   ]
  },
  {
   "cell_type": "code",
   "execution_count": 69,
   "metadata": {
    "ExecuteTime": {
     "end_time": "2021-11-05T16:42:40.937747Z",
     "start_time": "2021-11-05T16:42:40.923784Z"
    }
   },
   "outputs": [
    {
     "name": "stdout",
     "output_type": "stream",
     "text": [
      "KK\n",
      "{}\n"
     ]
    }
   ],
   "source": [
    "personal_info('KK')"
   ]
  },
  {
   "cell_type": "code",
   "execution_count": 70,
   "metadata": {
    "ExecuteTime": {
     "end_time": "2021-11-05T16:42:40.952708Z",
     "start_time": "2021-11-05T16:42:40.938745Z"
    }
   },
   "outputs": [
    {
     "name": "stdout",
     "output_type": "stream",
     "text": [
      "KK\n",
      "{'age': 30, 'address': '서울시 용산구'}\n"
     ]
    }
   ],
   "source": [
    "# 입력 갯수에 따라 위치 인수와 키워드 인수로 자동 인식\n"
   ]
  },
  {
   "cell_type": "code",
   "execution_count": 71,
   "metadata": {
    "ExecuteTime": {
     "end_time": "2021-11-05T16:42:40.967667Z",
     "start_time": "2021-11-05T16:42:40.953705Z"
    }
   },
   "outputs": [
    {
     "name": "stdout",
     "output_type": "stream",
     "text": [
      "KK\n",
      "{'age': 30, 'address': '서울시 용산구'}\n"
     ]
    }
   ],
   "source": [
    "# 다양하게 입력 가능\n"
   ]
  },
  {
   "cell_type": "markdown",
   "metadata": {},
   "source": [
    "## 아규먼트 입력과 딕셔너리 입력 동시 활용\n",
    "\n",
    "- 내장함수들은 보통 위치입력과 키워드입력을 함께 사용하는 편\n",
    "- 복잡한 함수의 경우 위치입력/키워드입력/딕셔너리입력 모두 사용\n",
    "- 매개변수 순서에서 \\*args, \\**kwargs 순서대로 사용해야 함\n",
    "- \\*args는 리스트를 사용하고, \\**kwargs는 딕셔너리를 사용\n",
    "\n",
    "```python\n",
    "def 함수이름(arg, *args, **kwargs):\n",
    "    문장\n",
    "```\n",
    "\n",
    "![Description_Print](Image/Description_Print.png)"
   ]
  },
  {
   "cell_type": "code",
   "execution_count": 72,
   "metadata": {
    "ExecuteTime": {
     "end_time": "2021-11-05T16:42:40.982627Z",
     "start_time": "2021-11-05T16:42:40.968665Z"
    }
   },
   "outputs": [
    {
     "name": "stdout",
     "output_type": "stream",
     "text": [
      "1:2:3"
     ]
    }
   ],
   "source": [
    "# 다양한 입력 결합 가능\n"
   ]
  },
  {
   "cell_type": "markdown",
   "metadata": {},
   "source": [
    "## 특정 매개변수 자동입력(생략)\n",
    "\n",
    "- 함수의 매개변수에 초깃값을 할당하여 함수를 저장하면 생략 가능\n",
    "- 여러개의 입력 중 특정 입력값이 입력되지 않으면 함수내부에서 지정한 값으로 사용\n",
    "- 초깃값으로 고정된 입력은 함수입력 표현에서 뒤에 배치해야 함\n",
    "- 초깃값으로 고정되더라도 함수 활용시 매개변수에 값을 재할당해도 적용 가능\n",
    "\n",
    "```python\n",
    "def 함수이름(매개변수=값):\n",
    "    문장\n",
    "```"
   ]
  },
  {
   "cell_type": "code",
   "execution_count": 73,
   "metadata": {
    "ExecuteTime": {
     "end_time": "2021-11-05T16:42:40.997587Z",
     "start_time": "2021-11-05T16:42:40.983624Z"
    }
   },
   "outputs": [
    {
     "name": "stdout",
     "output_type": "stream",
     "text": [
      "이름:  KK\n",
      "나이:  30\n",
      "주소:  서울시 용산구\n"
     ]
    }
   ],
   "source": [
    "def personal_info(name, age, address):\n",
    "    print('이름: ', name)\n",
    "    print('나이: ', age)\n",
    "    print('주소: ', address)\n",
    "    \n",
    "personal_info('KK', 30, '서울시 용산구')"
   ]
  },
  {
   "cell_type": "code",
   "execution_count": 74,
   "metadata": {
    "ExecuteTime": {
     "end_time": "2021-11-05T16:42:41.012546Z",
     "start_time": "2021-11-05T16:42:40.998584Z"
    }
   },
   "outputs": [],
   "source": [
    "# 입력의 갯수가 맞지 않으면 에러 출력\n"
   ]
  },
  {
   "cell_type": "code",
   "execution_count": 75,
   "metadata": {
    "ExecuteTime": {
     "end_time": "2021-11-05T16:42:41.027506Z",
     "start_time": "2021-11-05T16:42:41.013544Z"
    }
   },
   "outputs": [],
   "source": [
    "# 특정 입력값을 고정 가능\n"
   ]
  },
  {
   "cell_type": "code",
   "execution_count": 76,
   "metadata": {
    "ExecuteTime": {
     "end_time": "2021-11-05T16:42:41.042468Z",
     "start_time": "2021-11-05T16:42:41.028504Z"
    }
   },
   "outputs": [
    {
     "name": "stdout",
     "output_type": "stream",
     "text": [
      "이름:  KK\n",
      "나이:  30\n",
      "주소:  비공개\n"
     ]
    }
   ],
   "source": [
    "# 고정된 입력값은 별도 입력하지 않아도 됨\n"
   ]
  },
  {
   "cell_type": "code",
   "execution_count": 77,
   "metadata": {
    "ExecuteTime": {
     "end_time": "2021-11-05T16:42:41.057427Z",
     "start_time": "2021-11-05T16:42:41.043464Z"
    }
   },
   "outputs": [
    {
     "name": "stdout",
     "output_type": "stream",
     "text": [
      "이름:  KK\n",
      "나이:  30\n",
      "주소:  서울시 용산구\n"
     ]
    }
   ],
   "source": [
    "# 고정 입력값이 있더라도 별도 입력시 별도 입력값을 우선함\n"
   ]
  },
  {
   "cell_type": "code",
   "execution_count": 78,
   "metadata": {
    "ExecuteTime": {
     "end_time": "2021-11-05T16:42:41.072387Z",
     "start_time": "2021-11-05T16:42:41.058425Z"
    }
   },
   "outputs": [],
   "source": [
    "# 고정입력값은 마지막에 와야만 함\n"
   ]
  },
  {
   "cell_type": "markdown",
   "metadata": {
    "ExecuteTime": {
     "end_time": "2021-10-02T12:44:43.217177Z",
     "start_time": "2021-10-02T12:44:43.208237Z"
    }
   },
   "source": [
    "```\n",
    "def personal_info(name, age, address='비공개'):\n",
    "def personal_info(name, age=0, address='비공개'):\n",
    "def personal_info(name='비공개', age=0, address='비공개'):\n",
    "```"
   ]
  },
  {
   "cell_type": "markdown",
   "metadata": {},
   "source": [
    "## 조건문 결합\n",
    "\n",
    "- 생각하는 조건이 참(True)이면 명령을 실행하고 거짓(False)이면 명령을 실행하지 않음"
   ]
  },
  {
   "cell_type": "code",
   "execution_count": 79,
   "metadata": {
    "ExecuteTime": {
     "end_time": "2021-11-05T16:42:41.087347Z",
     "start_time": "2021-11-05T16:42:41.073384Z"
    }
   },
   "outputs": [
    {
     "name": "stdout",
     "output_type": "stream",
     "text": [
      "짝수입니다!\n",
      "2의 배수입니다!\n"
     ]
    }
   ],
   "source": [
    "# if ~: 특정 조건을 만족하는 상황 반영\n"
   ]
  },
  {
   "cell_type": "code",
   "execution_count": 80,
   "metadata": {
    "ExecuteTime": {
     "end_time": "2021-11-05T16:42:41.103304Z",
     "start_time": "2021-11-05T16:42:41.089345Z"
    }
   },
   "outputs": [],
   "source": [
    "# 예시 출력 확인\n"
   ]
  },
  {
   "cell_type": "code",
   "execution_count": 81,
   "metadata": {
    "ExecuteTime": {
     "end_time": "2021-11-05T16:42:41.118265Z",
     "start_time": "2021-11-05T16:42:41.104301Z"
    }
   },
   "outputs": [
    {
     "name": "stdout",
     "output_type": "stream",
     "text": [
      "홀수입니다!\n"
     ]
    }
   ],
   "source": [
    "# if ~ else: 특정 조건을 만족하는 경우와 그렇지 않은 경우를 모두 반영\n"
   ]
  },
  {
   "cell_type": "code",
   "execution_count": 82,
   "metadata": {
    "ExecuteTime": {
     "end_time": "2021-11-05T16:42:41.133224Z",
     "start_time": "2021-11-05T16:42:41.119261Z"
    }
   },
   "outputs": [
    {
     "name": "stdout",
     "output_type": "stream",
     "text": [
      "짝수입니다!\n"
     ]
    }
   ],
   "source": [
    "# 예시 출력 확인\n"
   ]
  },
  {
   "cell_type": "code",
   "execution_count": 83,
   "metadata": {
    "ExecuteTime": {
     "end_time": "2021-11-05T16:42:41.148184Z",
     "start_time": "2021-11-05T16:42:41.134222Z"
    }
   },
   "outputs": [
    {
     "name": "stdout",
     "output_type": "stream",
     "text": [
      "적당한 양수\n"
     ]
    }
   ],
   "source": [
    "# if ~ elif ~ else: 여러가지 조건을 중첩하는 경우 반영\n"
   ]
  },
  {
   "cell_type": "code",
   "execution_count": 84,
   "metadata": {
    "ExecuteTime": {
     "end_time": "2021-11-05T16:42:41.163143Z",
     "start_time": "2021-11-05T16:42:41.149181Z"
    }
   },
   "outputs": [
    {
     "name": "stdout",
     "output_type": "stream",
     "text": [
      "큰 양수\n"
     ]
    }
   ],
   "source": [
    "# 예시 출력 확인\n"
   ]
  },
  {
   "cell_type": "code",
   "execution_count": 85,
   "metadata": {
    "ExecuteTime": {
     "end_time": "2021-11-05T16:42:41.178103Z",
     "start_time": "2021-11-05T16:42:41.164142Z"
    }
   },
   "outputs": [
    {
     "name": "stdout",
     "output_type": "stream",
     "text": [
      "음수\n"
     ]
    }
   ],
   "source": [
    "# 예시 출력 확인\n"
   ]
  },
  {
   "cell_type": "code",
   "execution_count": 86,
   "metadata": {
    "ExecuteTime": {
     "end_time": "2021-11-05T16:42:41.193064Z",
     "start_time": "2021-11-05T16:42:41.179101Z"
    }
   },
   "outputs": [
    {
     "name": "stdout",
     "output_type": "stream",
     "text": [
      "0에 가깝구만유!\n"
     ]
    }
   ],
   "source": [
    "# 예시 출력 확인\n"
   ]
  },
  {
   "cell_type": "code",
   "execution_count": 87,
   "metadata": {
    "ExecuteTime": {
     "end_time": "2021-11-05T16:42:41.208024Z",
     "start_time": "2021-11-05T16:42:41.196057Z"
    }
   },
   "outputs": [
    {
     "name": "stdout",
     "output_type": "stream",
     "text": [
      "0에 가깝구만유!\n"
     ]
    }
   ],
   "source": [
    "# 함수와 결합\n"
   ]
  },
  {
   "cell_type": "code",
   "execution_count": 88,
   "metadata": {
    "ExecuteTime": {
     "end_time": "2021-11-05T16:42:41.222984Z",
     "start_time": "2021-11-05T16:42:41.209022Z"
    }
   },
   "outputs": [
    {
     "name": "stdout",
     "output_type": "stream",
     "text": [
      "큰 양수\n"
     ]
    }
   ],
   "source": [
    "# 1000 입력 후 결과 확인\n"
   ]
  },
  {
   "cell_type": "code",
   "execution_count": 89,
   "metadata": {
    "ExecuteTime": {
     "end_time": "2021-11-05T16:42:41.237944Z",
     "start_time": "2021-11-05T16:42:41.224980Z"
    }
   },
   "outputs": [
    {
     "name": "stdout",
     "output_type": "stream",
     "text": [
      "음수\n"
     ]
    }
   ],
   "source": [
    "# -1000 입력 후 결과 확인\n"
   ]
  },
  {
   "cell_type": "code",
   "execution_count": 90,
   "metadata": {
    "ExecuteTime": {
     "end_time": "2021-11-05T16:42:41.252904Z",
     "start_time": "2021-11-05T16:42:41.238942Z"
    }
   },
   "outputs": [
    {
     "name": "stdout",
     "output_type": "stream",
     "text": [
      "0에 가깝구만유!\n"
     ]
    }
   ],
   "source": [
    "# 5 입력 후 결과 확인\n"
   ]
  },
  {
   "cell_type": "markdown",
   "metadata": {},
   "source": [
    "## 반복문 결합\n",
    "\n",
    "- 반복 횟수는 입력된 항목의 원소 개수만큼으로 보통 유한개"
   ]
  },
  {
   "cell_type": "code",
   "execution_count": 91,
   "metadata": {
    "ExecuteTime": {
     "end_time": "2021-11-05T16:42:41.267864Z",
     "start_time": "2021-11-05T16:42:41.253901Z"
    }
   },
   "outputs": [
    {
     "name": "stdout",
     "output_type": "stream",
     "text": [
      "1\n",
      "2\n",
      "3\n",
      "5\n",
      "7\n",
      "10\n"
     ]
    }
   ],
   "source": [
    "# for문으로 숫자 출력\n"
   ]
  },
  {
   "cell_type": "code",
   "execution_count": 92,
   "metadata": {
    "ExecuteTime": {
     "end_time": "2021-11-05T16:42:41.282824Z",
     "start_time": "2021-11-05T16:42:41.268862Z"
    }
   },
   "outputs": [
    {
     "name": "stdout",
     "output_type": "stream",
     "text": [
      "5\n",
      "7\n",
      "10\n"
     ]
    }
   ],
   "source": [
    "# if문과의 결합\n"
   ]
  },
  {
   "cell_type": "code",
   "execution_count": 93,
   "metadata": {
    "ExecuteTime": {
     "end_time": "2021-11-05T16:42:41.297783Z",
     "start_time": "2021-11-05T16:42:41.283821Z"
    }
   },
   "outputs": [
    {
     "name": "stdout",
     "output_type": "stream",
     "text": [
      "5\n",
      "10\n",
      "125\n",
      "\n",
      "\n",
      "7\n",
      "14\n",
      "343\n",
      "\n",
      "\n",
      "10\n",
      "20\n",
      "1000\n",
      "\n",
      "\n"
     ]
    }
   ],
   "source": [
    "# if문과의 결합\n"
   ]
  },
  {
   "cell_type": "code",
   "execution_count": 94,
   "metadata": {
    "ExecuteTime": {
     "end_time": "2021-11-05T16:42:41.312744Z",
     "start_time": "2021-11-05T16:42:41.298782Z"
    }
   },
   "outputs": [
    {
     "name": "stdout",
     "output_type": "stream",
     "text": [
      "5\n",
      "7\n",
      "10\n"
     ]
    },
    {
     "data": {
      "text/plain": [
       "[10, 14, 20]"
      ]
     },
     "execution_count": 94,
     "metadata": {},
     "output_type": "execute_result"
    }
   ],
   "source": [
    "# 값의 저장\n",
    "blank = []\n",
    "for num in num_list:\n",
    "    if num >= 5:\n",
    "        print(num)\n",
    "        blank.append(num*2) \n",
    "\n",
    "blank"
   ]
  },
  {
   "cell_type": "code",
   "execution_count": 95,
   "metadata": {
    "ExecuteTime": {
     "end_time": "2021-11-05T16:42:41.327704Z",
     "start_time": "2021-11-05T16:42:41.313741Z"
    }
   },
   "outputs": [
    {
     "data": {
      "text/plain": [
       "[10, 14, 20]"
      ]
     },
     "execution_count": 95,
     "metadata": {},
     "output_type": "execute_result"
    }
   ],
   "source": [
    "# 함수와 결합\n"
   ]
  },
  {
   "cell_type": "code",
   "execution_count": 96,
   "metadata": {
    "ExecuteTime": {
     "end_time": "2021-11-05T16:42:41.342664Z",
     "start_time": "2021-11-05T16:42:41.328702Z"
    }
   },
   "outputs": [
    {
     "data": {
      "text/plain": [
       "[6, 10, 14, 18, 22]"
      ]
     },
     "execution_count": 96,
     "metadata": {},
     "output_type": "execute_result"
    }
   ],
   "source": [
    "# 예시 결과 확인\n"
   ]
  },
  {
   "cell_type": "code",
   "execution_count": 97,
   "metadata": {
    "ExecuteTime": {
     "end_time": "2021-11-05T16:42:41.357658Z",
     "start_time": "2021-11-05T16:42:41.343661Z"
    }
   },
   "outputs": [
    {
     "data": {
      "text/plain": [
       "[22]"
      ]
     },
     "execution_count": 97,
     "metadata": {},
     "output_type": "execute_result"
    }
   ],
   "source": [
    "# 예시 결과 확인\n"
   ]
  },
  {
   "cell_type": "code",
   "execution_count": 98,
   "metadata": {
    "ExecuteTime": {
     "end_time": "2021-11-05T16:42:41.372583Z",
     "start_time": "2021-11-05T16:42:41.358624Z"
    }
   },
   "outputs": [
    {
     "name": "stdout",
     "output_type": "stream",
     "text": [
      "1\n",
      "2\n",
      "3\n",
      "4\n"
     ]
    }
   ],
   "source": [
    "# while ~\n",
    "num = 1\n",
    "\n",
    "while num < 5:\n",
    "    print(num)\n",
    "    num = num + 1\n",
    "    "
   ]
  },
  {
   "cell_type": "code",
   "execution_count": 99,
   "metadata": {
    "ExecuteTime": {
     "end_time": "2021-11-05T16:42:41.387544Z",
     "start_time": "2021-11-05T16:42:41.373582Z"
    }
   },
   "outputs": [
    {
     "name": "stdout",
     "output_type": "stream",
     "text": [
      "1\n",
      "2\n",
      "3\n",
      "4\n"
     ]
    }
   ],
   "source": [
    "# for + if 를 결합하여 결과 복제\n"
   ]
  },
  {
   "cell_type": "code",
   "execution_count": 100,
   "metadata": {
    "ExecuteTime": {
     "end_time": "2021-11-05T16:42:41.402536Z",
     "start_time": "2021-11-05T16:42:41.388542Z"
    }
   },
   "outputs": [
    {
     "name": "stdout",
     "output_type": "stream",
     "text": [
      "before:  1\n",
      "after:  2\n",
      "\n",
      "\n",
      "before:  2\n",
      "after:  4\n",
      "\n",
      "\n",
      "before:  3\n",
      "after:  6\n",
      "\n",
      "\n",
      "before:  4\n",
      "after:  8\n",
      "\n",
      "\n"
     ]
    }
   ],
   "source": [
    "num = 1\n",
    "\n",
    "while num < 5:\n",
    "    print('before: ', num)\n",
    "    print('after: ', num*2)\n",
    "    print('\\n')\n",
    "    num = num + 1"
   ]
  },
  {
   "cell_type": "code",
   "execution_count": 101,
   "metadata": {
    "ExecuteTime": {
     "end_time": "2021-11-05T16:42:41.417491Z",
     "start_time": "2021-11-05T16:42:41.403501Z"
    }
   },
   "outputs": [
    {
     "name": "stdout",
     "output_type": "stream",
     "text": [
      "before:  1\n",
      "after:  2\n",
      "\n",
      "\n",
      "before:  2\n",
      "after:  4\n",
      "\n",
      "\n",
      "before:  3\n",
      "after:  6\n",
      "\n",
      "\n",
      "before:  4\n",
      "after:  8\n",
      "\n",
      "\n"
     ]
    }
   ],
   "source": [
    "# 함수와의 결합\n"
   ]
  },
  {
   "cell_type": "code",
   "execution_count": 102,
   "metadata": {
    "ExecuteTime": {
     "end_time": "2021-11-05T16:42:41.432451Z",
     "start_time": "2021-11-05T16:42:41.418462Z"
    }
   },
   "outputs": [
    {
     "name": "stdout",
     "output_type": "stream",
     "text": [
      "before:  2\n",
      "after:  4\n",
      "\n",
      "\n",
      "before:  3\n",
      "after:  6\n",
      "\n",
      "\n",
      "before:  4\n",
      "after:  8\n",
      "\n",
      "\n"
     ]
    }
   ],
   "source": [
    "# 예시 결과 확인\n"
   ]
  },
  {
   "cell_type": "code",
   "execution_count": 103,
   "metadata": {
    "ExecuteTime": {
     "end_time": "2021-11-05T16:42:41.447410Z",
     "start_time": "2021-11-05T16:42:41.433421Z"
    }
   },
   "outputs": [
    {
     "name": "stdout",
     "output_type": "stream",
     "text": [
      "[2]\n",
      "[2, 4]\n",
      "[2, 4, 6]\n",
      "[2, 4, 6, 8]\n",
      "[2, 4, 6, 8, 10]\n"
     ]
    }
   ],
   "source": [
    "# while ~ break: 특정 상황에서 조건문을 빠져나오기 위해 break 명령을 사용\n",
    "num = 1\n",
    "\n",
    "blank = []\n",
    "while True:\n",
    "    blank.append(num*2)\n",
    "    print(blank)\n",
    "    if len(blank) == 5:\n",
    "        break\n",
    "    num = num + 1"
   ]
  },
  {
   "cell_type": "code",
   "execution_count": 104,
   "metadata": {
    "ExecuteTime": {
     "end_time": "2021-11-05T16:42:41.462343Z",
     "start_time": "2021-11-05T16:42:41.448382Z"
    }
   },
   "outputs": [
    {
     "name": "stdout",
     "output_type": "stream",
     "text": [
      "[2]\n",
      "[2, 4]\n",
      "[2, 4, 6]\n",
      "[2, 4, 6, 8]\n",
      "[2, 4, 6, 8, 10]\n"
     ]
    }
   ],
   "source": [
    "# 함수와의 결합\n"
   ]
  },
  {
   "cell_type": "code",
   "execution_count": 105,
   "metadata": {
    "ExecuteTime": {
     "end_time": "2021-11-05T16:42:41.477303Z",
     "start_time": "2021-11-05T16:42:41.463341Z"
    }
   },
   "outputs": [
    {
     "name": "stdout",
     "output_type": "stream",
     "text": [
      "[6]\n",
      "[6, 8]\n",
      "[6, 8, 10]\n",
      "[6, 8, 10, 12]\n",
      "[6, 8, 10, 12, 14]\n"
     ]
    }
   ],
   "source": [
    "# 예시 결과 확인\n"
   ]
  },
  {
   "cell_type": "code",
   "execution_count": 106,
   "metadata": {
    "ExecuteTime": {
     "end_time": "2021-11-05T16:42:41.492295Z",
     "start_time": "2021-11-05T16:42:41.478301Z"
    }
   },
   "outputs": [
    {
     "name": "stdout",
     "output_type": "stream",
     "text": [
      "[1, 2, 3, 4, 5, 6, 7, 8, 9, 10, 11, 12, 13, 14, 15, 16, 17, 18, 19, 20, 21, 22, 23, 24, 25, 26, 27, 28, 29, 30, 31, 32, 33, 34, 35, 36, 37, 38, 39, 40, 41, 42, 43, 44, 45]\n",
      "[16, 25, 22, 14, 32, 13, 35, 27, 3, 26, 24, 37, 28, 9, 4, 30, 41, 42, 36, 17, 21, 6, 34, 44, 33, 19, 45, 12, 11, 2, 38, 40, 10, 5, 20, 8, 1, 7, 29, 15, 31, 39, 23, 18, 43]\n"
     ]
    }
   ],
   "source": [
    "# 랜덤 값 생성 내장함수 사용하여 임의 값 출력\n"
   ]
  },
  {
   "cell_type": "code",
   "execution_count": 107,
   "metadata": {
    "ExecuteTime": {
     "end_time": "2021-11-05T16:42:41.507251Z",
     "start_time": "2021-11-05T16:42:41.493261Z"
    }
   },
   "outputs": [
    {
     "name": "stdout",
     "output_type": "stream",
     "text": [
      "None\n"
     ]
    }
   ],
   "source": [
    "# 계산값을 random.shuffle에 바로 사용시 사용 불가\n"
   ]
  },
  {
   "cell_type": "code",
   "execution_count": 108,
   "metadata": {
    "ExecuteTime": {
     "end_time": "2021-11-05T16:42:41.522184Z",
     "start_time": "2021-11-05T16:42:41.508222Z"
    }
   },
   "outputs": [
    {
     "name": "stdout",
     "output_type": "stream",
     "text": [
      "1\n",
      "2\n",
      "1\n",
      "1\n",
      "9\n",
      "9\n",
      "[1, 2, 1, 1, 9, 9]\n"
     ]
    }
   ],
   "source": [
    "# 중복된 값이 가능한 로또 번호 6개 출력\n"
   ]
  },
  {
   "cell_type": "markdown",
   "metadata": {},
   "source": [
    "- **Question:** 위 로또번호 생성기에, 1) continue/break 문을 사용하여 중복되지 않는 번호 6개를 출력하는 함수명 \"lotto\"를 만들고, 2) 아래 코드 실행시 10이내의 정수 중 중복되지 않는 로또번호가 6개를 생성하시오\n",
    "\n",
    "```python\n",
    "y = lotto(10)\n",
    "y\n",
    "```"
   ]
  },
  {
   "cell_type": "code",
   "execution_count": 109,
   "metadata": {
    "ExecuteTime": {
     "end_time": "2021-11-05T16:42:41.537176Z",
     "start_time": "2021-11-05T16:42:41.523181Z"
    }
   },
   "outputs": [],
   "source": [
    "# 로또 함수 작성\n",
    "\n"
   ]
  },
  {
   "cell_type": "markdown",
   "metadata": {},
   "source": [
    "## 파이썬 내장함수 활용\n",
    "\n",
    "- def를 사용해서 python언어로 이미 anaconda에 만들어진 함수"
   ]
  },
  {
   "cell_type": "code",
   "execution_count": 110,
   "metadata": {
    "ExecuteTime": {
     "end_time": "2021-11-05T16:42:41.552135Z",
     "start_time": "2021-11-05T16:42:41.538142Z"
    }
   },
   "outputs": [
    {
     "data": {
      "text/plain": [
       "55"
      ]
     },
     "execution_count": 110,
     "metadata": {},
     "output_type": "execute_result"
    }
   ],
   "source": [
    "# 합계\n",
    "samples = [1,2,3,4,5,6,7,8,9,10]\n",
    "sum(samples)"
   ]
  },
  {
   "cell_type": "code",
   "execution_count": 111,
   "metadata": {
    "ExecuteTime": {
     "end_time": "2021-11-05T16:42:41.567095Z",
     "start_time": "2021-11-05T16:42:41.553102Z"
    }
   },
   "outputs": [
    {
     "name": "stdout",
     "output_type": "stream",
     "text": [
      "[1, 2, 3, 4, 5, 6, 7, 8, 9, 10]\n",
      "55\n"
     ]
    }
   ],
   "source": [
    "# 합계 내장함수와 동일한 결과가 나오는 반복문 생성\n"
   ]
  },
  {
   "cell_type": "code",
   "execution_count": 112,
   "metadata": {
    "ExecuteTime": {
     "end_time": "2021-11-05T16:42:41.582052Z",
     "start_time": "2021-11-05T16:42:41.568062Z"
    }
   },
   "outputs": [
    {
     "data": {
      "text/plain": [
       "10"
      ]
     },
     "execution_count": 112,
     "metadata": {},
     "output_type": "execute_result"
    }
   ],
   "source": [
    "# 최대값\n"
   ]
  },
  {
   "cell_type": "code",
   "execution_count": 113,
   "metadata": {
    "ExecuteTime": {
     "end_time": "2021-11-05T16:42:41.596984Z",
     "start_time": "2021-11-05T16:42:41.583021Z"
    }
   },
   "outputs": [
    {
     "data": {
      "text/plain": [
       "1"
      ]
     },
     "execution_count": 113,
     "metadata": {},
     "output_type": "execute_result"
    }
   ],
   "source": [
    "# 최소값\n"
   ]
  },
  {
   "cell_type": "code",
   "execution_count": 114,
   "metadata": {
    "ExecuteTime": {
     "end_time": "2021-11-05T16:42:41.611944Z",
     "start_time": "2021-11-05T16:42:41.597982Z"
    }
   },
   "outputs": [
    {
     "data": {
      "text/plain": [
       "10"
      ]
     },
     "execution_count": 114,
     "metadata": {},
     "output_type": "execute_result"
    }
   ],
   "source": [
    "# 길이\n"
   ]
  },
  {
   "cell_type": "code",
   "execution_count": 115,
   "metadata": {
    "ExecuteTime": {
     "end_time": "2021-11-05T16:42:41.626903Z",
     "start_time": "2021-11-05T16:42:41.612942Z"
    }
   },
   "outputs": [
    {
     "name": "stdout",
     "output_type": "stream",
     "text": [
      "10\n",
      "11\n",
      "12\n",
      "13\n",
      "14\n",
      "15\n",
      "16\n",
      "17\n",
      "18\n",
      "19\n"
     ]
    }
   ],
   "source": [
    "samples = list(range(10,20))\n",
    "\n",
    "for num in samples:\n",
    "    print(num)"
   ]
  },
  {
   "cell_type": "code",
   "execution_count": 116,
   "metadata": {
    "ExecuteTime": {
     "end_time": "2021-11-05T16:42:41.641863Z",
     "start_time": "2021-11-05T16:42:41.627901Z"
    }
   },
   "outputs": [
    {
     "name": "stdout",
     "output_type": "stream",
     "text": [
      "0 10\n",
      "1 11\n",
      "2 12\n",
      "3 13\n",
      "4 14\n",
      "5 15\n",
      "6 16\n",
      "7 17\n",
      "8 18\n",
      "9 19\n"
     ]
    }
   ],
   "source": [
    "# 개별 순서와 값을 반환하는 함수 작성\n"
   ]
  },
  {
   "cell_type": "code",
   "execution_count": 117,
   "metadata": {
    "ExecuteTime": {
     "end_time": "2021-11-05T16:42:41.656823Z",
     "start_time": "2021-11-05T16:42:41.642860Z"
    }
   },
   "outputs": [
    {
     "data": {
      "text/plain": [
       "range(0, 10)"
      ]
     },
     "execution_count": 117,
     "metadata": {},
     "output_type": "execute_result"
    }
   ],
   "source": [
    "# 특정 범위의 배열을 만드는 함수: range(시작, 끝)\n"
   ]
  },
  {
   "cell_type": "code",
   "execution_count": 118,
   "metadata": {
    "ExecuteTime": {
     "end_time": "2021-11-05T16:42:41.671783Z",
     "start_time": "2021-11-05T16:42:41.657821Z"
    }
   },
   "outputs": [
    {
     "name": "stdout",
     "output_type": "stream",
     "text": [
      "0\n",
      "1\n",
      "2\n",
      "3\n",
      "4\n",
      "5\n",
      "6\n",
      "7\n",
      "8\n",
      "9\n"
     ]
    }
   ],
   "source": [
    "# range 내장함수 사용 값 출력\n"
   ]
  },
  {
   "cell_type": "code",
   "execution_count": 119,
   "metadata": {
    "ExecuteTime": {
     "end_time": "2021-11-05T16:42:41.687741Z",
     "start_time": "2021-11-05T16:42:41.672781Z"
    }
   },
   "outputs": [
    {
     "data": {
      "text/plain": [
       "3"
      ]
     },
     "execution_count": 119,
     "metadata": {},
     "output_type": "execute_result"
    }
   ],
   "source": [
    "# 정수형으로 변환\n"
   ]
  },
  {
   "cell_type": "code",
   "execution_count": 120,
   "metadata": {
    "ExecuteTime": {
     "end_time": "2021-11-05T16:42:41.702701Z",
     "start_time": "2021-11-05T16:42:41.688738Z"
    }
   },
   "outputs": [
    {
     "data": {
      "text/plain": [
       "'3.14'"
      ]
     },
     "execution_count": 120,
     "metadata": {},
     "output_type": "execute_result"
    }
   ],
   "source": [
    "# 문자열로 변환\n"
   ]
  },
  {
   "cell_type": "code",
   "execution_count": 121,
   "metadata": {
    "ExecuteTime": {
     "end_time": "2021-11-05T16:42:41.717660Z",
     "start_time": "2021-11-05T16:42:41.703699Z"
    }
   },
   "outputs": [
    {
     "data": {
      "text/plain": [
       "3"
      ]
     },
     "execution_count": 121,
     "metadata": {},
     "output_type": "execute_result"
    }
   ],
   "source": [
    "# 반올림\n"
   ]
  },
  {
   "cell_type": "code",
   "execution_count": 122,
   "metadata": {
    "ExecuteTime": {
     "end_time": "2021-11-05T16:42:41.732620Z",
     "start_time": "2021-11-05T16:42:41.718659Z"
    }
   },
   "outputs": [
    {
     "name": "stdout",
     "output_type": "stream",
     "text": [
      "[1, 2, 3, 4, 5, 6, 7, 8, 9]\n",
      "[9, 8, 7, 6, 5, 4, 3, 2, 1]\n"
     ]
    }
   ],
   "source": [
    "# 값들의 순서를 바꿈\n"
   ]
  },
  {
   "cell_type": "code",
   "execution_count": 123,
   "metadata": {
    "ExecuteTime": {
     "end_time": "2021-11-05T16:42:41.747580Z",
     "start_time": "2021-11-05T16:42:41.733618Z"
    }
   },
   "outputs": [
    {
     "data": {
      "text/plain": [
       "[1, 2, 3, 4, 5, 6, 7, 8, 9]"
      ]
     },
     "execution_count": 123,
     "metadata": {},
     "output_type": "execute_result"
    }
   ],
   "source": [
    "# 오름차순\n"
   ]
  },
  {
   "cell_type": "code",
   "execution_count": 124,
   "metadata": {
    "ExecuteTime": {
     "end_time": "2021-11-05T16:42:41.762541Z",
     "start_time": "2021-11-05T16:42:41.748579Z"
    }
   },
   "outputs": [
    {
     "data": {
      "text/plain": [
       "<zip at 0x18870ba6b40>"
      ]
     },
     "execution_count": 124,
     "metadata": {},
     "output_type": "execute_result"
    }
   ],
   "source": [
    "# 값들의 짝을 이루게하여 반복문에 많이 사용됨\n",
    "# 짝을 이룰 값들의 길이는 서로 같아야 함\n"
   ]
  },
  {
   "cell_type": "code",
   "execution_count": 125,
   "metadata": {
    "ExecuteTime": {
     "end_time": "2021-11-05T16:42:41.777501Z",
     "start_time": "2021-11-05T16:42:41.763538Z"
    }
   },
   "outputs": [
    {
     "data": {
      "text/plain": [
       "[('a', 1), ('b', 2), ('c', 3)]"
      ]
     },
     "execution_count": 125,
     "metadata": {},
     "output_type": "execute_result"
    }
   ],
   "source": [
    "# 짝을 이룬 값들 출력\n"
   ]
  },
  {
   "cell_type": "code",
   "execution_count": 126,
   "metadata": {
    "ExecuteTime": {
     "end_time": "2021-11-05T16:42:41.792461Z",
     "start_time": "2021-11-05T16:42:41.778498Z"
    }
   },
   "outputs": [
    {
     "data": {
      "text/plain": [
       "{'a': 1, 'b': 2, 'c': 3}"
      ]
     },
     "execution_count": 126,
     "metadata": {},
     "output_type": "execute_result"
    }
   ],
   "source": [
    "# 다양한 출력 가능\n"
   ]
  },
  {
   "cell_type": "markdown",
   "metadata": {},
   "source": [
    "## 내장함수처럼 활용하기"
   ]
  },
  {
   "cell_type": "code",
   "execution_count": 127,
   "metadata": {
    "ExecuteTime": {
     "end_time": "2021-11-05T16:42:41.807421Z",
     "start_time": "2021-11-05T16:42:41.793458Z"
    }
   },
   "outputs": [
    {
     "data": {
      "text/plain": [
       "2"
      ]
     },
     "execution_count": 127,
     "metadata": {},
     "output_type": "execute_result"
    }
   ],
   "source": [
    "# 5 나누기 3의 나머지 출력 함수 작성\n"
   ]
  },
  {
   "cell_type": "code",
   "execution_count": 128,
   "metadata": {
    "ExecuteTime": {
     "end_time": "2021-11-05T16:42:41.822381Z",
     "start_time": "2021-11-05T16:42:41.808418Z"
    }
   },
   "outputs": [
    {
     "data": {
      "text/plain": [
       "0"
      ]
     },
     "execution_count": 128,
     "metadata": {},
     "output_type": "execute_result"
    }
   ],
   "source": [
    "# 예시 확인\n"
   ]
  },
  {
   "cell_type": "code",
   "execution_count": 129,
   "metadata": {
    "ExecuteTime": {
     "end_time": "2021-11-05T16:42:41.837341Z",
     "start_time": "2021-11-05T16:42:41.823378Z"
    }
   },
   "outputs": [
    {
     "data": {
      "text/plain": [
       "1"
      ]
     },
     "execution_count": 129,
     "metadata": {},
     "output_type": "execute_result"
    }
   ],
   "source": [
    "# 예시 확인\n"
   ]
  },
  {
   "cell_type": "code",
   "execution_count": 130,
   "metadata": {
    "ExecuteTime": {
     "end_time": "2021-11-05T16:42:41.852301Z",
     "start_time": "2021-11-05T16:42:41.838339Z"
    },
    "scrolled": true
   },
   "outputs": [
    {
     "name": "stdout",
     "output_type": "stream",
     "text": [
      "2\n",
      "0\n",
      "1\n"
     ]
    }
   ],
   "source": [
    "# 위 함수 활용 3가지 케이스 나머지 모두 출력\n"
   ]
  },
  {
   "cell_type": "code",
   "execution_count": 131,
   "metadata": {
    "ExecuteTime": {
     "end_time": "2021-11-05T16:42:41.867261Z",
     "start_time": "2021-11-05T16:42:41.853299Z"
    }
   },
   "outputs": [
    {
     "name": "stdout",
     "output_type": "stream",
     "text": [
      "30\n",
      "200\n"
     ]
    }
   ],
   "source": [
    "# 함수의 중첩\n"
   ]
  },
  {
   "cell_type": "code",
   "execution_count": 132,
   "metadata": {
    "ExecuteTime": {
     "end_time": "2021-11-05T16:42:41.882220Z",
     "start_time": "2021-11-05T16:42:41.868258Z"
    }
   },
   "outputs": [
    {
     "data": {
      "text/plain": [
       "{(5, 3): 2, (2, 2): 0, (10, 3): 1}"
      ]
     },
     "execution_count": 132,
     "metadata": {},
     "output_type": "execute_result"
    }
   ],
   "source": [
    "# 중첩 함수로 계산기 만들기\n"
   ]
  },
  {
   "cell_type": "markdown",
   "metadata": {},
   "source": [
    "- **Question:** 아래 2개의 변수값을 입력받아 1) 몫을 구하는 함수, 2) 나머지를 구하는 함수, 3) 그리고 1)과2)를 중첩함수로 한꺼번에 몫과 나머지를 출력하는 함수를 작성하고, 3) 함수를 이용해 몫과 나머지를 출력하시오\n",
    "\n",
    "```python\n",
    "x = 10\n",
    "y = 3\n",
    "```"
   ]
  },
  {
   "cell_type": "code",
   "execution_count": 133,
   "metadata": {
    "ExecuteTime": {
     "end_time": "2021-11-05T16:42:41.897181Z",
     "start_time": "2021-11-05T16:42:41.883219Z"
    }
   },
   "outputs": [],
   "source": [
    "# 함수 3개 작성\n",
    "\n",
    "\n",
    "# 결과 출력\n",
    "\n"
   ]
  },
  {
   "cell_type": "markdown",
   "metadata": {},
   "source": [
    "## 내장함수처럼 설명하기\n",
    "\n",
    "- **독스트링(문서화 문자열, documentation strings, docstring):** 함수의 콜론(:) 다음줄에 \"\"\" \"\"\"(큰따옴표 3개 묶음)으로 문자열을 입력하면 함수에 대한 설명 반영\n",
    "- ' '(작은따옴표), \" \"(큰따옴표), ''' '''(작은따옴표 세 개)로 만들어도 되지만, 파이썬 코딩 스타일 가이드(PEP 8)에서는 \"\"\" \"\"\"(큰따옴표 세 개)를 권장\n",
    "\n",
    "```python\n",
    "def 함수이름(매개변수):\n",
    "    \"\"\"독스트링\"\"\"\n",
    "    문장\n",
    " \n",
    "def 함수이름(매개변수):\n",
    "    \"\"\"\n",
    "    여러 줄로 된 \n",
    "    독스트링\n",
    "    \"\"\"\n",
    "    문장\n",
    "```"
   ]
  },
  {
   "cell_type": "code",
   "execution_count": 134,
   "metadata": {
    "ExecuteTime": {
     "end_time": "2021-11-05T16:42:41.912141Z",
     "start_time": "2021-11-05T16:42:41.898179Z"
    }
   },
   "outputs": [
    {
     "data": {
      "text/plain": [
       "{(5, 3): 2, (2, 2): 0, (10, 3): 1}"
      ]
     },
     "execution_count": 134,
     "metadata": {},
     "output_type": "execute_result"
    }
   ],
   "source": [
    "# 위 계산기 중첩 함수에서 설명 추가 하기\n"
   ]
  },
  {
   "cell_type": "code",
   "execution_count": 135,
   "metadata": {
    "ExecuteTime": {
     "end_time": "2021-11-05T16:42:41.927128Z",
     "start_time": "2021-11-05T16:42:41.913139Z"
    }
   },
   "outputs": [
    {
     "data": {
      "text/plain": [
       "'이 함수는 쌍의 값을 받아 각 쌍별 나머지를 출력하는 함수입니다.'"
      ]
     },
     "execution_count": 135,
     "metadata": {},
     "output_type": "execute_result"
    }
   ],
   "source": [
    "# 함수 설명 확인하기\n"
   ]
  },
  {
   "cell_type": "code",
   "execution_count": 136,
   "metadata": {
    "ExecuteTime": {
     "end_time": "2021-11-05T16:42:41.942091Z",
     "start_time": "2021-11-05T16:42:41.928098Z"
    }
   },
   "outputs": [
    {
     "name": "stdout",
     "output_type": "stream",
     "text": [
      "print(value, ..., sep=' ', end='\\n', file=sys.stdout, flush=False)\n",
      "\n",
      "Prints the values to a stream, or to sys.stdout by default.\n",
      "Optional keyword arguments:\n",
      "file:  a file-like object (stream); defaults to the current sys.stdout.\n",
      "sep:   string inserted between values, default a space.\n",
      "end:   string appended after the last value, default a newline.\n",
      "flush: whether to forcibly flush the stream.\n"
     ]
    }
   ],
   "source": [
    "# 내장함수의 설명도 확인 가능\n"
   ]
  },
  {
   "cell_type": "markdown",
   "metadata": {},
   "source": [
    "## 스코핑 룰: Scoping Rule\n",
    "\n",
    "- 변수의 생존 범위에 관련된 규칙\n",
    "- 파이썬 함수는 별도의 변수들이 인식될수 있는 \"이름공간\" 존재\n",
    "> - **지역변수(Local Variable):** 함수 내부에서만 인식되는 변수\n",
    "> - **전역변수(Global Variable):** 함수 외부에서도 인식되는 변수\n",
    "> - **내장변수(Built-in Variable):** 파이썬 자체에서 정의되고 인식되는 변수\n",
    "\n",
    "<center><img src='Image/Scoping_Rule.png' width='400'></center>"
   ]
  },
  {
   "cell_type": "code",
   "execution_count": 137,
   "metadata": {
    "ExecuteTime": {
     "end_time": "2021-11-05T16:42:41.957052Z",
     "start_time": "2021-11-05T16:42:41.943059Z"
    }
   },
   "outputs": [],
   "source": [
    "# def foo():\n",
    "#     xx = 10      # foo의 지역 변수\n",
    "#     print(xx)    # foo의 지역 변수 출력\n",
    " \n",
    "# foo()\n",
    "# print(xx)        # 에러. foo의 지역 변수는 출력할 수 없음"
   ]
  },
  {
   "cell_type": "code",
   "execution_count": 138,
   "metadata": {
    "ExecuteTime": {
     "end_time": "2021-11-05T16:42:41.972014Z",
     "start_time": "2021-11-05T16:42:41.958018Z"
    }
   },
   "outputs": [
    {
     "name": "stdout",
     "output_type": "stream",
     "text": [
      "10\n",
      "10\n"
     ]
    }
   ],
   "source": [
    "# 예시 결과 확인\n"
   ]
  },
  {
   "cell_type": "code",
   "execution_count": 139,
   "metadata": {
    "ExecuteTime": {
     "end_time": "2021-11-05T16:42:41.986968Z",
     "start_time": "2021-11-05T16:42:41.972978Z"
    }
   },
   "outputs": [
    {
     "name": "stdout",
     "output_type": "stream",
     "text": [
      "20\n",
      "10\n"
     ]
    }
   ],
   "source": [
    "# 예시 결과 확인\n"
   ]
  },
  {
   "cell_type": "code",
   "execution_count": 140,
   "metadata": {
    "ExecuteTime": {
     "end_time": "2021-11-05T16:42:42.001900Z",
     "start_time": "2021-11-05T16:42:41.987938Z"
    }
   },
   "outputs": [
    {
     "name": "stdout",
     "output_type": "stream",
     "text": [
      "20\n",
      "20\n"
     ]
    }
   ],
   "source": [
    "# 예시 결과 확인\n"
   ]
  },
  {
   "cell_type": "code",
   "execution_count": 141,
   "metadata": {
    "ExecuteTime": {
     "end_time": "2021-11-05T16:42:42.016893Z",
     "start_time": "2021-11-05T16:42:42.002899Z"
    }
   },
   "outputs": [
    {
     "name": "stdout",
     "output_type": "stream",
     "text": [
      "200\n",
      "200\n"
     ]
    }
   ],
   "source": [
    "# 예시 결과 확인\n",
    "# 전역 변수 x가 없는 상태\n"
   ]
  },
  {
   "cell_type": "code",
   "execution_count": 142,
   "metadata": {
    "ExecuteTime": {
     "end_time": "2021-11-05T16:42:42.031850Z",
     "start_time": "2021-11-05T16:42:42.017860Z"
    }
   },
   "outputs": [
    {
     "name": "stdout",
     "output_type": "stream",
     "text": [
      "10\n"
     ]
    }
   ],
   "source": [
    "# 예시 결과 확인\n"
   ]
  },
  {
   "cell_type": "code",
   "execution_count": 143,
   "metadata": {
    "ExecuteTime": {
     "end_time": "2021-11-05T16:42:42.046808Z",
     "start_time": "2021-11-05T16:42:42.032819Z"
    }
   },
   "outputs": [
    {
     "name": "stdout",
     "output_type": "stream",
     "text": [
      "20\n"
     ]
    }
   ],
   "source": [
    "# 예시 결과 확인\n"
   ]
  },
  {
   "cell_type": "markdown",
   "metadata": {},
   "source": [
    "- nonlocal은 현재 함수의 바깥쪽에 있는 지역 변수를 찾을 때 가장 가까운 함수부터 먼저 찾음\n",
    "- 함수의 단계와 무관하게 global 키워드를 사용하면 무조건 전역변수를 사용\n",
    "- 전역변수는 가급적 사용하지 않고 지역변수를 유지하는게 오류를 줄이는 방법"
   ]
  },
  {
   "cell_type": "markdown",
   "metadata": {},
   "source": [
    "- **Question:** 아래의 코드의 출력결과를 이해하여 왜 50과 400이 출력되었는지 주석으로 작성하시오"
   ]
  },
  {
   "cell_type": "code",
   "execution_count": 144,
   "metadata": {
    "ExecuteTime": {
     "end_time": "2021-11-05T16:42:42.061768Z",
     "start_time": "2021-11-05T16:42:42.047779Z"
    }
   },
   "outputs": [
    {
     "name": "stdout",
     "output_type": "stream",
     "text": [
      "50\n",
      "400\n"
     ]
    }
   ],
   "source": [
    "def A():\n",
    "    x = 10\n",
    "    y = 100\n",
    "    def B():\n",
    "        x = 20\n",
    "        def C():\n",
    "            nonlocal x\n",
    "            nonlocal y\n",
    "            x = x + 30\n",
    "            y = y + 300\n",
    "            print(x)\n",
    "            print(y)\n",
    "        C()\n",
    "    B()\n",
    " \n",
    "A()"
   ]
  },
  {
   "cell_type": "code",
   "execution_count": 145,
   "metadata": {
    "ExecuteTime": {
     "end_time": "2021-11-05T16:42:42.076729Z",
     "start_time": "2021-11-05T16:42:42.062739Z"
    }
   },
   "outputs": [],
   "source": [
    "# 결과 설명\n",
    "#\n",
    "#"
   ]
  },
  {
   "cell_type": "markdown",
   "metadata": {},
   "source": [
    "- **Question:** 아래의 코드의 출력결과를 이해하여 왜 31이 출력되었는지 주석으로 작성하시오"
   ]
  },
  {
   "cell_type": "code",
   "execution_count": 146,
   "metadata": {
    "ExecuteTime": {
     "end_time": "2021-11-05T16:42:42.091690Z",
     "start_time": "2021-11-05T16:42:42.077698Z"
    }
   },
   "outputs": [
    {
     "name": "stdout",
     "output_type": "stream",
     "text": [
      "31\n"
     ]
    }
   ],
   "source": [
    "x = 1\n",
    "def A():\n",
    "    x = 10\n",
    "    def B():\n",
    "        x = 20\n",
    "        def C():\n",
    "            global x\n",
    "            x = x + 30\n",
    "            print(x)\n",
    "        C()\n",
    "    B()\n",
    " \n",
    "A()"
   ]
  },
  {
   "cell_type": "code",
   "execution_count": 147,
   "metadata": {
    "ExecuteTime": {
     "end_time": "2021-11-05T16:42:42.106652Z",
     "start_time": "2021-11-05T16:42:42.092659Z"
    }
   },
   "outputs": [],
   "source": [
    "# 결과 설명\n",
    "#\n",
    "#"
   ]
  },
  {
   "cell_type": "markdown",
   "metadata": {},
   "source": [
    "## Others"
   ]
  },
  {
   "cell_type": "markdown",
   "metadata": {},
   "source": [
    "### 경제적인 코드작성: lambda\n",
    "\n",
    "- lambda 입력:출력\n",
    "- lambda는 함수를 생성하는 예약어 def와 동일한 역할이나 한줄로 간결하게 작성 가능\n",
    "- 주로 def를 사용해야 할 정도로 복잡하지 않거나 def를 사용할 수 없는 곳에 사용\n",
    "- 식의 형태로 되어 있어 람다 표현식(Lambda Expression)이라고도 하며 다른 함수의 인수로 주로 사용\n",
    "- 람다 표현식은 이름이 없는 익명함수라서 호출할 수 없고 사용후 메모리에서 사라지므로 경제적\n",
    "\n",
    "```python\n",
    "lambda 매개변수1 입력, 매개변수2 입력, ...: 매개변수들 표현식 연산값 출력\n",
    "```"
   ]
  },
  {
   "cell_type": "code",
   "execution_count": 148,
   "metadata": {
    "ExecuteTime": {
     "end_time": "2021-11-05T16:42:42.121608Z",
     "start_time": "2021-11-05T16:42:42.107618Z"
    }
   },
   "outputs": [
    {
     "data": {
      "text/plain": [
       "3"
      ]
     },
     "execution_count": 148,
     "metadata": {},
     "output_type": "execute_result"
    }
   ],
   "source": [
    "def add(a,b):\n",
    "    return a+b\n",
    "\n",
    "add(1,2)"
   ]
  },
  {
   "cell_type": "code",
   "execution_count": 149,
   "metadata": {
    "ExecuteTime": {
     "end_time": "2021-11-05T16:42:42.136541Z",
     "start_time": "2021-11-05T16:42:42.122578Z"
    }
   },
   "outputs": [
    {
     "data": {
      "text/plain": [
       "3"
      ]
     },
     "execution_count": 149,
     "metadata": {},
     "output_type": "execute_result"
    }
   ],
   "source": [
    "# 람다 기능으로 위 함수를 변환\n"
   ]
  },
  {
   "cell_type": "code",
   "execution_count": 150,
   "metadata": {
    "ExecuteTime": {
     "end_time": "2021-11-05T16:42:42.151500Z",
     "start_time": "2021-11-05T16:42:42.137539Z"
    }
   },
   "outputs": [
    {
     "data": {
      "text/plain": [
       "[2]"
      ]
     },
     "execution_count": 150,
     "metadata": {},
     "output_type": "execute_result"
    }
   ],
   "source": [
    "# 람다 함수 변수 저장 가능\n"
   ]
  },
  {
   "cell_type": "code",
   "execution_count": 151,
   "metadata": {
    "ExecuteTime": {
     "end_time": "2021-11-05T16:42:42.166460Z",
     "start_time": "2021-11-05T16:42:42.152499Z"
    }
   },
   "outputs": [
    {
     "name": "stdout",
     "output_type": "stream",
     "text": [
      "[2]\n",
      "[2, 3]\n",
      "[2, 3, 4]\n",
      "[2, 3, 4, 5]\n",
      "[2, 3, 4, 5, 6]\n"
     ]
    }
   ],
   "source": [
    "# 람다 함수도 활용 가능\n"
   ]
  },
  {
   "cell_type": "markdown",
   "metadata": {},
   "source": [
    "- 람다 표현식 자체를 호출할 수 있음\n",
    "\n",
    "```python\n",
    "(lambda 매개변수 입력: 매개변수식 출력)(인수들)\n",
    "```"
   ]
  },
  {
   "cell_type": "code",
   "execution_count": 152,
   "metadata": {
    "ExecuteTime": {
     "end_time": "2021-11-05T16:42:42.181420Z",
     "start_time": "2021-11-05T16:42:42.167459Z"
    }
   },
   "outputs": [
    {
     "data": {
      "text/plain": [
       "11"
      ]
     },
     "execution_count": 152,
     "metadata": {},
     "output_type": "execute_result"
    }
   ],
   "source": [
    "# 다양한 활용 가능\n"
   ]
  },
  {
   "cell_type": "code",
   "execution_count": 153,
   "metadata": {
    "ExecuteTime": {
     "end_time": "2021-11-05T16:42:42.196380Z",
     "start_time": "2021-11-05T16:42:42.182419Z"
    }
   },
   "outputs": [],
   "source": [
    "# 내부 변수 생성 불가\n"
   ]
  },
  {
   "cell_type": "code",
   "execution_count": 154,
   "metadata": {
    "ExecuteTime": {
     "end_time": "2021-11-05T16:42:42.211340Z",
     "start_time": "2021-11-05T16:42:42.197378Z"
    }
   },
   "outputs": [
    {
     "data": {
      "text/plain": [
       "11"
      ]
     },
     "execution_count": 154,
     "metadata": {},
     "output_type": "execute_result"
    }
   ],
   "source": [
    "# 다양한 활용 가능\n"
   ]
  },
  {
   "cell_type": "markdown",
   "metadata": {},
   "source": [
    "- 특히 함수의 인수부분을 간단하게 함수로 반영할 때 많이 사용"
   ]
  },
  {
   "cell_type": "code",
   "execution_count": 155,
   "metadata": {
    "ExecuteTime": {
     "end_time": "2021-11-05T16:42:42.226300Z",
     "start_time": "2021-11-05T16:42:42.212338Z"
    }
   },
   "outputs": [
    {
     "data": {
      "text/plain": [
       "[11, 12, 13]"
      ]
     },
     "execution_count": 155,
     "metadata": {},
     "output_type": "execute_result"
    }
   ],
   "source": [
    "# 예시 결과 확인\n"
   ]
  },
  {
   "cell_type": "code",
   "execution_count": 156,
   "metadata": {
    "ExecuteTime": {
     "end_time": "2021-11-05T16:42:42.241260Z",
     "start_time": "2021-11-05T16:42:42.227298Z"
    }
   },
   "outputs": [
    {
     "data": {
      "text/plain": [
       "[11, 12, 13]"
      ]
     },
     "execution_count": 156,
     "metadata": {},
     "output_type": "execute_result"
    }
   ],
   "source": [
    "# 예시 결과 확인\n"
   ]
  },
  {
   "cell_type": "markdown",
   "metadata": {},
   "source": [
    "### 경제적인 중첩함수: map\n",
    "\n",
    "- map(function, input)\n",
    "- 함수를 입력으로 받을 수 있으며, 입력된 값이 함수에 적용된 값들이 출력"
   ]
  },
  {
   "cell_type": "code",
   "execution_count": 157,
   "metadata": {
    "ExecuteTime": {
     "end_time": "2021-11-05T16:42:42.256220Z",
     "start_time": "2021-11-05T16:42:42.242258Z"
    }
   },
   "outputs": [
    {
     "data": {
      "text/plain": [
       "[1, 2, 3, 4, 5, 6, 7, 8, 9, 10]"
      ]
     },
     "execution_count": 157,
     "metadata": {},
     "output_type": "execute_result"
    }
   ],
   "source": [
    "# 함수와 값의 결합 가능\n"
   ]
  },
  {
   "cell_type": "code",
   "execution_count": 158,
   "metadata": {
    "ExecuteTime": {
     "end_time": "2021-11-05T16:42:42.271180Z",
     "start_time": "2021-11-05T16:42:42.257218Z"
    }
   },
   "outputs": [
    {
     "data": {
      "text/plain": [
       "[6, 6, 6, 6, 6]"
      ]
     },
     "execution_count": 158,
     "metadata": {},
     "output_type": "execute_result"
    }
   ],
   "source": [
    "# 함수와 2개 이상의 값 결합 가능\n"
   ]
  },
  {
   "cell_type": "code",
   "execution_count": 159,
   "metadata": {
    "ExecuteTime": {
     "end_time": "2021-11-05T16:42:42.286141Z",
     "start_time": "2021-11-05T16:42:42.272178Z"
    }
   },
   "outputs": [
    {
     "data": {
      "text/plain": [
       "[6, 6, 6, 6, 6]"
      ]
     },
     "execution_count": 159,
     "metadata": {},
     "output_type": "execute_result"
    }
   ],
   "source": [
    "# 다양한 활용 가능\n"
   ]
  },
  {
   "cell_type": "code",
   "execution_count": 160,
   "metadata": {
    "ExecuteTime": {
     "end_time": "2021-11-05T16:42:42.301100Z",
     "start_time": "2021-11-05T16:42:42.287137Z"
    }
   },
   "outputs": [
    {
     "data": {
      "text/plain": [
       "[6, 6, 6, 6, 6]"
      ]
     },
     "execution_count": 160,
     "metadata": {},
     "output_type": "execute_result"
    }
   ],
   "source": [
    "# 다양한 활용 가능\n"
   ]
  },
  {
   "cell_type": "markdown",
   "metadata": {},
   "source": [
    "- 조건문을 lambda 함수나 map 함수와 결합가능\n",
    "- 조건문 표현식에 콜론(:) 사용하지 않음\n",
    "- if를 사용했다면 반드시 else 사용해야 함\n",
    "- elif 사용할 수 없고 if를 연속적으로 사용해야 함\n",
    "\n",
    "```python\n",
    "lambda 매개변수들: 매개변수 식1(조건식 참일때) if 조건식 else 식2(조건식 거짓일때)\n",
    "lambda 매개변수들: 매개변수 식1 if 조건식1 else 식2 if 조건식2 else 식3\n",
    "```"
   ]
  },
  {
   "cell_type": "code",
   "execution_count": 161,
   "metadata": {
    "ExecuteTime": {
     "end_time": "2021-11-05T16:42:42.316060Z",
     "start_time": "2021-11-05T16:42:42.302098Z"
    }
   },
   "outputs": [
    {
     "data": {
      "text/plain": [
       "[1, 2, '3', 4, 5, '6', 7, 8, '9', 10]"
      ]
     },
     "execution_count": 161,
     "metadata": {},
     "output_type": "execute_result"
    }
   ],
   "source": [
    "# 조건문 결합 가능\n"
   ]
  },
  {
   "cell_type": "code",
   "execution_count": 162,
   "metadata": {
    "ExecuteTime": {
     "end_time": "2021-11-05T16:42:42.331020Z",
     "start_time": "2021-11-05T16:42:42.317058Z"
    }
   },
   "outputs": [],
   "source": [
    "# else가 포함된 완벽한 형태여야 오류 미발생\n"
   ]
  },
  {
   "cell_type": "code",
   "execution_count": 163,
   "metadata": {
    "ExecuteTime": {
     "end_time": "2021-11-05T16:42:42.345980Z",
     "start_time": "2021-11-05T16:42:42.332019Z"
    }
   },
   "outputs": [
    {
     "data": {
      "text/plain": [
       "[11, 12, '3', 14, 5.0, '6', 17, 18, '9', 10.0]"
      ]
     },
     "execution_count": 163,
     "metadata": {},
     "output_type": "execute_result"
    }
   ],
   "source": [
    "# 조건문 여러개도 결합 가능\n"
   ]
  },
  {
   "cell_type": "markdown",
   "metadata": {},
   "source": [
    "- **Question:** 위와 동일한 결과를 출력하기 위해 def 명령을 사용하여 함수 \"f\"를 작성하여 아래 코드를 실행시 위의 결과와 동일하게 출력하시오\n",
    "\n",
    "```python\n",
    "a = [1, 2, 3, 4, 5, 6, 7, 8, 9, 10]\n",
    "list(map(f, a))\n",
    "```"
   ]
  },
  {
   "cell_type": "code",
   "execution_count": 164,
   "metadata": {
    "ExecuteTime": {
     "end_time": "2021-11-05T16:42:42.360940Z",
     "start_time": "2021-11-05T16:42:42.346977Z"
    }
   },
   "outputs": [],
   "source": [
    "# 함수 작성\n",
    "\n",
    "    \n",
    "# 코드 실행 및 결과 확인\n",
    "# a = [1, 2, 3, 4, 5, 6, 7, 8, 9, 10]\n",
    "# list(map(f, a))"
   ]
  },
  {
   "cell_type": "markdown",
   "metadata": {},
   "source": [
    "### 경제적인 조건반영 중첩함수: filter\n",
    "\n",
    "- filter(function, input)\n",
    "- map과 동일한 구조지만 조건식이 참인 입력 요소들만 출력"
   ]
  },
  {
   "cell_type": "code",
   "execution_count": 165,
   "metadata": {
    "ExecuteTime": {
     "end_time": "2021-11-05T16:42:42.375900Z",
     "start_time": "2021-11-05T16:42:42.361938Z"
    }
   },
   "outputs": [
    {
     "data": {
      "text/plain": [
       "[0, 2, 4, 6, 8]"
      ]
     },
     "execution_count": 165,
     "metadata": {},
     "output_type": "execute_result"
    }
   ],
   "source": [
    "# 값의 필터링 기능 확인\n"
   ]
  },
  {
   "cell_type": "code",
   "execution_count": 166,
   "metadata": {
    "ExecuteTime": {
     "end_time": "2021-11-05T16:42:42.390860Z",
     "start_time": "2021-11-05T16:42:42.376898Z"
    }
   },
   "outputs": [
    {
     "data": {
      "text/plain": [
       "[True, False, True, False, True, False, True, False, True, False]"
      ]
     },
     "execution_count": 166,
     "metadata": {},
     "output_type": "execute_result"
    }
   ],
   "source": [
    "# map 함수에서는 참/거짓의 로직만 출력됨\n"
   ]
  },
  {
   "cell_type": "code",
   "execution_count": 167,
   "metadata": {
    "ExecuteTime": {
     "end_time": "2021-11-05T16:42:42.405820Z",
     "start_time": "2021-11-05T16:42:42.391858Z"
    }
   },
   "outputs": [
    {
     "data": {
      "text/plain": [
       "[8, 7, 9]"
      ]
     },
     "execution_count": 167,
     "metadata": {},
     "output_type": "execute_result"
    }
   ],
   "source": [
    "# 예시 결과 확인\n"
   ]
  },
  {
   "cell_type": "markdown",
   "metadata": {},
   "source": [
    "- map, filter와 lambda 중첩보다 리스트 표현식이 훨씬 가독성 좋고 속도도 빠름"
   ]
  },
  {
   "cell_type": "code",
   "execution_count": 168,
   "metadata": {
    "ExecuteTime": {
     "end_time": "2021-11-05T16:42:42.420781Z",
     "start_time": "2021-11-05T16:42:42.406817Z"
    }
   },
   "outputs": [
    {
     "data": {
      "text/plain": [
       "[8, 7, 9]"
      ]
     },
     "execution_count": 168,
     "metadata": {},
     "output_type": "execute_result"
    }
   ],
   "source": [
    "# 리스트 표현식으로 동일 결과 작성 가능\n"
   ]
  },
  {
   "cell_type": "markdown",
   "metadata": {},
   "source": [
    "- **Question:** 람다 표현식을 사용하여 아래 파일 명 중 .jpg, .png인 이미지 파일만 리스트 형식으로 출력하시오\n",
    "\n",
    "```python\n",
    "files = ['font', '1.png', '10.jpg', '11.gif', '2.jpg', '3.png', 'table.xslx', 'spec.docx']\n",
    "```"
   ]
  },
  {
   "cell_type": "code",
   "execution_count": null,
   "metadata": {
    "ExecuteTime": {
     "end_time": "2021-10-07T06:30:31.646647Z",
     "start_time": "2021-10-07T06:30:31.639435Z"
    }
   },
   "outputs": [],
   "source": []
  },
  {
   "cell_type": "markdown",
   "metadata": {},
   "source": [
    "### 경제적인 반복값 생성함수: Comprehension\n",
    "\n",
    "- 반복값을 생성하는 방법중 간편하고 유용한 기능으로 list 외 tuple/set/dict에서도 활용가능"
   ]
  },
  {
   "cell_type": "code",
   "execution_count": 169,
   "metadata": {
    "ExecuteTime": {
     "end_time": "2021-11-05T16:42:42.435769Z",
     "start_time": "2021-11-05T16:42:42.421778Z"
    }
   },
   "outputs": [
    {
     "data": {
      "text/plain": [
       "[0, 2, 4, 6, 8, 10, 12, 14, 16, 18, 20]"
      ]
     },
     "execution_count": 169,
     "metadata": {},
     "output_type": "execute_result"
    }
   ],
   "source": [
    "# List Type\n",
    "result = []\n",
    "for x in range(11):\n",
    "    result.append(x*2)\n",
    "result"
   ]
  },
  {
   "cell_type": "code",
   "execution_count": 170,
   "metadata": {
    "ExecuteTime": {
     "end_time": "2021-11-05T16:42:42.450729Z",
     "start_time": "2021-11-05T16:42:42.436737Z"
    }
   },
   "outputs": [
    {
     "data": {
      "text/plain": [
       "[0, 2, 4, 6, 8, 10, 12, 14, 16, 18, 20]"
      ]
     },
     "execution_count": 170,
     "metadata": {},
     "output_type": "execute_result"
    }
   ],
   "source": [
    "# 리스트 표현으로 위와 동일 결과 작성\n"
   ]
  },
  {
   "cell_type": "code",
   "execution_count": 171,
   "metadata": {
    "ExecuteTime": {
     "end_time": "2021-11-05T16:42:42.465689Z",
     "start_time": "2021-11-05T16:42:42.451697Z"
    }
   },
   "outputs": [
    {
     "name": "stdout",
     "output_type": "stream",
     "text": [
      "75 [4, 6, 8, 10, 12, 14, 16, 18, 20, 22, 24, 26, 28, 30, 32, 34, 36, 38, 40, 42, 44, 46, 48, 6, 9, 12, 15, 18, 21, 24, 27, 30, 33, 36, 39, 42, 45, 48, 8, 12, 16, 20, 24, 28, 32, 36, 40, 44, 48, 10, 15, 20, 25, 30, 35, 40, 45, 12, 18, 24, 30, 36, 42, 48, 14, 21, 28, 35, 42, 49, 16, 24, 32, 40, 48]\n"
     ]
    }
   ],
   "source": [
    "result = []\n",
    "for i in range(2,9):\n",
    "    for j in range(i*2, 50, i):\n",
    "        result.append(j)\n",
    "print(len(result), result)"
   ]
  },
  {
   "cell_type": "code",
   "execution_count": 172,
   "metadata": {
    "ExecuteTime": {
     "end_time": "2021-11-05T16:42:42.480649Z",
     "start_time": "2021-11-05T16:42:42.466657Z"
    }
   },
   "outputs": [
    {
     "name": "stdout",
     "output_type": "stream",
     "text": [
      "75 [4, 6, 8, 10, 12, 14, 16, 18, 20, 22, 24, 26, 28, 30, 32, 34, 36, 38, 40, 42, 44, 46, 48, 6, 9, 12, 15, 18, 21, 24, 27, 30, 33, 36, 39, 42, 45, 48, 8, 12, 16, 20, 24, 28, 32, 36, 40, 44, 48, 10, 15, 20, 25, 30, 35, 40, 45, 12, 18, 24, 30, 36, 42, 48, 14, 21, 28, 35, 42, 49, 16, 24, 32, 40, 48]\n"
     ]
    }
   ],
   "source": [
    "# 리스트 표현으로 위와 동일 결과 작성\n"
   ]
  },
  {
   "cell_type": "code",
   "execution_count": 173,
   "metadata": {
    "ExecuteTime": {
     "end_time": "2021-11-05T16:42:42.495608Z",
     "start_time": "2021-11-05T16:42:42.481617Z"
    }
   },
   "outputs": [
    {
     "name": "stdout",
     "output_type": "stream",
     "text": [
      "33 {4, 6, 8, 9, 10, 12, 14, 15, 16, 18, 20, 21, 22, 24, 25, 26, 27, 28, 30, 32, 33, 34, 35, 36, 38, 39, 40, 42, 44, 45, 46, 48, 49}\n"
     ]
    }
   ],
   "source": [
    "# 집합으로 값을 정리하면 중복값들은 사라짐\n"
   ]
  },
  {
   "cell_type": "code",
   "execution_count": 174,
   "metadata": {
    "ExecuteTime": {
     "end_time": "2021-11-05T16:42:42.510540Z",
     "start_time": "2021-11-05T16:42:42.496578Z"
    }
   },
   "outputs": [
    {
     "data": {
      "text/plain": [
       "{'math': 90, 'history': 80, 'english': 95, 'computer engineering': 100}"
      ]
     },
     "execution_count": 174,
     "metadata": {},
     "output_type": "execute_result"
    }
   ],
   "source": [
    "# Dict Type\n",
    "subjects = ['math', 'history', 'english', 'computer engineering']\n",
    "scores = [90, 80, 95, 100]\n",
    "\n",
    "result = dict()\n",
    "for key, value in zip(subjects, scores):\n",
    "    result[key] = value\n",
    "result"
   ]
  },
  {
   "cell_type": "code",
   "execution_count": 175,
   "metadata": {
    "ExecuteTime": {
     "end_time": "2021-11-05T16:42:42.525501Z",
     "start_time": "2021-11-05T16:42:42.511539Z"
    }
   },
   "outputs": [
    {
     "data": {
      "text/plain": [
       "{'math': 90, 'history': 80, 'english': 95, 'computer engineering': 100}"
      ]
     },
     "execution_count": 175,
     "metadata": {},
     "output_type": "execute_result"
    }
   ],
   "source": [
    "# 리스트 표현으로 위와 동일 결과 작성\n"
   ]
  },
  {
   "cell_type": "code",
   "execution_count": 176,
   "metadata": {
    "ExecuteTime": {
     "end_time": "2021-11-05T16:42:42.540488Z",
     "start_time": "2021-11-05T16:42:42.526499Z"
    }
   },
   "outputs": [
    {
     "data": {
      "text/plain": [
       "{'math': 90, 'history': 80, 'english': 95, 'computer engineering': 100}"
      ]
     },
     "execution_count": 176,
     "metadata": {},
     "output_type": "execute_result"
    }
   ],
   "source": [
    "# zip 함수로 위와 동일 결과 작성\n"
   ]
  },
  {
   "cell_type": "code",
   "execution_count": 178,
   "metadata": {
    "ExecuteTime": {
     "end_time": "2021-11-05T16:42:42.570409Z",
     "start_time": "2021-11-05T16:42:42.556418Z"
    }
   },
   "outputs": [
    {
     "data": {
      "text/plain": [
       "{'math': 90, 'history': 80, 'english': 95, 'computer engineering': 100}"
      ]
     },
     "execution_count": 178,
     "metadata": {},
     "output_type": "execute_result"
    }
   ],
   "source": [
    "# 리스트 표현으로 위와 동일 결과 작성\n"
   ]
  },
  {
   "cell_type": "code",
   "execution_count": 179,
   "metadata": {
    "ExecuteTime": {
     "end_time": "2021-11-05T16:42:59.678216Z",
     "start_time": "2021-11-05T16:42:59.669238Z"
    },
    "scrolled": true
   },
   "outputs": [
    {
     "name": "stdout",
     "output_type": "stream",
     "text": [
      "('math', 90)\n",
      "('history', 80)\n",
      "('english', 95)\n",
      "('computer engineering', 100)\n"
     ]
    }
   ],
   "source": [
    "# dict 값은 key & value가 동시에 반복적 입력됨\n"
   ]
  },
  {
   "cell_type": "code",
   "execution_count": 2,
   "metadata": {
    "ExecuteTime": {
     "end_time": "2021-11-05T17:01:52.176335Z",
     "start_time": "2021-11-05T17:01:52.157385Z"
    }
   },
   "outputs": [
    {
     "name": "stdout",
     "output_type": "stream",
     "text": [
      "Intel64 Family 6 Model 158 Stepping 10, GenuineIntel\n",
      "48(GB)\n",
      "Windows\n",
      "10.0.19041\n",
      "D:\\DS\\Lecture\\[DataScience]\n",
      "2021-10-02 01:56:22.964415\n",
      "2021-11-06 02:01:40.213269\n",
      "2021-11-06 02:01:40.213269\n",
      "2021-11-06 02:01:52.161375\n",
      "다음 출력을 파일명으로 설정하고 제출하시오: 김경원_20211011_E정보시스템-1반_Function\n"
     ]
    }
   ],
   "source": [
    "# 반드시 이 cell을 실행하시오\n",
    "# 실행하지 않을 시 직접 하지 않은 것으로 간주\n",
    "# 마지막 줄 출력으로 파일명을 설정하고 제출 필수\n",
    "import platform, psutil, os, datetime\n",
    "print(platform.processor())\n",
    "print(str(round(psutil.virtual_memory().total / (1024.0 **3)))+\"(GB)\")\n",
    "print(platform.system())\n",
    "print(platform.version())\n",
    "print(os.getcwd())\n",
    "print(datetime.datetime.fromtimestamp(os.path.getctime(os.getcwd())))\n",
    "print(datetime.datetime.fromtimestamp(os.path.getmtime(os.getcwd())))\n",
    "print(datetime.datetime.fromtimestamp(os.path.getatime(os.getcwd())))\n",
    "print(datetime.datetime.now())\n",
    "title = 'Function'    # 고정값\n",
    "name = '김경원'    # 본인 이름을 작성\n",
    "studentid = '20211011'    # 본인 학번을 작성\n",
    "course_number = 'E정보시스템-1반'    # 1반: E정보시스템-1반, 2반: E정보시스템-2반, 3반: E정보시스템-3반\n",
    "print('다음 출력을 파일명으로 설정하고 제출하시오:', name + '_' + studentid + '_' + course_number + '_' + title)"
   ]
  }
 ],
 "metadata": {
  "hide_input": false,
  "kernelspec": {
   "display_name": "Python 3",
   "language": "python",
   "name": "python3"
  },
  "language_info": {
   "codemirror_mode": {
    "name": "ipython",
    "version": 3
   },
   "file_extension": ".py",
   "mimetype": "text/x-python",
   "name": "python",
   "nbconvert_exporter": "python",
   "pygments_lexer": "ipython3",
   "version": "3.8.5"
  },
  "toc": {
   "base_numbering": 1,
   "nav_menu": {},
   "number_sections": true,
   "sideBar": true,
   "skip_h1_title": false,
   "title_cell": "Table of Contents",
   "title_sidebar": "Contents",
   "toc_cell": false,
   "toc_position": {
    "height": "calc(100% - 180px)",
    "left": "10px",
    "top": "150px",
    "width": "375.326px"
   },
   "toc_section_display": true,
   "toc_window_display": true
  },
  "varInspector": {
   "cols": {
    "lenName": 16,
    "lenType": 16,
    "lenVar": 40
   },
   "kernels_config": {
    "python": {
     "delete_cmd_postfix": "",
     "delete_cmd_prefix": "del ",
     "library": "var_list.py",
     "varRefreshCmd": "print(var_dic_list())"
    },
    "r": {
     "delete_cmd_postfix": ") ",
     "delete_cmd_prefix": "rm(",
     "library": "var_list.r",
     "varRefreshCmd": "cat(var_dic_list()) "
    }
   },
   "position": {
    "height": "144.667px",
    "left": "1346.67px",
    "right": "20px",
    "top": "141px",
    "width": "350px"
   },
   "types_to_exclude": [
    "module",
    "function",
    "builtin_function_or_method",
    "instance",
    "_Feature"
   ],
   "window_display": false
  }
 },
 "nbformat": 4,
 "nbformat_minor": 4
}
