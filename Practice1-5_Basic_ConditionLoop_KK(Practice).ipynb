{
 "cells": [
  {
   "cell_type": "code",
   "execution_count": 2,
   "metadata": {
    "ExecuteTime": {
     "end_time": "2021-10-16T12:36:37.980749Z",
     "start_time": "2021-10-16T12:36:37.961768Z"
    }
   },
   "outputs": [
    {
     "name": "stdout",
     "output_type": "stream",
     "text": [
      "Intel64 Family 6 Model 158 Stepping 10, GenuineIntel\n",
      "48(GB)\n",
      "Windows\n",
      "10.0.19041\n",
      "D:\\DS\\Lecture\\[DataScience]\n",
      "2021-10-02 01:56:22.964415\n",
      "2021-10-16 21:36:32.516347\n",
      "2021-10-16 21:36:32.516347\n",
      "2021-10-16 21:36:37.965758\n",
      "다음 출력을 파일명으로 설정하고 제출하시오: 김경원_20211011_E정보시스템-1반_ConditionLoop\n"
     ]
    }
   ],
   "source": [
    "# 반드시 이 cell을 실행하시오\n",
    "# 실행하지 않을 시 직접 하지 않은 것으로 간주\n",
    "# 마지막 줄 출력으로 파일명을 설정하고 제출 필수\n",
    "import platform, psutil, os, datetime\n",
    "print(platform.processor())\n",
    "print(str(round(psutil.virtual_memory().total / (1024.0 **3)))+\"(GB)\")\n",
    "print(platform.system())\n",
    "print(platform.version())\n",
    "print(os.getcwd())\n",
    "print(datetime.datetime.fromtimestamp(os.path.getctime(os.getcwd())))\n",
    "print(datetime.datetime.fromtimestamp(os.path.getmtime(os.getcwd())))\n",
    "print(datetime.datetime.fromtimestamp(os.path.getatime(os.getcwd())))\n",
    "print(datetime.datetime.now())\n",
    "title = 'ConditionLoop'    # 고정값\n",
    "name = '김경원'    # 본인 이름을 작성\n",
    "studentid = '20211011'    # 본인 학번을 작성\n",
    "course_number = 'E정보시스템-1반'    # 1반: E정보시스템-1반, 2반: E정보시스템-2반, 3반: E정보시스템-3반\n",
    "print('다음 출력을 파일명으로 설정하고 제출하시오:', name + '_' + studentid + '_' + course_number + '_' + title)"
   ]
  },
  {
   "cell_type": "markdown",
   "metadata": {},
   "source": [
    "# 파이썬 조건문(Condition Statements): 입력이나 처리에 조건을 달자\n",
    "\n",
    "- **목적:** 입력을 하거나 데이터를 처리할 때, 특정 조건인 경우 실행되게 하는 기능\n",
    "\n",
    "> - 조건이 참(True) 또는 거짓(False)으로 나뉨\n",
    "> - 주로 논리 연산자와 산술 연산자와 함께 사용\n",
    "> - 조건문 뒤에 만드시 콜론(:) 붙이는 것이 문법\n",
    ">> - 콜론이 등장하면 그 다음 줄부터 무조건 들여쓰기 함\n",
    "> - 다른 프로그래밍과의 차이는 괄호로 묶여 구분하지 않고 들여쓰기로 영역 구분\n",
    "> - 조건에 따라 해당 조건에 맞는 상황을 실행 할 수 있게 됨\n",
    "\n",
    "## if / elif / else\n",
    "\n",
    "![Condition_Structure](Image/Condition_Structure.png)\n",
    "\n",
    "```python\n",
    "if 조건식:\n",
    "    문장\n",
    "```\n",
    "\n",
    "---\n",
    "\n",
    "```python\n",
    "if 내일 비가 온다:\n",
    "    집에서 TV본다\n",
    "```"
   ]
  },
  {
   "cell_type": "code",
   "execution_count": 1,
   "metadata": {
    "ExecuteTime": {
     "end_time": "2021-10-16T12:35:15.203162Z",
     "start_time": "2021-10-16T12:35:15.188202Z"
    }
   },
   "outputs": [
    {
     "name": "stdout",
     "output_type": "stream",
     "text": [
      "돈이 500원 이상 있습니다.\n"
     ]
    }
   ],
   "source": [
    "money = 1000\n",
    "\n",
    "if money >= 500: \n",
    "    print(\"돈이 500원 이상 있습니다.\")"
   ]
  },
  {
   "cell_type": "code",
   "execution_count": 2,
   "metadata": {
    "ExecuteTime": {
     "end_time": "2021-10-16T12:35:15.218122Z",
     "start_time": "2021-10-16T12:35:15.204159Z"
    }
   },
   "outputs": [],
   "source": [
    "money = 100\n",
    "\n",
    "if money >= 500: \n",
    "    print(\"돈이 500원 이상 있습니다.\")"
   ]
  },
  {
   "cell_type": "code",
   "execution_count": 3,
   "metadata": {
    "ExecuteTime": {
     "end_time": "2021-10-16T12:35:15.233082Z",
     "start_time": "2021-10-16T12:35:15.219119Z"
    }
   },
   "outputs": [
    {
     "data": {
      "text/plain": [
       "False"
      ]
     },
     "execution_count": 3,
     "metadata": {},
     "output_type": "execute_result"
    }
   ],
   "source": [
    "money >= 500"
   ]
  },
  {
   "cell_type": "markdown",
   "metadata": {},
   "source": [
    "```python\n",
    "if 조건식:\n",
    "    문장1\n",
    "else:\n",
    "    문장2\n",
    "```\n",
    "\n",
    "---\n",
    "\n",
    "```python\n",
    "if 내일 비가 온다:\n",
    "    집에서 TV본다\n",
    "else:\n",
    "    밖에서 산택한다\n",
    "```"
   ]
  },
  {
   "cell_type": "code",
   "execution_count": 4,
   "metadata": {
    "ExecuteTime": {
     "end_time": "2021-10-16T12:35:15.248041Z",
     "start_time": "2021-10-16T12:35:15.234079Z"
    }
   },
   "outputs": [
    {
     "name": "stdout",
     "output_type": "stream",
     "text": [
      "돈이 500원 미만 입니다.\n"
     ]
    }
   ],
   "source": [
    "# 돈이 100원일 때 \"돈이 500원 미만 입니다.\" 출력하기\n"
   ]
  },
  {
   "cell_type": "code",
   "execution_count": 5,
   "metadata": {
    "ExecuteTime": {
     "end_time": "2021-10-16T12:35:15.263002Z",
     "start_time": "2021-10-16T12:35:15.249039Z"
    }
   },
   "outputs": [],
   "source": [
    "# # 명령어 사용 후 들여쓰기 기준 할당 내용이 없으면 오류\n",
    "# money = 1000\n",
    "\n",
    "# if money >= 500: \n",
    "#     print(\"돈이 500원 이상 있습니다.\")\n",
    "# else:\n",
    "# print(\"돈이 500원 미만 입니다.\")"
   ]
  },
  {
   "cell_type": "code",
   "execution_count": 6,
   "metadata": {
    "ExecuteTime": {
     "end_time": "2021-10-16T12:35:15.278960Z",
     "start_time": "2021-10-16T12:35:15.264000Z"
    }
   },
   "outputs": [
    {
     "name": "stdout",
     "output_type": "stream",
     "text": [
      "돈이 500원 미만 입니다.\n",
      "허허..\n"
     ]
    }
   ],
   "source": [
    "money = 100\n",
    "\n",
    "if money >= 500: \n",
    "    print(\"돈이 500원 이상 있습니다.\")\n",
    "else:\n",
    "    print(\"돈이 500원 미만 입니다.\")\n",
    "print(\"허허..\")"
   ]
  },
  {
   "cell_type": "code",
   "execution_count": 7,
   "metadata": {
    "ExecuteTime": {
     "end_time": "2021-10-16T12:35:15.293919Z",
     "start_time": "2021-10-16T12:35:15.280953Z"
    }
   },
   "outputs": [
    {
     "name": "stdout",
     "output_type": "stream",
     "text": [
      "돈이 500원 이상 있습니다.\n",
      "허허..\n"
     ]
    }
   ],
   "source": [
    "money = 500\n",
    "\n",
    "if money >= 500: \n",
    "    print(\"돈이 500원 이상 있습니다.\")\n",
    "else:\n",
    "    print(\"돈이 500원 미만 입니다.\")\n",
    "print(\"허허..\")"
   ]
  },
  {
   "cell_type": "code",
   "execution_count": 8,
   "metadata": {
    "ExecuteTime": {
     "end_time": "2021-10-16T12:35:15.308879Z",
     "start_time": "2021-10-16T12:35:15.295914Z"
    }
   },
   "outputs": [
    {
     "name": "stdout",
     "output_type": "stream",
     "text": [
      "돈이 500원 이상 있습니다.\n"
     ]
    }
   ],
   "source": [
    "# 돈이 500일때와 아닐때를 실행해서 비교\n"
   ]
  },
  {
   "cell_type": "markdown",
   "metadata": {},
   "source": [
    "- if와 else는 한번만 사용할 수 있지만, elif는 여러번 사용 가능\n",
    "- elif는 단독으로 사용할 수 없고 if와 else 사이에만 와야 함\n",
    "\n",
    "```python\n",
    "if 조건식1:\n",
    "    문장1\n",
    "elif 조건식2:\n",
    "    문장2\n",
    "else:\n",
    "    문장3\n",
    "```\n",
    "\n",
    "---\n",
    "\n",
    "```python\n",
    "if 내일 비가 온다:\n",
    "    집에서 TV본다\n",
    "elif (비는 안오는데) 내일 덥다:\n",
    "    집에서 에어컨 켜고 TV본다\n",
    "else: (비도 안오고 안더우면)\n",
    "    밖에서 산택한다\n",
    "```"
   ]
  },
  {
   "cell_type": "code",
   "execution_count": 9,
   "metadata": {
    "ExecuteTime": {
     "end_time": "2021-10-16T12:35:15.323839Z",
     "start_time": "2021-10-16T12:35:15.310874Z"
    }
   },
   "outputs": [],
   "source": [
    "# 돈이 500원이 있을 때 \"돈이 딱 500원 있습니다.\" 출력하기\n"
   ]
  },
  {
   "cell_type": "code",
   "execution_count": 10,
   "metadata": {
    "ExecuteTime": {
     "end_time": "2021-10-16T12:35:15.339797Z",
     "start_time": "2021-10-16T12:35:15.324836Z"
    }
   },
   "outputs": [
    {
     "data": {
      "text/plain": [
       "False"
      ]
     },
     "execution_count": 10,
     "metadata": {},
     "output_type": "execute_result"
    }
   ],
   "source": [
    "money > 500"
   ]
  },
  {
   "cell_type": "code",
   "execution_count": 11,
   "metadata": {
    "ExecuteTime": {
     "end_time": "2021-10-16T12:35:15.354757Z",
     "start_time": "2021-10-16T12:35:15.340794Z"
    }
   },
   "outputs": [
    {
     "name": "stdout",
     "output_type": "stream",
     "text": [
      "돈이 500원 미만 입니다.\n"
     ]
    }
   ],
   "source": [
    "# 들여쓰기 위치에 따른 출력 확인\n",
    "money = 500\n",
    "\n",
    "if money > 500: \n",
    "    print(\"돈이 500원 이상 있습니다.\")\n",
    "    if money == 500:\n",
    "        print(\"돈이 딱 500원 있습니다.\")\n",
    "else:    # money <= 500\n",
    "    print(\"돈이 500원 미만 입니다.\")"
   ]
  },
  {
   "cell_type": "code",
   "execution_count": 12,
   "metadata": {
    "ExecuteTime": {
     "end_time": "2021-10-16T12:35:15.370713Z",
     "start_time": "2021-10-16T12:35:15.355754Z"
    }
   },
   "outputs": [
    {
     "name": "stdout",
     "output_type": "stream",
     "text": [
      "돈이 딱 500원 있습니다.\n"
     ]
    }
   ],
   "source": [
    "money = 500\n",
    "\n",
    "if money > 500: \n",
    "    print(\"돈이 500원 이상 있습니다.\")\n",
    "if money == 500:\n",
    "    print(\"돈이 딱 500원 있습니다.\")\n",
    "else:    # money != 500\n",
    "    print(\"돈이 500원 미만 입니다.\")"
   ]
  },
  {
   "cell_type": "code",
   "execution_count": 13,
   "metadata": {
    "ExecuteTime": {
     "end_time": "2021-10-16T12:35:15.385673Z",
     "start_time": "2021-10-16T12:35:15.371711Z"
    }
   },
   "outputs": [
    {
     "name": "stdout",
     "output_type": "stream",
     "text": [
      "돈이 500원 이상 있습니다.\n",
      "돈이 500원 미만 입니다.\n"
     ]
    }
   ],
   "source": [
    "# 동일 들여쓰기 위치에 if문이 있으면 반복적으로 if문 실행\n",
    "money = 5000\n",
    "\n",
    "if money > 500: \n",
    "    print(\"돈이 500원 이상 있습니다.\")\n",
    "if money == 500:\n",
    "    print(\"돈이 딱 500원 있습니다.\")\n",
    "else:    # money != 500\n",
    "    print(\"돈이 500원 미만 입니다.\")"
   ]
  },
  {
   "cell_type": "code",
   "execution_count": 14,
   "metadata": {
    "ExecuteTime": {
     "end_time": "2021-10-16T12:35:15.400633Z",
     "start_time": "2021-10-16T12:35:15.386671Z"
    }
   },
   "outputs": [
    {
     "name": "stdout",
     "output_type": "stream",
     "text": [
      "돈이 500원 이상 있습니다.\n"
     ]
    }
   ],
   "source": [
    "# if ~ elif ~ else 사용하여 돈이 5000원 있을 때 \"돈이 500원 이상 있습니다.\" 출력하기\n"
   ]
  },
  {
   "cell_type": "code",
   "execution_count": 15,
   "metadata": {
    "ExecuteTime": {
     "end_time": "2021-10-16T12:35:15.415593Z",
     "start_time": "2021-10-16T12:35:15.401631Z"
    }
   },
   "outputs": [
    {
     "name": "stdout",
     "output_type": "stream",
     "text": [
      "돈이 딱 500원 있습니다.\n"
     ]
    }
   ],
   "source": [
    "# if ~ elif ~ else 사용하여 돈이 500원 있을 때 \"돈이 딱 500원 있습니다.\" 출력하기\n"
   ]
  },
  {
   "cell_type": "code",
   "execution_count": 16,
   "metadata": {
    "ExecuteTime": {
     "end_time": "2021-10-16T12:35:15.430553Z",
     "start_time": "2021-10-16T12:35:15.416590Z"
    }
   },
   "outputs": [
    {
     "name": "stdout",
     "output_type": "stream",
     "text": [
      "돈이 500원 미만 입니다.\n"
     ]
    }
   ],
   "source": [
    "# if ~ elif ~ else 사용하여 돈이 50원 있을 때 \"돈이 500원 미만 입니다.\" 출력하기\n"
   ]
  },
  {
   "cell_type": "code",
   "execution_count": 17,
   "metadata": {
    "ExecuteTime": {
     "end_time": "2021-10-16T12:35:15.445537Z",
     "start_time": "2021-10-16T12:35:15.431551Z"
    }
   },
   "outputs": [
    {
     "name": "stdout",
     "output_type": "stream",
     "text": [
      "돈이 딱 500원 있습니다.\n"
     ]
    }
   ],
   "source": [
    "# elif를 사용하지 않고 돈이 500원 있을 때 \"돈이 딱 500원 있습니다.\" 출력하기\n",
    "# 위에 있는 코드를 동일하게 복제\n"
   ]
  },
  {
   "cell_type": "code",
   "execution_count": 18,
   "metadata": {
    "ExecuteTime": {
     "end_time": "2021-10-16T12:35:15.460473Z",
     "start_time": "2021-10-16T12:35:15.446511Z"
    }
   },
   "outputs": [],
   "source": [
    "# # elif로 시작할 수 없음\n",
    "# money = 500\n",
    "\n",
    "# elif money == 500:\n",
    "#     print(\"돈이 딱 500원 있습니다.\")\n",
    "# else:\n",
    "#     print(\"돈이 500원 미만 입니다.\")"
   ]
  },
  {
   "cell_type": "code",
   "execution_count": 19,
   "metadata": {
    "ExecuteTime": {
     "end_time": "2021-10-16T12:35:15.475433Z",
     "start_time": "2021-10-16T12:35:15.461471Z"
    }
   },
   "outputs": [],
   "source": [
    "# # 조건문 사용 후 명령이 없으면 오류\n",
    "# money = 5000\n",
    "\n",
    "# if money == 5000:\n",
    "    "
   ]
  },
  {
   "cell_type": "code",
   "execution_count": 20,
   "metadata": {
    "ExecuteTime": {
     "end_time": "2021-10-16T12:35:15.490394Z",
     "start_time": "2021-10-16T12:35:15.476430Z"
    }
   },
   "outputs": [],
   "source": [
    "# 조건문 사용 후 명령이 없어나 나중에 반영하고 싶을 때 pass 사용하면 오류 미발생\n"
   ]
  },
  {
   "cell_type": "code",
   "execution_count": 21,
   "metadata": {
    "ExecuteTime": {
     "end_time": "2021-10-16T12:35:15.505385Z",
     "start_time": "2021-10-16T12:35:15.491392Z"
    }
   },
   "outputs": [],
   "source": [
    "money = 5000\n",
    "\n",
    "if money == 5000:\n",
    "    pass           # TODO: 나중에 이슈 생성시 진행\n",
    "else: \n",
    "    print('5000은 아닌가벼!')"
   ]
  },
  {
   "cell_type": "code",
   "execution_count": 22,
   "metadata": {
    "ExecuteTime": {
     "end_time": "2021-10-16T12:35:15.520345Z",
     "start_time": "2021-10-16T12:35:15.509343Z"
    }
   },
   "outputs": [
    {
     "name": "stdout",
     "output_type": "stream",
     "text": [
      "5000은 아닌가벼!\n"
     ]
    }
   ],
   "source": [
    "money = 500\n",
    "\n",
    "if money == 5000:\n",
    "    pass           # TODO: 나중에 이슈 생성시 진행\n",
    "else: \n",
    "    print('5000은 아닌가벼!')"
   ]
  },
  {
   "cell_type": "code",
   "execution_count": 23,
   "metadata": {
    "ExecuteTime": {
     "end_time": "2021-10-16T12:35:15.535301Z",
     "start_time": "2021-10-16T12:35:15.522308Z"
    }
   },
   "outputs": [
    {
     "name": "stdout",
     "output_type": "stream",
     "text": [
      "5000은 아닌가벼!\n"
     ]
    }
   ],
   "source": [
    "# 조건문과 명령을 한줄에 줄여서 사용해도 실행은 가능\n",
    "# (초급인경우) 실사용은 권장하지 않음\n",
    "money = 500\n",
    "\n",
    "if money == 5000: pass           # TODO: 나중에 이슈 생성시 진행\n",
    "else: print('5000은 아닌가벼!')"
   ]
  },
  {
   "cell_type": "code",
   "execution_count": 24,
   "metadata": {
    "ExecuteTime": {
     "end_time": "2021-10-16T12:35:15.550261Z",
     "start_time": "2021-10-16T12:35:15.536270Z"
    }
   },
   "outputs": [],
   "source": [
    "# # 진행할 명령어도 없는데 들여쓰기를 하면 에러 발생\n",
    "# x = 10\n",
    " \n",
    "# if x == 10:\n",
    "#      print('x에 들어있는 숫자는')\n",
    "#          print('10입니다.')     # unexpected indent 에러 발생"
   ]
  },
  {
   "cell_type": "code",
   "execution_count": 25,
   "metadata": {
    "ExecuteTime": {
     "end_time": "2021-10-16T12:35:15.565194Z",
     "start_time": "2021-10-16T12:35:15.551231Z"
    }
   },
   "outputs": [
    {
     "name": "stdout",
     "output_type": "stream",
     "text": [
      "x에 들어있는 숫자는\n",
      "10입니다.\n"
     ]
    }
   ],
   "source": [
    "# 조건문 이하 명령은 여러줄 실행 가능\n",
    "x = 10\n",
    " \n",
    "if x == 10:\n",
    "    print('x에 들어있는 숫자는')\n",
    "    print('10입니다.') "
   ]
  },
  {
   "cell_type": "code",
   "execution_count": 26,
   "metadata": {
    "ExecuteTime": {
     "end_time": "2021-10-16T12:35:15.580155Z",
     "start_time": "2021-10-16T12:35:15.566191Z"
    }
   },
   "outputs": [
    {
     "name": "stdout",
     "output_type": "stream",
     "text": [
      "x에 들어있는 숫자는\n",
      "10입니다.\n"
     ]
    }
   ],
   "source": [
    "# 조건문이 관할하는 명령문은 오로지 들여쓰기 기준으로만 판단\n"
   ]
  },
  {
   "cell_type": "code",
   "execution_count": 27,
   "metadata": {
    "ExecuteTime": {
     "end_time": "2021-10-16T12:35:15.595113Z",
     "start_time": "2021-10-16T12:35:15.585141Z"
    }
   },
   "outputs": [
    {
     "name": "stdout",
     "output_type": "stream",
     "text": [
      "10입니다.\n"
     ]
    }
   ],
   "source": [
    "x = 5\n",
    " \n",
    "if x == 10:\n",
    "     print('x에 들어있는 숫자는')\n",
    "print ('10입니다.')"
   ]
  },
  {
   "cell_type": "markdown",
   "metadata": {},
   "source": [
    "- **Question:** 아래 코드에서 x의 값이 10이 아닐때 'ok'가 출력되도록 하시오\n",
    "\n",
    "```python\n",
    "x = 5\n",
    "\n",
    "if __________:\n",
    "    print(____)\n",
    "```"
   ]
  },
  {
   "cell_type": "code",
   "execution_count": null,
   "metadata": {
    "ExecuteTime": {
     "end_time": "2021-10-06T06:26:32.706250Z",
     "start_time": "2021-10-06T06:26:32.695862Z"
    }
   },
   "outputs": [],
   "source": []
  },
  {
   "cell_type": "markdown",
   "metadata": {},
   "source": [
    "- if, elif는 여러개 있더라도 하나만 참인 경우만 실행되며, elif는 같은 if절로 취급\n",
    "\n",
    "```python\n",
    "if 조건문1:\n",
    "    문장11\n",
    "    문장21\n",
    "elif 조건문2:\n",
    "    문장21\n",
    "    문장22\n",
    "elif 조건문3:\n",
    "    문장31\n",
    "    문장32\n",
    "else:\n",
    "    문장41\n",
    "    문장42\n",
    "```"
   ]
  },
  {
   "cell_type": "code",
   "execution_count": 28,
   "metadata": {
    "ExecuteTime": {
     "end_time": "2021-10-16T12:35:15.610076Z",
     "start_time": "2021-10-16T12:35:15.596112Z"
    }
   },
   "outputs": [
    {
     "name": "stdout",
     "output_type": "stream",
     "text": [
      "10\n",
      "20\n",
      "30\n"
     ]
    }
   ],
   "source": [
    "# if문을 동일 들여쓰기에서 반복하면 모두 실행됨\n",
    "a, b, c = 10, 20, 30\n",
    " \n",
    "if a == 10:        # 조건식이 참\n",
    "    print('10')    # 출력\n",
    "if b == 20:        # 조건식이 참\n",
    "    print('20')    # 출력\n",
    "if c == 30:        # 조건식이 참\n",
    "    print('30')    # 출력"
   ]
  },
  {
   "cell_type": "code",
   "execution_count": 29,
   "metadata": {
    "ExecuteTime": {
     "end_time": "2021-10-16T12:35:15.626030Z",
     "start_time": "2021-10-16T12:35:15.612068Z"
    }
   },
   "outputs": [
    {
     "name": "stdout",
     "output_type": "stream",
     "text": [
      "10\n"
     ]
    }
   ],
   "source": [
    "# elif는 여러번 사용가능\n"
   ]
  },
  {
   "cell_type": "code",
   "execution_count": 30,
   "metadata": {
    "ExecuteTime": {
     "end_time": "2021-10-16T12:35:15.640990Z",
     "start_time": "2021-10-16T12:35:15.627028Z"
    }
   },
   "outputs": [
    {
     "name": "stdout",
     "output_type": "stream",
     "text": [
      "20\n"
     ]
    }
   ],
   "source": [
    "a, b, c = 5, 20, 30\n",
    " \n",
    "if a == 10:        # 조건식이 거짓\n",
    "    print('10')\n",
    "elif b == 20:      # 조건식이 참\n",
    "    print('20')    # 출력\n",
    "elif c == 30:      # 조건식을 검사하지 않고 건너뜀\n",
    "    print('30')"
   ]
  },
  {
   "cell_type": "markdown",
   "metadata": {},
   "source": [
    "## 조건식의 특수경우"
   ]
  },
  {
   "cell_type": "code",
   "execution_count": 31,
   "metadata": {
    "ExecuteTime": {
     "end_time": "2021-10-16T12:35:15.655979Z",
     "start_time": "2021-10-16T12:35:15.641988Z"
    }
   },
   "outputs": [
    {
     "name": "stdout",
     "output_type": "stream",
     "text": [
      "참\n",
      "거짓\n",
      "거짓\n"
     ]
    }
   ],
   "source": [
    "# 조건식에 True / False에 대응되는 불리언 사용가능\n",
    "if True:\n",
    "    print('참')    # True는 참\n",
    "else:\n",
    "    print('거짓')\n",
    " \n",
    "if False:\n",
    "    print('참')\n",
    "else:\n",
    "    print('거짓')    # False는 거짓\n",
    " \n",
    "if None:    # None은 False로 취급 (실수든 아니든 계산상 None이 될 경우 다수)\n",
    "    print('참')\n",
    "else:\n",
    "    print('거짓')"
   ]
  },
  {
   "cell_type": "code",
   "execution_count": 32,
   "metadata": {
    "ExecuteTime": {
     "end_time": "2021-10-16T12:35:15.671935Z",
     "start_time": "2021-10-16T12:35:15.656948Z"
    }
   },
   "outputs": [
    {
     "data": {
      "text/plain": [
       "False"
      ]
     },
     "execution_count": 32,
     "metadata": {},
     "output_type": "execute_result"
    }
   ],
   "source": [
    "None == False"
   ]
  },
  {
   "cell_type": "markdown",
   "metadata": {},
   "source": [
    "- 0이면 거짓, 0이 아닌 수는 참"
   ]
  },
  {
   "cell_type": "code",
   "execution_count": 33,
   "metadata": {
    "ExecuteTime": {
     "end_time": "2021-10-16T12:35:15.686895Z",
     "start_time": "2021-10-16T12:35:15.672905Z"
    }
   },
   "outputs": [
    {
     "name": "stdout",
     "output_type": "stream",
     "text": [
      "거짓\n",
      "참\n",
      "참\n",
      "참\n",
      "참\n"
     ]
    }
   ],
   "source": [
    "# 조건식에 True / False에 대응되는 숫자 사용가능\n",
    "if 0:\n",
    "    print('참')\n",
    "else:\n",
    "    print('거짓')    # 0은 거짓\n",
    " \n",
    "if 1:\n",
    "    print('참')    # 1은 참\n",
    "else:\n",
    "    print('거짓')\n",
    " \n",
    "if 0x1F:    # 16진수\n",
    "    print('참')    # 0x1F는 참\n",
    "else:\n",
    "    print('거짓')\n",
    " \n",
    "if 0b1000:    # 2진수\n",
    "    print('참')    # 0b1000은 참\n",
    "else:\n",
    "    print('거짓')\n",
    " \n",
    "if 13.5:    # 실수\n",
    "    print('참')    # 13.5는 참\n",
    "else:\n",
    "    print('거짓')"
   ]
  },
  {
   "cell_type": "markdown",
   "metadata": {},
   "source": [
    "- 빈 문자열은 거짓, 그렇지 않으면 모두 참"
   ]
  },
  {
   "cell_type": "code",
   "execution_count": 34,
   "metadata": {
    "ExecuteTime": {
     "end_time": "2021-10-16T12:35:15.701856Z",
     "start_time": "2021-10-16T12:35:15.687865Z"
    }
   },
   "outputs": [
    {
     "name": "stdout",
     "output_type": "stream",
     "text": [
      "참\n",
      "참\n",
      "거짓\n"
     ]
    }
   ],
   "source": [
    "# 조건식에 True / False에 대응되는 문자열 사용가능\n"
   ]
  },
  {
   "cell_type": "markdown",
   "metadata": {},
   "source": [
    "- **(주의) 0, None, ''은 False로 취급하므로 else가 동작할 수 있음!**"
   ]
  },
  {
   "cell_type": "code",
   "execution_count": 35,
   "metadata": {
    "ExecuteTime": {
     "end_time": "2021-10-16T12:35:15.716815Z",
     "start_time": "2021-10-16T12:35:15.702825Z"
    }
   },
   "outputs": [
    {
     "name": "stdout",
     "output_type": "stream",
     "text": [
      "참\n",
      "참\n",
      "참\n"
     ]
    }
   ],
   "source": [
    "if not 0:    # not A\n",
    "    print('참')    # not 0은 참\n",
    " \n",
    "if not None:\n",
    "    print('참')    # None은 참\n",
    " \n",
    "if not '':\n",
    "    print('참')    # not 빈 문자열은 참"
   ]
  },
  {
   "cell_type": "markdown",
   "metadata": {},
   "source": [
    "- **요약:** False로 취급하는 것들\n",
    "\n",
    "> 1. None\n",
    "> 2. False\n",
    "> 3. 0인 숫자: 0, 0.0, 0j\n",
    "> 4. 비어있는 문자열/리스트/튜플/세트/딕셔너리: '', \"\", [], (), set(), {}\n",
    "> 5. __bool__(), __len__() 등의 함수가 False 또는 0을 반환하는 경우들"
   ]
  },
  {
   "cell_type": "markdown",
   "metadata": {},
   "source": [
    "## 여러개의 조건식 결합"
   ]
  },
  {
   "cell_type": "code",
   "execution_count": 36,
   "metadata": {
    "ExecuteTime": {
     "end_time": "2021-10-16T12:35:15.731775Z",
     "start_time": "2021-10-16T12:35:15.717785Z"
    }
   },
   "outputs": [
    {
     "name": "stdout",
     "output_type": "stream",
     "text": [
      "참\n"
     ]
    }
   ],
   "source": [
    "# 조건식은 여러개를 사용하여 판단케 할 수 있음\n"
   ]
  },
  {
   "cell_type": "code",
   "execution_count": 37,
   "metadata": {
    "ExecuteTime": {
     "end_time": "2021-10-16T12:35:15.746733Z",
     "start_time": "2021-10-16T12:35:15.732745Z"
    }
   },
   "outputs": [
    {
     "name": "stdout",
     "output_type": "stream",
     "text": [
      "20보다 작은 양수입니다.\n"
     ]
    }
   ],
   "source": [
    "# if문을 반복적용하여 예시 생성\n",
    "if x > 0:\n",
    "    if x < 20:    # x > 0 and x < 20\n",
    "        print('20보다 작은 양수입니다.')"
   ]
  },
  {
   "cell_type": "code",
   "execution_count": 38,
   "metadata": {
    "ExecuteTime": {
     "end_time": "2021-10-16T12:35:15.762666Z",
     "start_time": "2021-10-16T12:35:15.748703Z"
    }
   },
   "outputs": [
    {
     "name": "stdout",
     "output_type": "stream",
     "text": [
      "20보다 작은 양수입니다.\n"
     ]
    }
   ],
   "source": [
    "# if문만 사용해서 위 코드를 변환\n"
   ]
  },
  {
   "cell_type": "code",
   "execution_count": 39,
   "metadata": {
    "ExecuteTime": {
     "end_time": "2021-10-16T12:35:15.777657Z",
     "start_time": "2021-10-16T12:35:15.763663Z"
    }
   },
   "outputs": [
    {
     "name": "stdout",
     "output_type": "stream",
     "text": [
      "20보다 작은 양수입니다.\n"
     ]
    }
   ],
   "source": [
    "# if문만 사용해서 위 코드를 변환\n",
    "# 다른 언어와 달리 부등호 여러개 동시에 적용 가능\n"
   ]
  },
  {
   "cell_type": "markdown",
   "metadata": {},
   "source": [
    "- **Question:** 필기 시험 점수가 80점 이상이며 동시에 코딩 시험을 통과(True)하면 합격인 아래의 조건식을 완성하여 합격/불합격 여부를 출력하시오\n",
    "\n",
    "```python\n",
    "written_test = 75\n",
    "coding_test = True\n",
    "\n",
    "if ________________:\n",
    "    print('합격')\n",
    "else:\n",
    "    print('불합격')\n",
    "```"
   ]
  },
  {
   "cell_type": "code",
   "execution_count": 40,
   "metadata": {
    "ExecuteTime": {
     "end_time": "2021-10-16T12:35:15.792585Z",
     "start_time": "2021-10-16T12:35:15.779619Z"
    }
   },
   "outputs": [],
   "source": [
    "written_test = 75\n",
    "coding_test = True\n",
    "\n",
    "# 불합격 출력\n",
    "# if"
   ]
  },
  {
   "cell_type": "markdown",
   "metadata": {},
   "source": [
    "- **Question:** 변수 x가 11과 20 사이면 '11$\\sim$20', 21과 30 사이면, '21$\\sim$30', 어디도 해당하지 않으면 '아무것도 해당하지 않음'을 출력하시오"
   ]
  },
  {
   "cell_type": "code",
   "execution_count": null,
   "metadata": {
    "ExecuteTime": {
     "end_time": "2021-10-06T06:25:20.034163Z",
     "start_time": "2021-10-06T06:25:20.028588Z"
    }
   },
   "outputs": [],
   "source": []
  },
  {
   "cell_type": "markdown",
   "metadata": {},
   "source": [
    "# 파이썬 반복문(Loop): 처리를 반복하자\n",
    "\n",
    "- 비슷한 작업을 반복해야 한다면 반복문을 사용할 것\n",
    "> - **while문:** 조건문이 참/거짓 여부에 따라 반복을 진행\n",
    "> - **break/continue문:** 반복문을 제어하기\n",
    "> - **for문:** 값이나 요소를 하나씩 가져오면서 반복을 진행"
   ]
  },
  {
   "cell_type": "markdown",
   "metadata": {},
   "source": [
    "## while문\n",
    "\n",
    "> - 조건식을 품고 있으며, 조건식이 참이면 문장을 반복하고 그렇지 않으면 반복문을 빠져나옴\n",
    "> - if문을 반복적으로 수행하는 것이 while문\n",
    "\n",
    "```python\n",
    "if 조건식:\n",
    "    문장\n",
    "```\n",
    "\n",
    "---\n",
    "\n",
    "```python\n",
    "while 조건식:\n",
    "    문장\n",
    "```\n",
    "\n",
    "---\n",
    "\n",
    "```python\n",
    "초기식\n",
    "while 조건식:\n",
    "    문장\n",
    "    변화식\n",
    "```"
   ]
  },
  {
   "cell_type": "code",
   "execution_count": 41,
   "metadata": {
    "ExecuteTime": {
     "end_time": "2021-10-16T12:35:15.807545Z",
     "start_time": "2021-10-16T12:35:15.793583Z"
    }
   },
   "outputs": [
    {
     "name": "stdout",
     "output_type": "stream",
     "text": [
      "Hello, world!\n",
      "Hello, world!\n",
      "Hello, world!\n",
      "Hello, world!\n",
      "Hello, world!\n",
      "Hello, world!\n",
      "Hello, world!\n",
      "Hello, world!\n",
      "Hello, world!\n",
      "Hello, world!\n"
     ]
    }
   ],
   "source": [
    "i = 0                     # 초기식\n",
    "while i < 10:             # while 조건식\n",
    "     print('Hello, world!')    # 반복할 코드\n",
    "     i = i + 1                    # 변화식"
   ]
  },
  {
   "cell_type": "markdown",
   "metadata": {},
   "source": [
    "| i | 조건식 | 조건판단 | 수행 문장 | while문 |\n",
    "|---|---|---|---|---|\n",
    "| 0 | 0 < 10 | 참 | Hello, world! | 반복 |\n",
    "| 1 | 1 < 10 | 참 | Hello, world! | 반복 |\n",
    "| 2 | 2 < 10 | 참 | Hello, world! | 반복 |\n",
    "| 3 | 3 < 10 | 참 | Hello, world! | 반복 |\n",
    "| 4 | 4 < 10 | 참 | Hello, world! | 반복 |\n",
    "| 5 | 5 < 10 | 참 | Hello, world! | 반복 |\n",
    "| 6 | 6 < 10 | 참 | Hello, world! | 반복 |\n",
    "| 7 | 7 < 10 | 참 | Hello, world! | 반복 |\n",
    "| 8 | 8 < 10 | 참 | Hello, world! | 반복 |\n",
    "| 9 | 9 < 10 | 참 | Hello, world! | 반복 |\n",
    "| 10 | 10 < 10 | 거짓 |  | 종료 |"
   ]
  },
  {
   "cell_type": "code",
   "execution_count": 42,
   "metadata": {
    "ExecuteTime": {
     "end_time": "2021-10-16T12:35:15.822505Z",
     "start_time": "2021-10-16T12:35:15.808542Z"
    }
   },
   "outputs": [
    {
     "name": "stdout",
     "output_type": "stream",
     "text": [
      "Hello, world! 1\n",
      "Hello, world! 2\n",
      "Hello, world! 3\n",
      "Hello, world! 4\n",
      "Hello, world! 5\n",
      "Hello, world! 6\n",
      "Hello, world! 7\n",
      "Hello, world! 8\n",
      "Hello, world! 9\n"
     ]
    }
   ],
   "source": [
    "# 반복할 명령과 반복변수 동시 출력\n",
    "i = 1                     # 초기식\n",
    "while i < 10:             # while 조건식\n",
    "     print('Hello, world!', i)    # 반복할 코드\n",
    "     i = i + 1                    # 변화식"
   ]
  },
  {
   "cell_type": "code",
   "execution_count": 43,
   "metadata": {
    "ExecuteTime": {
     "end_time": "2021-10-16T12:35:15.838462Z",
     "start_time": "2021-10-16T12:35:15.823503Z"
    }
   },
   "outputs": [
    {
     "name": "stdout",
     "output_type": "stream",
     "text": [
      "Hello, world! 9\n",
      "Hello, world! 8\n",
      "Hello, world! 7\n",
      "Hello, world! 6\n",
      "Hello, world! 5\n",
      "Hello, world! 4\n",
      "Hello, world! 3\n",
      "Hello, world! 2\n",
      "Hello, world! 1\n"
     ]
    }
   ],
   "source": [
    "# 반복할 명령과 반복변수 동시 출력\n"
   ]
  },
  {
   "cell_type": "code",
   "execution_count": 44,
   "metadata": {
    "ExecuteTime": {
     "end_time": "2021-10-16T12:35:15.853422Z",
     "start_time": "2021-10-16T12:35:15.839460Z"
    }
   },
   "outputs": [],
   "source": [
    "# 변수를 입력받아 반복문 사용 가능\n"
   ]
  },
  {
   "cell_type": "code",
   "execution_count": 45,
   "metadata": {
    "ExecuteTime": {
     "end_time": "2021-10-16T12:35:15.868382Z",
     "start_time": "2021-10-16T12:35:15.854419Z"
    }
   },
   "outputs": [],
   "source": [
    "# 변수를 입력받아 반복문 사용 가능\n"
   ]
  },
  {
   "cell_type": "markdown",
   "metadata": {},
   "source": [
    "## while문의 유용한 케이스"
   ]
  },
  {
   "cell_type": "markdown",
   "metadata": {},
   "source": [
    "- 일반적으로 while문은 반복 횟수는 정해지지 않은 경우 유용\n",
    "- 우리가 사용하는 프로그램 중 무한 루프 개념을 사용하지 않는 프로그램은 거의 없음(ex. 자판기)"
   ]
  },
  {
   "cell_type": "code",
   "execution_count": 46,
   "metadata": {
    "ExecuteTime": {
     "end_time": "2021-10-16T12:35:15.883342Z",
     "start_time": "2021-10-16T12:35:15.869379Z"
    }
   },
   "outputs": [],
   "source": [
    "import random    # random 모듈을 가져옴"
   ]
  },
  {
   "cell_type": "code",
   "execution_count": 47,
   "metadata": {
    "ExecuteTime": {
     "end_time": "2021-10-16T12:35:15.898301Z",
     "start_time": "2021-10-16T12:35:15.884339Z"
    }
   },
   "outputs": [
    {
     "data": {
      "text/plain": [
       "4"
      ]
     },
     "execution_count": 47,
     "metadata": {},
     "output_type": "execute_result"
    }
   ],
   "source": [
    "# 1과 6사이의 랜덤한 수 하나를 출력하며 실행할때마다 랜덤하게 출력\n"
   ]
  },
  {
   "cell_type": "code",
   "execution_count": 48,
   "metadata": {
    "ExecuteTime": {
     "end_time": "2021-10-16T12:35:15.913262Z",
     "start_time": "2021-10-16T12:35:15.899299Z"
    }
   },
   "outputs": [
    {
     "name": "stdout",
     "output_type": "stream",
     "text": [
      "6\n",
      "5\n",
      "3\n"
     ]
    }
   ],
   "source": [
    "# 랜덤 값이 3이 나올때까지 멈추지 않는 반복문 실행\n"
   ]
  },
  {
   "cell_type": "code",
   "execution_count": 49,
   "metadata": {
    "ExecuteTime": {
     "end_time": "2021-10-16T12:35:15.928223Z",
     "start_time": "2021-10-16T12:35:15.914259Z"
    },
    "scrolled": true
   },
   "outputs": [],
   "source": [
    "# # 무한루프 실행 가능 (무한루프는 대부분의 전자기기에 필수)\n",
    "# while True:    # while에 True를 지정하면 무한 루프\n",
    "#     print('Hello, world!')"
   ]
  },
  {
   "cell_type": "code",
   "execution_count": 50,
   "metadata": {
    "ExecuteTime": {
     "end_time": "2021-10-16T12:35:15.943182Z",
     "start_time": "2021-10-16T12:35:15.931216Z"
    }
   },
   "outputs": [],
   "source": [
    "# True에 대응되는 숫자 사용가능\n"
   ]
  },
  {
   "cell_type": "code",
   "execution_count": 51,
   "metadata": {
    "ExecuteTime": {
     "end_time": "2021-10-16T12:35:15.959163Z",
     "start_time": "2021-10-16T12:35:15.944180Z"
    }
   },
   "outputs": [],
   "source": [
    "# # True에 대응되는 문자 사용가능\n",
    "# while 'Hello':    # 내용이 있는 문자열은 True로 취급하여 무한 루프로 동작\n",
    "#     print('Hello, world!')"
   ]
  },
  {
   "cell_type": "markdown",
   "metadata": {
    "ExecuteTime": {
     "end_time": "2021-03-09T14:07:26.623572Z",
     "start_time": "2021-03-09T14:07:26.613601Z"
    }
   },
   "source": [
    "- **Question:** 2개의 변수 x와 y를 변화시키는 반복문을 작성하시오. 출력되는 결과는 아래와 같고 x와 y가 함께 출력되어야 합니다.\n",
    "\n",
    "```python\n",
    "x = 2\n",
    "y = 5\n",
    "\n",
    "___________ or ______:\n",
    "    print(x, y)\n",
    "    __________\n",
    "    __________\n",
    "```\n",
    "\n",
    "```python\n",
    "2 5\n",
    "4 4\n",
    "8 3\n",
    "16 2\n",
    "32 1\n",
    "```"
   ]
  },
  {
   "cell_type": "code",
   "execution_count": 52,
   "metadata": {
    "ExecuteTime": {
     "end_time": "2021-10-16T12:35:15.975096Z",
     "start_time": "2021-10-16T12:35:15.960137Z"
    }
   },
   "outputs": [],
   "source": [
    "x = 2\n",
    "y = 5\n",
    "\n",
    "# while \n"
   ]
  },
  {
   "cell_type": "markdown",
   "metadata": {},
   "source": [
    "## break/continue문\n",
    "\n",
    "- **break:** 반복문을 제어/중단 시키고 반복문을 빠져나옴, 무한루프 강제종료에 제격\n",
    "- **continue:** 반복문의 흐름은 유지한채, 조건식 내 문장 실행을 건너뛰고 다시 조건식으로 돌아감"
   ]
  },
  {
   "cell_type": "code",
   "execution_count": 53,
   "metadata": {
    "ExecuteTime": {
     "end_time": "2021-10-16T12:35:15.990056Z",
     "start_time": "2021-10-16T12:35:15.976095Z"
    }
   },
   "outputs": [
    {
     "name": "stdout",
     "output_type": "stream",
     "text": [
      "0\n",
      "1\n",
      "2\n",
      "3\n",
      "4\n",
      "5\n",
      "6\n",
      "7\n",
      "8\n",
      "9\n"
     ]
    }
   ],
   "source": [
    "i = 0\n",
    "while True:    # 무한 루프\n",
    "    print(i)\n",
    "    i = i + 1          # i를 1씩 증가시킴\n",
    "    if i == 10:     # i가 10일 때\n",
    "        break       # 반복문을 끝냄. while의 제어흐름을 벗어남"
   ]
  },
  {
   "cell_type": "code",
   "execution_count": 54,
   "metadata": {
    "ExecuteTime": {
     "end_time": "2021-10-16T12:35:16.005017Z",
     "start_time": "2021-10-16T12:35:15.991055Z"
    }
   },
   "outputs": [
    {
     "name": "stdout",
     "output_type": "stream",
     "text": [
      "1\n",
      "3\n",
      "5\n",
      "7\n",
      "9\n"
     ]
    }
   ],
   "source": [
    "i = 0\n",
    "while i < 10:         # i가 10보다 작을 때 반복. 0부터 9까지 증가하면서 10번 반복\n",
    "    i = i + 1            # i를 1씩 증가시킴\n",
    "    if i % 2 == 0:    # i를 2로 나누었을 때 나머지가 0이면 짝수\n",
    "        continue      # 아래 코드를 실행하지 않고 조건식 이하를 건너뜀\n",
    "    print(i)"
   ]
  },
  {
   "cell_type": "code",
   "execution_count": 55,
   "metadata": {
    "ExecuteTime": {
     "end_time": "2021-10-16T12:35:16.019977Z",
     "start_time": "2021-10-16T12:35:16.006014Z"
    }
   },
   "outputs": [],
   "source": [
    "# # 멈추기 위해서는 kernel - interrupt\n",
    "# i = 1\n",
    "# while i:         # i가 10보다 작을 때 반복. 0부터 9까지 증가하면서 10번 반복\n",
    "#     i = i + 1            # i를 1씩 증가시킴\n",
    "#     print(i)\n",
    "#     continue      # 아래 코드를 실행하지 않고 조건식 이하를 건너뜀"
   ]
  },
  {
   "cell_type": "code",
   "execution_count": 56,
   "metadata": {
    "ExecuteTime": {
     "end_time": "2021-10-16T12:35:16.035933Z",
     "start_time": "2021-10-16T12:35:16.020974Z"
    }
   },
   "outputs": [],
   "source": [
    "# i = 1\n",
    "# while i:         # i가 10보다 작을 때 반복. 0부터 9까지 증가하면서 10번 반복\n",
    "#     i = i + 1            # i를 1씩 증가시킴\n",
    "#     continue      # 아래 코드를 실행하지 않고 조건식 이하를 건너뜀\n",
    "#     print(i)"
   ]
  },
  {
   "cell_type": "code",
   "execution_count": 57,
   "metadata": {
    "ExecuteTime": {
     "end_time": "2021-10-16T12:35:16.050894Z",
     "start_time": "2021-10-16T12:35:16.036932Z"
    }
   },
   "outputs": [],
   "source": [
    "# # 반복횟수를 입력받아 i를 출력하시오\n",
    "# count = int(input('반복할 횟수를 입력하세요: '))\n",
    " \n",
    "# i = 0\n",
    "# while True:    # 무한 루프\n",
    "#     print(i)\n",
    "#     i = i + 1\n",
    "#     if i == count:    # i가 입력받은 값과 같을 때\n",
    "#         break         # 반복문을 끝냄"
   ]
  },
  {
   "cell_type": "markdown",
   "metadata": {},
   "source": [
    "- **Question:** 입력한 숫자까지 해당하는 홀수를 출력하시오\n",
    "\n",
    "```python\n",
    "count = int(input('반복할 횟수를 입력하세요: '))\n",
    " \n",
    "i = 0\n",
    "while True:\n",
    "    i = i + 1\n",
    "    __________\n",
    "        ______\n",
    "    __________\n",
    "        ______     \n",
    "```"
   ]
  },
  {
   "cell_type": "code",
   "execution_count": null,
   "metadata": {
    "ExecuteTime": {
     "end_time": "2021-10-06T06:50:25.872758Z",
     "start_time": "2021-10-06T06:50:23.150409Z"
    }
   },
   "outputs": [],
   "source": []
  },
  {
   "cell_type": "markdown",
   "metadata": {
    "ExecuteTime": {
     "end_time": "2021-10-01T15:02:16.156210Z",
     "start_time": "2021-10-01T14:58:41.842Z"
    }
   },
   "source": [
    "- **Question:** 0과 100사이의 숫자 중 끝자리가 6으로 끝나는 숫자만 출력하시오\n",
    "\n",
    "```python\n",
    "i = 0\n",
    "while True:\n",
    "    if __________\n",
    "        __________\n",
    "        continue\n",
    "    if __________\n",
    "        break\n",
    "    print(i)\n",
    "    ____________\n",
    "```"
   ]
  },
  {
   "cell_type": "code",
   "execution_count": null,
   "metadata": {
    "ExecuteTime": {
     "end_time": "2021-10-06T06:54:26.610927Z",
     "start_time": "2021-10-06T06:54:26.600368Z"
    }
   },
   "outputs": [],
   "source": []
  },
  {
   "cell_type": "code",
   "execution_count": 58,
   "metadata": {
    "ExecuteTime": {
     "end_time": "2021-10-16T12:35:16.066851Z",
     "start_time": "2021-10-16T12:35:16.051891Z"
    }
   },
   "outputs": [],
   "source": [
    "# 무인자판기 생성 \n",
    "# 커피 10잔이 판매되면 자동 종료\n",
    "# 커피 1잔은 300원\n",
    "# 잔돈 계산까지 진행\n"
   ]
  },
  {
   "cell_type": "markdown",
   "metadata": {},
   "source": [
    "## for문\n",
    "\n",
    "- 일반적으로 for문은 반복 횟가 정해진 경우 유용\n",
    "- while문과 비슷하지만 직관적이며 문장 구조가 심플한 편\n",
    "- 조건식이 없는 유한개의 반복을 실행\n",
    "\n",
    "```python\n",
    "for 변수 in 반복횟수:\n",
    "    문장\n",
    "```\n",
    "\n",
    "![Condition_For](Image/Condition_For.png)"
   ]
  },
  {
   "cell_type": "code",
   "execution_count": 59,
   "metadata": {
    "ExecuteTime": {
     "end_time": "2021-10-16T12:35:16.081810Z",
     "start_time": "2021-10-16T12:35:16.067848Z"
    }
   },
   "outputs": [
    {
     "name": "stdout",
     "output_type": "stream",
     "text": [
      "Hello, world!\n",
      "Hello, world!\n",
      "Hello, world!\n",
      "Hello, world!\n",
      "Hello, world!\n",
      "Hello, world!\n",
      "Hello, world!\n",
      "Hello, world!\n",
      "Hello, world!\n",
      "Hello, world!\n"
     ]
    }
   ],
   "source": [
    "# range 시퀀스 내장함수를 사용하여 'Hello, world!' 10회 출력\n"
   ]
  },
  {
   "cell_type": "code",
   "execution_count": 60,
   "metadata": {
    "ExecuteTime": {
     "end_time": "2021-10-16T12:35:16.096771Z",
     "start_time": "2021-10-16T12:35:16.082809Z"
    }
   },
   "outputs": [
    {
     "name": "stdout",
     "output_type": "stream",
     "text": [
      "Hello, world! 0\n",
      "Hello, world! 1\n",
      "Hello, world! 2\n",
      "Hello, world! 3\n",
      "Hello, world! 4\n",
      "Hello, world! 5\n",
      "Hello, world! 6\n",
      "Hello, world! 7\n",
      "Hello, world! 8\n",
      "Hello, world! 9\n"
     ]
    }
   ],
   "source": [
    "# range 시퀀스 내장함수를 사용하여 'Hello, world!'와 반복횟수 출력\n"
   ]
  },
  {
   "cell_type": "code",
   "execution_count": 61,
   "metadata": {
    "ExecuteTime": {
     "end_time": "2021-10-16T12:35:16.111732Z",
     "start_time": "2021-10-16T12:35:16.097769Z"
    }
   },
   "outputs": [
    {
     "name": "stdout",
     "output_type": "stream",
     "text": [
      "Hello, world! 5\n",
      "Hello, world! 6\n",
      "Hello, world! 7\n",
      "Hello, world! 8\n",
      "Hello, world! 9\n"
     ]
    }
   ],
   "source": [
    "# 5이상 10미만 회 'Hello, world!'와 반복횟수 출력\n"
   ]
  },
  {
   "cell_type": "code",
   "execution_count": 62,
   "metadata": {
    "ExecuteTime": {
     "end_time": "2021-10-16T12:35:16.126692Z",
     "start_time": "2021-10-16T12:35:16.112729Z"
    }
   },
   "outputs": [
    {
     "name": "stdout",
     "output_type": "stream",
     "text": [
      "Hello, world! 0\n",
      "Hello, world! 2\n",
      "Hello, world! 4\n",
      "Hello, world! 6\n",
      "Hello, world! 8\n"
     ]
    }
   ],
   "source": [
    "# 0이상 10미만 2간격 'Hello, world!'와 반복횟수 출력\n"
   ]
  },
  {
   "cell_type": "code",
   "execution_count": 63,
   "metadata": {
    "ExecuteTime": {
     "end_time": "2021-10-16T12:35:16.142648Z",
     "start_time": "2021-10-16T12:35:16.128688Z"
    }
   },
   "outputs": [],
   "source": [
    "# range 함수의 간격은 증가가 기본이기 때문에 미실행\n",
    "for i in range(10,0):    # range는 숫자가 증가하는 기본 값이 양수 1\n",
    "    print('Hello, world!', i)"
   ]
  },
  {
   "cell_type": "code",
   "execution_count": 64,
   "metadata": {
    "ExecuteTime": {
     "end_time": "2021-10-16T12:35:16.158605Z",
     "start_time": "2021-10-16T12:35:16.144644Z"
    }
   },
   "outputs": [
    {
     "name": "stdout",
     "output_type": "stream",
     "text": [
      "Hello, world! 10\n",
      "Hello, world! 9\n",
      "Hello, world! 8\n",
      "Hello, world! 7\n",
      "Hello, world! 6\n",
      "Hello, world! 5\n",
      "Hello, world! 4\n",
      "Hello, world! 3\n",
      "Hello, world! 2\n",
      "Hello, world! 1\n"
     ]
    }
   ],
   "source": [
    "# 10이상 0미만 -1간격 'Hello, world!'와 반복횟수 출력\n"
   ]
  },
  {
   "cell_type": "code",
   "execution_count": 65,
   "metadata": {
    "ExecuteTime": {
     "end_time": "2021-10-16T12:35:16.173565Z",
     "start_time": "2021-10-16T12:35:16.159603Z"
    }
   },
   "outputs": [
    {
     "name": "stdout",
     "output_type": "stream",
     "text": [
      "Hello, world! 9\n",
      "Hello, world! 8\n",
      "Hello, world! 7\n",
      "Hello, world! 6\n",
      "Hello, world! 5\n",
      "Hello, world! 4\n",
      "Hello, world! 3\n",
      "Hello, world! 2\n",
      "Hello, world! 1\n",
      "Hello, world! 0\n"
     ]
    }
   ],
   "source": [
    "# 9이상 -1미만 -1간격 'Hello, world!'와 반복횟수 출력\n"
   ]
  },
  {
   "cell_type": "code",
   "execution_count": 66,
   "metadata": {
    "ExecuteTime": {
     "end_time": "2021-10-16T12:35:16.188525Z",
     "start_time": "2021-10-16T12:35:16.174563Z"
    }
   },
   "outputs": [
    {
     "name": "stdout",
     "output_type": "stream",
     "text": [
      "Hello, world! 9\n",
      "Hello, world! 8\n",
      "Hello, world! 7\n",
      "Hello, world! 6\n",
      "Hello, world! 5\n",
      "Hello, world! 4\n",
      "Hello, world! 3\n",
      "Hello, world! 2\n",
      "Hello, world! 1\n",
      "Hello, world! 0\n"
     ]
    }
   ],
   "source": [
    "# reversed 함수사용 9이상 -1미만 -1간격 'Hello, world!'와 반복횟수 출력\n"
   ]
  },
  {
   "cell_type": "code",
   "execution_count": 67,
   "metadata": {
    "ExecuteTime": {
     "end_time": "2021-10-16T12:35:16.203486Z",
     "start_time": "2021-10-16T12:35:16.196504Z"
    }
   },
   "outputs": [],
   "source": [
    "# 반복횟수를 입력받아 'Hello, world!'와 반복횟수 출력\n"
   ]
  },
  {
   "cell_type": "markdown",
   "metadata": {},
   "source": [
    "- **range 대신에 sequence 데이터를 반영해도 가능!**"
   ]
  },
  {
   "cell_type": "code",
   "execution_count": 68,
   "metadata": {
    "ExecuteTime": {
     "end_time": "2021-10-16T12:35:16.218445Z",
     "start_time": "2021-10-16T12:35:16.206477Z"
    }
   },
   "outputs": [
    {
     "name": "stdout",
     "output_type": "stream",
     "text": [
      "10\n",
      "20\n",
      "30\n",
      "40\n",
      "50\n"
     ]
    }
   ],
   "source": [
    "# 시퀀스 숫자 반복 가능\n",
    "a = [10, 20, 30, 40, 50]\n",
    "for i in a:\n",
    "    print(i)"
   ]
  },
  {
   "cell_type": "code",
   "execution_count": 69,
   "metadata": {
    "ExecuteTime": {
     "end_time": "2021-10-16T12:35:16.233406Z",
     "start_time": "2021-10-16T12:35:16.219443Z"
    }
   },
   "outputs": [
    {
     "name": "stdout",
     "output_type": "stream",
     "text": [
      "apple\n",
      "orange\n",
      "grape\n"
     ]
    }
   ],
   "source": [
    "# 시퀀스 튜플 반복 가능\n"
   ]
  },
  {
   "cell_type": "code",
   "execution_count": 70,
   "metadata": {
    "ExecuteTime": {
     "end_time": "2021-10-16T12:35:16.248365Z",
     "start_time": "2021-10-16T12:35:16.234403Z"
    }
   },
   "outputs": [
    {
     "name": "stdout",
     "output_type": "stream",
     "text": [
      "3\n",
      "7\n",
      "11\n"
     ]
    }
   ],
   "source": [
    "# 시퀀스 리스트 내 2개 출력씩 반복 가능\n"
   ]
  },
  {
   "cell_type": "code",
   "execution_count": 71,
   "metadata": {
    "ExecuteTime": {
     "end_time": "2021-10-16T12:35:16.263325Z",
     "start_time": "2021-10-16T12:35:16.249363Z"
    }
   },
   "outputs": [
    {
     "name": "stdout",
     "output_type": "stream",
     "text": [
      "P y t h o n "
     ]
    }
   ],
   "source": [
    "# 시퀀스 문자열 반복 가능\n"
   ]
  },
  {
   "cell_type": "code",
   "execution_count": 72,
   "metadata": {
    "ExecuteTime": {
     "end_time": "2021-10-16T12:35:16.278285Z",
     "start_time": "2021-10-16T12:35:16.264323Z"
    }
   },
   "outputs": [
    {
     "name": "stdout",
     "output_type": "stream",
     "text": [
      "n o h t y P "
     ]
    }
   ],
   "source": [
    "# 시퀀스 역 문자열 반복 가능\n"
   ]
  },
  {
   "cell_type": "markdown",
   "metadata": {
    "ExecuteTime": {
     "end_time": "2021-03-09T14:07:26.924771Z",
     "start_time": "2021-03-09T14:07:26.910804Z"
    }
   },
   "source": [
    "- **Question:** for문을 사용하여 아래 리스트 각 요소에 10을 곱한 값들을 한줄로 출력하시오\n",
    "\n",
    "```python\n",
    "x = [49, -17, 25, 102, 8, 62, 21]\n",
    "\n",
    "for __________:\n",
    "    print(__________)\n",
    "```"
   ]
  },
  {
   "cell_type": "code",
   "execution_count": 73,
   "metadata": {
    "ExecuteTime": {
     "end_time": "2021-10-16T12:35:16.293246Z",
     "start_time": "2021-10-16T12:35:16.279283Z"
    }
   },
   "outputs": [],
   "source": [
    "x = [49, -17, 25, 102, 8, 62, 21]\n",
    "\n",
    "# for\n"
   ]
  },
  {
   "cell_type": "markdown",
   "metadata": {},
   "source": [
    "- **Question:** for문과 if~else문을 사용하여 아래 리스크 각 요소가 홀수인 경우 2배를 짝수인 경우 -2배를 출력하시오\n",
    "\n",
    "```python\n",
    "x = [1, 2, 3, 4, 5]\n",
    "\n",
    "for ______:\n",
    "    if ______:\n",
    "        ______\n",
    "        print(i)\n",
    "    else:\n",
    "        ______\n",
    "        print(i)\n",
    "```"
   ]
  },
  {
   "cell_type": "code",
   "execution_count": 74,
   "metadata": {
    "ExecuteTime": {
     "end_time": "2021-10-16T12:35:16.308205Z",
     "start_time": "2021-10-16T12:35:16.295241Z"
    }
   },
   "outputs": [],
   "source": [
    "# 예상출력: 2 -4 6 -8 10\n",
    "x = [1, 2, 3, 4, 5]\n",
    "\n",
    "# for\n"
   ]
  },
  {
   "cell_type": "markdown",
   "metadata": {},
   "source": [
    "- **Question:** 총 5명의 학생 시험 점수가 있다. 60점이 합격 커트라인이라고 할때 5명의 학생이 합격인지 불합격인지 결과를 출력하라. 학생의 이름은 1번부터 5번까지이며 아래와 같은 결과가 출력되어야 한다.\n",
    "\n",
    "```python\n",
    "scores = [90, 25, 67, 45, 80]\n",
    "\n",
    "(자유작성)\n",
    "```\n",
    "\n",
    "---\n",
    "\n",
    "```python\n",
    "1번 학생은 합격입니다.\n",
    "2번 학생은 불합격입니다.\n",
    "3번 학생은 합격입니다.\n",
    "4번 학생은 불합격입니다.\n",
    "5번 학생은 합격입니다.\n",
    "```"
   ]
  },
  {
   "cell_type": "code",
   "execution_count": 75,
   "metadata": {
    "ExecuteTime": {
     "end_time": "2021-10-16T12:35:16.323166Z",
     "start_time": "2021-10-16T12:35:16.310201Z"
    }
   },
   "outputs": [],
   "source": [
    "scores = [90, 25, 67, 45, 80]\n",
    "\n"
   ]
  },
  {
   "cell_type": "markdown",
   "metadata": {},
   "source": [
    "## 반복문의 중첩\n",
    "\n",
    "- 반복문에 반복문이 들어가는 것 중첩루프 또는 다중루프 라고 함\n",
    "- for문에 while문이 또는 while문에 for문이 들어갈 수 있음\n",
    "- 2차원 이상의 데이터 입력이나 연산은 아주 자주 사용됨"
   ]
  },
  {
   "cell_type": "code",
   "execution_count": 76,
   "metadata": {
    "ExecuteTime": {
     "end_time": "2021-10-16T12:35:16.338125Z",
     "start_time": "2021-10-16T12:35:16.324163Z"
    }
   },
   "outputs": [
    {
     "name": "stdout",
     "output_type": "stream",
     "text": [
      "j:0 j:1 j:2 j:3 j:4 i:0\\n\n",
      "j:0 j:1 j:2 j:3 j:4 i:1\\n\n",
      "j:0 j:1 j:2 j:3 j:4 i:2\\n\n",
      "j:0 j:1 j:2 j:3 j:4 i:3\\n\n",
      "j:0 j:1 j:2 j:3 j:4 i:4\\n\n"
     ]
    }
   ],
   "source": [
    "for i in range(5):          # 바깥쪽 루프\n",
    "    for j in range(5):      # 안쪽 루프\n",
    "        print('j:', j, sep='', end=' ')    # j값 출력. end에 ' '를 지정하여 줄바꿈 대신 한 칸 띄움\n",
    "    print('i:', i, '\\\\n', sep='')    # i값 출력, 개행 문자 모양도 출력"
   ]
  },
  {
   "cell_type": "code",
   "execution_count": 77,
   "metadata": {
    "ExecuteTime": {
     "end_time": "2021-10-16T12:35:16.353085Z",
     "start_time": "2021-10-16T12:35:16.339123Z"
    }
   },
   "outputs": [
    {
     "name": "stdout",
     "output_type": "stream",
     "text": [
      "*******\n",
      "*******\n",
      "*******\n",
      "*******\n",
      "*******\n"
     ]
    }
   ],
   "source": [
    "# 5개의 행 7개의 열에 별을 출력\n"
   ]
  },
  {
   "cell_type": "code",
   "execution_count": 78,
   "metadata": {
    "ExecuteTime": {
     "end_time": "2021-10-16T12:35:16.368045Z",
     "start_time": "2021-10-16T12:35:16.354083Z"
    }
   },
   "outputs": [
    {
     "name": "stdout",
     "output_type": "stream",
     "text": [
      "*\n",
      "**\n",
      "***\n",
      "****\n",
      "*****\n"
     ]
    }
   ],
   "source": [
    "# 5개의 행 별의 갯수가 증가되도록 출력\n"
   ]
  },
  {
   "cell_type": "markdown",
   "metadata": {},
   "source": [
    "- **Question:** 위 예를 참고하여 대각선 방향으로 별이 1개씩만 출력하시오"
   ]
  },
  {
   "cell_type": "code",
   "execution_count": null,
   "metadata": {
    "ExecuteTime": {
     "end_time": "2021-10-06T07:11:02.458941Z",
     "start_time": "2021-10-06T07:11:02.450293Z"
    }
   },
   "outputs": [],
   "source": []
  },
  {
   "cell_type": "markdown",
   "metadata": {},
   "source": [
    "- **Question:** 반복문을 2개 중첩하여 구구단 2단부터 9단까지 실행하시오\n",
    "\n",
    "```python\n",
    "(출력결과예시)\n",
    "2 * 1 = 2\n",
    "...\n",
    "9 * 9 = 81\n",
    "```"
   ]
  },
  {
   "cell_type": "code",
   "execution_count": null,
   "metadata": {
    "ExecuteTime": {
     "end_time": "2021-10-06T07:12:11.586133Z",
     "start_time": "2021-10-06T07:12:11.565464Z"
    }
   },
   "outputs": [],
   "source": []
  },
  {
   "cell_type": "markdown",
   "metadata": {},
   "source": [
    "- **Question:** FizzBuzz 문제\n",
    "\n",
    "1. 1에서 100까지 출력\n",
    "2. 3의 배수는 Fizz 출력\n",
    "3. 5의 배수는 Buzz 출력\n",
    "4. 3과 5의 공배수는 FizzBuzz 출력"
   ]
  },
  {
   "cell_type": "code",
   "execution_count": 79,
   "metadata": {
    "ExecuteTime": {
     "end_time": "2021-10-16T12:35:16.383005Z",
     "start_time": "2021-10-16T12:35:16.369043Z"
    }
   },
   "outputs": [],
   "source": [
    "# 예상출력: 1 2 Fizz 4 Buzz Fizz 7 8 Fizz Buzz 11 Fizz 13 14 FizzBuzz 16 17 ...\n"
   ]
  },
  {
   "cell_type": "markdown",
   "metadata": {},
   "source": [
    "## List Comprehension\n",
    "\n",
    "> - 파이썬에선 리스트 내포를 이용해서 함수를 훨씬 직관적이고 짧은 코드로 변환 가능(가독성 좋아짐)\n",
    "> - List 내부에 for문과 if문을 사용할 수 있기에 가능\n",
    "> - 식으로 지정되어 생성할 출력을 List로 표현하는 것\n",
    "\n",
    "```python\n",
    "[출력식 for 변수 in 반복]\n",
    "list(출력식 for 변수 in 반복)\n",
    "```"
   ]
  },
  {
   "cell_type": "code",
   "execution_count": 80,
   "metadata": {
    "ExecuteTime": {
     "end_time": "2021-10-16T12:35:16.397965Z",
     "start_time": "2021-10-16T12:35:16.384004Z"
    }
   },
   "outputs": [
    {
     "data": {
      "text/plain": [
       "[0, 1, 2, 3, 4, 5, 6, 7, 8, 9]"
      ]
     },
     "execution_count": 80,
     "metadata": {},
     "output_type": "execute_result"
    }
   ],
   "source": [
    "# 0부터 9까지의 숫자를 생성 및 저장\n",
    "result = []\n",
    "for i in range(10):\n",
    "    result.append(i)\n",
    "    \n",
    "result"
   ]
  },
  {
   "cell_type": "code",
   "execution_count": 81,
   "metadata": {
    "ExecuteTime": {
     "end_time": "2021-10-16T12:35:16.412925Z",
     "start_time": "2021-10-16T12:35:16.398963Z"
    }
   },
   "outputs": [
    {
     "data": {
      "text/plain": [
       "[0, 1, 2, 3, 4, 5, 6, 7, 8, 9]"
      ]
     },
     "execution_count": 81,
     "metadata": {},
     "output_type": "execute_result"
    }
   ],
   "source": [
    "# 파이썬 언어의 특수 기능으로 이런 효율적 코드가 파이썬 활용의 핵심\n",
    "# 영어의 어순 참고\n"
   ]
  },
  {
   "cell_type": "code",
   "execution_count": 82,
   "metadata": {
    "ExecuteTime": {
     "end_time": "2021-10-16T12:35:16.427886Z",
     "start_time": "2021-10-16T12:35:16.413923Z"
    }
   },
   "outputs": [
    {
     "data": {
      "text/plain": [
       "[0, 1, 2, 3, 4, 5, 6, 7, 8, 9]"
      ]
     },
     "execution_count": 82,
     "metadata": {},
     "output_type": "execute_result"
    }
   ],
   "source": [
    "# 대괄호와 list() 방식 중 대괄호 방식이 훨씬 빠름고 list()는 C언어 스타일에서 따옴\n"
   ]
  },
  {
   "cell_type": "code",
   "execution_count": 83,
   "metadata": {
    "ExecuteTime": {
     "end_time": "2021-10-16T12:35:16.442877Z",
     "start_time": "2021-10-16T12:35:16.428884Z"
    }
   },
   "outputs": [
    {
     "data": {
      "text/plain": [
       "[5, 6, 7, 8, 9, 10, 11, 12, 13, 14]"
      ]
     },
     "execution_count": 83,
     "metadata": {},
     "output_type": "execute_result"
    }
   ],
   "source": [
    "# 변수의 연산 값 생성 가능\n"
   ]
  },
  {
   "cell_type": "code",
   "execution_count": 84,
   "metadata": {
    "ExecuteTime": {
     "end_time": "2021-10-16T12:35:16.457831Z",
     "start_time": "2021-10-16T12:35:16.444841Z"
    }
   },
   "outputs": [
    {
     "data": {
      "text/plain": [
       "[5, 6, 7, 8, 9, 10, 11, 12, 13, 14]"
      ]
     },
     "execution_count": 84,
     "metadata": {},
     "output_type": "execute_result"
    }
   ],
   "source": [
    "result = []\n",
    "for i in range(10):\n",
    "    result.append(i+5)\n",
    "    \n",
    "result"
   ]
  },
  {
   "cell_type": "code",
   "execution_count": 85,
   "metadata": {
    "ExecuteTime": {
     "end_time": "2021-10-16T12:35:16.472766Z",
     "start_time": "2021-10-16T12:35:16.458804Z"
    }
   },
   "outputs": [
    {
     "data": {
      "text/plain": [
       "[5, 6, 7, 8, 9, 10, 11, 12, 13, 14]"
      ]
     },
     "execution_count": 85,
     "metadata": {},
     "output_type": "execute_result"
    }
   ],
   "source": [
    "# 위와 동일한 출력을 list comprehension 방식으로 출력\n"
   ]
  },
  {
   "cell_type": "code",
   "execution_count": 86,
   "metadata": {
    "ExecuteTime": {
     "end_time": "2021-10-16T12:35:16.487726Z",
     "start_time": "2021-10-16T12:35:16.473763Z"
    }
   },
   "outputs": [
    {
     "data": {
      "text/plain": [
       "[0, 2, 4, 6, 8, 10, 12, 14, 16, 18]"
      ]
     },
     "execution_count": 86,
     "metadata": {},
     "output_type": "execute_result"
    }
   ],
   "source": [
    "# 0이상 10미만 값들을 2를 곱하여 리스트 출력\n"
   ]
  },
  {
   "cell_type": "markdown",
   "metadata": {},
   "source": [
    "```python\n",
    "for 변수 in 반복:\n",
    "    if 조건식:\n",
    "        출력식\n",
    "    else:\n",
    "        다른출력\n",
    "        \n",
    "[출력식 for 변수 in 반복 if 조건식 else 다른출력]\n",
    "list(출력식 for 변수 in 반복 if 조건식 else 다른출력)\n",
    "```"
   ]
  },
  {
   "cell_type": "code",
   "execution_count": 87,
   "metadata": {
    "ExecuteTime": {
     "end_time": "2021-10-16T12:35:16.503710Z",
     "start_time": "2021-10-16T12:35:16.488722Z"
    }
   },
   "outputs": [
    {
     "data": {
      "text/plain": [
       "[0, 2, 4, 6, 8]"
      ]
     },
     "execution_count": 87,
     "metadata": {},
     "output_type": "execute_result"
    }
   ],
   "source": [
    "# 0~9 숫자 중 2의 배수인 숫자(짝수)로 리스트 생성\n"
   ]
  },
  {
   "cell_type": "code",
   "execution_count": 88,
   "metadata": {
    "ExecuteTime": {
     "end_time": "2021-10-16T12:35:16.518673Z",
     "start_time": "2021-10-16T12:35:16.504680Z"
    }
   },
   "outputs": [
    {
     "data": {
      "text/plain": [
       "[0, 2, 4, 6, 8]"
      ]
     },
     "execution_count": 88,
     "metadata": {},
     "output_type": "execute_result"
    }
   ],
   "source": [
    "# 위의 결과를 일반적인 반복문 및 조건문으로 구현\n"
   ]
  },
  {
   "cell_type": "code",
   "execution_count": 89,
   "metadata": {
    "ExecuteTime": {
     "end_time": "2021-10-16T12:35:16.533603Z",
     "start_time": "2021-10-16T12:35:16.519640Z"
    }
   },
   "outputs": [
    {
     "data": {
      "text/plain": [
       "[6, 8, 10, 12, 14]"
      ]
     },
     "execution_count": 89,
     "metadata": {},
     "output_type": "execute_result"
    }
   ],
   "source": [
    "# 0~9 숫자 중 홀수에 5를 더하여 리스트 생성\n"
   ]
  },
  {
   "cell_type": "markdown",
   "metadata": {},
   "source": [
    "```python\n",
    "[출력식 for 변수1 in 반복1 \n",
    "        for 변수2 in 반복2 if 조건식 else 다른출력]\n",
    "\n",
    "[출력식 for 변수1 in 반복1 \n",
    "        for 변수2 in 반복2\n",
    "        ... \n",
    "        for 변수n in 반복n if 조건식 else 다른출력]\n",
    "\n",
    "[변수1 + 변수2 + ... + 변수n for 변수1 in 반복1 \n",
    "        for 변수2 in 반복2\n",
    "        ... \n",
    "        for 변수n in 반복n if 조건식 else 다른출력]\n",
    "        \n",
    "list(출력식 for 변수1 in 반복1 \n",
    "            for 변수2 in 반복2\n",
    "            ... \n",
    "            for 변수n in 반복n if 조건식 else 다른출력)\n",
    "```"
   ]
  },
  {
   "cell_type": "markdown",
   "metadata": {},
   "source": [
    "- **Question:** 다음 리스트 중 홀수에만 2를 곱하여 저장하는 코드가 있다 이를 리스트 내포를 사용하여 변환하라.\n",
    "\n",
    "```python\n",
    "numbers = [1, 2, 3, 4, 5]\n",
    "result = []\n",
    "for n in numbers:\n",
    "    if n % 2 == 1:\n",
    "        result.append(n*2)\n",
    "```"
   ]
  },
  {
   "cell_type": "code",
   "execution_count": 90,
   "metadata": {
    "ExecuteTime": {
     "end_time": "2021-10-16T12:35:16.548563Z",
     "start_time": "2021-10-16T12:35:16.534600Z"
    }
   },
   "outputs": [],
   "source": [
    "# 예상결과: [2, 6, 10]\n",
    "\n"
   ]
  },
  {
   "cell_type": "markdown",
   "metadata": {},
   "source": [
    "- **Question:** 리스트 표현식을 사용하여 구구단을 출력하시오 리스트 내부 요소 출력 형식은 '2 * 1 = 2'"
   ]
  },
  {
   "cell_type": "code",
   "execution_count": null,
   "metadata": {
    "ExecuteTime": {
     "end_time": "2021-10-07T01:15:19.392103Z",
     "start_time": "2021-10-07T01:15:19.368410Z"
    }
   },
   "outputs": [],
   "source": []
  },
  {
   "cell_type": "markdown",
   "metadata": {},
   "source": [
    "## 차원증가\n",
    "\n",
    "```python\n",
    "리스트 = [[값, 값], [값, 값], [값, 값]]\n",
    "```"
   ]
  },
  {
   "cell_type": "code",
   "execution_count": 91,
   "metadata": {
    "ExecuteTime": {
     "end_time": "2021-10-16T12:35:16.564519Z",
     "start_time": "2021-10-16T12:35:16.549561Z"
    }
   },
   "outputs": [
    {
     "data": {
      "text/plain": [
       "[10, 20]"
      ]
     },
     "execution_count": 91,
     "metadata": {},
     "output_type": "execute_result"
    }
   ],
   "source": [
    "# 1차원 데이터\n",
    "a = [10, 20]\n",
    "a"
   ]
  },
  {
   "cell_type": "code",
   "execution_count": 92,
   "metadata": {
    "ExecuteTime": {
     "end_time": "2021-10-16T12:35:16.579479Z",
     "start_time": "2021-10-16T12:35:16.565517Z"
    }
   },
   "outputs": [
    {
     "data": {
      "text/plain": [
       "[[10, 20], [30, 40], [50, 60]]"
      ]
     },
     "execution_count": 92,
     "metadata": {},
     "output_type": "execute_result"
    }
   ],
   "source": [
    "# 2차원 데이터의 세팅\n"
   ]
  },
  {
   "cell_type": "code",
   "execution_count": 93,
   "metadata": {
    "ExecuteTime": {
     "end_time": "2021-10-16T12:35:16.594440Z",
     "start_time": "2021-10-16T12:35:16.580477Z"
    }
   },
   "outputs": [
    {
     "data": {
      "text/plain": [
       "[[10, 20], [30, 40], [50, 60]]"
      ]
     },
     "execution_count": 93,
     "metadata": {},
     "output_type": "execute_result"
    }
   ],
   "source": [
    "# 2차원 데이터의 세팅\n",
    "a = [[10, 20],\n",
    "     [30, 40],\n",
    "     [50, 60]]\n",
    "a"
   ]
  },
  {
   "cell_type": "code",
   "execution_count": 94,
   "metadata": {
    "ExecuteTime": {
     "end_time": "2021-10-16T12:35:16.702151Z",
     "start_time": "2021-10-16T12:35:16.595437Z"
    }
   },
   "outputs": [
    {
     "data": {
      "text/plain": [
       "(3, 2)"
      ]
     },
     "execution_count": 94,
     "metadata": {},
     "output_type": "execute_result"
    }
   ],
   "source": [
    "# 데이터의 행의수와 열의수 출력\n"
   ]
  },
  {
   "cell_type": "code",
   "execution_count": 95,
   "metadata": {
    "ExecuteTime": {
     "end_time": "2021-10-16T12:35:16.717111Z",
     "start_time": "2021-10-16T12:35:16.703148Z"
    }
   },
   "outputs": [
    {
     "data": {
      "text/plain": [
       "[10, 20]"
      ]
     },
     "execution_count": 95,
     "metadata": {},
     "output_type": "execute_result"
    }
   ],
   "source": [
    "# 행렬의 내부 값 선택\n"
   ]
  },
  {
   "cell_type": "code",
   "execution_count": 96,
   "metadata": {
    "ExecuteTime": {
     "end_time": "2021-10-16T12:35:16.732071Z",
     "start_time": "2021-10-16T12:35:16.718109Z"
    }
   },
   "outputs": [
    {
     "data": {
      "text/plain": [
       "[30, 40]"
      ]
     },
     "execution_count": 96,
     "metadata": {},
     "output_type": "execute_result"
    }
   ],
   "source": [
    "# 행렬의 내부 값 선택\n"
   ]
  },
  {
   "cell_type": "code",
   "execution_count": 97,
   "metadata": {
    "ExecuteTime": {
     "end_time": "2021-10-16T12:35:16.747031Z",
     "start_time": "2021-10-16T12:35:16.733069Z"
    }
   },
   "outputs": [
    {
     "data": {
      "text/plain": [
       "10"
      ]
     },
     "execution_count": 97,
     "metadata": {},
     "output_type": "execute_result"
    }
   ],
   "source": [
    "# 행렬의 내부 값 선택\n"
   ]
  },
  {
   "cell_type": "code",
   "execution_count": 98,
   "metadata": {
    "ExecuteTime": {
     "end_time": "2021-10-16T12:35:16.761992Z",
     "start_time": "2021-10-16T12:35:16.748029Z"
    }
   },
   "outputs": [
    {
     "data": {
      "text/plain": [
       "[[10, 1000], [30, 40], [50, 60]]"
      ]
     },
     "execution_count": 98,
     "metadata": {},
     "output_type": "execute_result"
    }
   ],
   "source": [
    "# 행렬의 내부 값 치환\n",
    "a[0][1] = 1000\n",
    "a"
   ]
  },
  {
   "cell_type": "markdown",
   "metadata": {},
   "source": [
    "- 톱니형 리스트(Jagged List) 생성 가능"
   ]
  },
  {
   "cell_type": "code",
   "execution_count": 99,
   "metadata": {
    "ExecuteTime": {
     "end_time": "2021-10-16T12:35:16.776952Z",
     "start_time": "2021-10-16T12:35:16.762989Z"
    }
   },
   "outputs": [
    {
     "data": {
      "text/plain": [
       "[[10, 20], [500, 600, 700], [9], [30, 40], [8], [800, 900, 1000]]"
      ]
     },
     "execution_count": 99,
     "metadata": {},
     "output_type": "execute_result"
    }
   ],
   "source": [
    "a = [[10, 20],\n",
    "     [500, 600, 700],\n",
    "     [9],\n",
    "     [30, 40],\n",
    "     [8],\n",
    "     [800, 900, 1000]]\n",
    "a"
   ]
  },
  {
   "cell_type": "code",
   "execution_count": 100,
   "metadata": {
    "ExecuteTime": {
     "end_time": "2021-10-16T12:35:16.791911Z",
     "start_time": "2021-10-16T12:35:16.778946Z"
    }
   },
   "outputs": [
    {
     "data": {
      "text/plain": [
       "[[10, 20, 100], [500, 600, 700], [9], [30, 40], [8], [800, 900, 1000]]"
      ]
     },
     "execution_count": 100,
     "metadata": {},
     "output_type": "execute_result"
    }
   ],
   "source": [
    "# 행렬의 내부 값 추가\n"
   ]
  },
  {
   "cell_type": "markdown",
   "metadata": {},
   "source": [
    "```mpython\n",
    "리스트 = [(값, 값), (값, 값), (값, 값)]\n",
    "튜플 = ([값, 값], [값, 값], [값, 값])\n",
    "튜플 = ((값, 값), (값, 값), (값, 값))\n",
    "```"
   ]
  },
  {
   "cell_type": "code",
   "execution_count": 101,
   "metadata": {
    "ExecuteTime": {
     "end_time": "2021-10-16T12:35:16.806871Z",
     "start_time": "2021-10-16T12:35:16.792910Z"
    }
   },
   "outputs": [],
   "source": [
    "a = ((10, 20), (30, 40), (50, 60))    # 튜플 안에 튜플을 넣은 2차원 튜플\n",
    "b = ([10, 20], [30, 40], [50, 60])    # 튜플 안에 리스트를 넣음\n",
    "c = [(10, 20), (30, 40), (50, 60)]    # 리스트 안에 튜플을 넣음"
   ]
  },
  {
   "cell_type": "code",
   "execution_count": 102,
   "metadata": {
    "ExecuteTime": {
     "end_time": "2021-10-16T12:35:16.821831Z",
     "start_time": "2021-10-16T12:35:16.807869Z"
    }
   },
   "outputs": [],
   "source": [
    "# a[0][0] = 500    # 안쪽 튜플은 변경할 수 없음. TypeError 발생"
   ]
  },
  {
   "cell_type": "code",
   "execution_count": 103,
   "metadata": {
    "ExecuteTime": {
     "end_time": "2021-10-16T12:35:16.836792Z",
     "start_time": "2021-10-16T12:35:16.822829Z"
    }
   },
   "outputs": [],
   "source": [
    "# a[0] = (500, 600)    # 바깥쪽 튜플은 변경할 수 없음. TypeError 발생"
   ]
  },
  {
   "cell_type": "code",
   "execution_count": 104,
   "metadata": {
    "ExecuteTime": {
     "end_time": "2021-10-16T12:35:16.851751Z",
     "start_time": "2021-10-16T12:35:16.837789Z"
    }
   },
   "outputs": [
    {
     "data": {
      "text/plain": [
       "([500, 20], [30, 40], [50, 60])"
      ]
     },
     "execution_count": 104,
     "metadata": {},
     "output_type": "execute_result"
    }
   ],
   "source": [
    "b[0][0] = 500        # 안쪽 리스트는 변경할 수 있음\n",
    "b"
   ]
  },
  {
   "cell_type": "code",
   "execution_count": 105,
   "metadata": {
    "ExecuteTime": {
     "end_time": "2021-10-16T12:35:16.866712Z",
     "start_time": "2021-10-16T12:35:16.852749Z"
    }
   },
   "outputs": [],
   "source": [
    "# b[0] = (500, 600)    # 바깥쪽 튜플은 변경할 수 없음. TypeError 발생"
   ]
  },
  {
   "cell_type": "code",
   "execution_count": 106,
   "metadata": {
    "ExecuteTime": {
     "end_time": "2021-10-16T12:35:16.881672Z",
     "start_time": "2021-10-16T12:35:16.867709Z"
    }
   },
   "outputs": [],
   "source": [
    "# c[0][0] = 500        # 안쪽 튜플은 변경할 수 없음. TypeError 발생"
   ]
  },
  {
   "cell_type": "code",
   "execution_count": 107,
   "metadata": {
    "ExecuteTime": {
     "end_time": "2021-10-16T12:35:16.896631Z",
     "start_time": "2021-10-16T12:35:16.882668Z"
    }
   },
   "outputs": [
    {
     "data": {
      "text/plain": [
       "[(500, 600), (30, 40), (50, 60)]"
      ]
     },
     "execution_count": 107,
     "metadata": {},
     "output_type": "execute_result"
    }
   ],
   "source": [
    "c[0] = (500, 600)    # 바깥쪽 리스트는 변경할 수 있음\n",
    "c"
   ]
  },
  {
   "cell_type": "code",
   "execution_count": 108,
   "metadata": {
    "ExecuteTime": {
     "end_time": "2021-10-16T12:35:16.911591Z",
     "start_time": "2021-10-16T12:35:16.897629Z"
    }
   },
   "outputs": [
    {
     "data": {
      "text/plain": [
       "[[10, 20], [30, 40], [50, 60]]"
      ]
     },
     "execution_count": 108,
     "metadata": {},
     "output_type": "execute_result"
    }
   ],
   "source": [
    "a = [[10, 20], [30, 40], [50, 60]]\n",
    "a"
   ]
  },
  {
   "cell_type": "code",
   "execution_count": 109,
   "metadata": {
    "ExecuteTime": {
     "end_time": "2021-10-16T12:35:16.926552Z",
     "start_time": "2021-10-16T12:35:16.912589Z"
    }
   },
   "outputs": [
    {
     "name": "stdout",
     "output_type": "stream",
     "text": [
      "[[10, 20],\n",
      " [30, 40],\n",
      " [50, 60]]\n"
     ]
    }
   ],
   "source": [
    "# pprint 외장함수로 데이터를 차원에 맞게 출력 가능\n"
   ]
  },
  {
   "cell_type": "code",
   "execution_count": 110,
   "metadata": {
    "ExecuteTime": {
     "end_time": "2021-10-16T12:35:16.941513Z",
     "start_time": "2021-10-16T12:35:16.927549Z"
    }
   },
   "outputs": [
    {
     "name": "stdout",
     "output_type": "stream",
     "text": [
      "[[10, 20],\n",
      " [30, 40],\n",
      " [50, 60]]\n"
     ]
    }
   ],
   "source": [
    "# pprint 외장함수로 데이터를 차원에 맞게 출력 가능\n",
    "# 사용 함수의 코드를 짧게 작성하기 위해 from 모듈 import 함수 사용\n"
   ]
  },
  {
   "cell_type": "markdown",
   "metadata": {},
   "source": [
    "## 2차원에서의 반복문\n",
    "\n",
    "- 추출하는 값의 길이와 반복문에서의 변수 갯수는 일치해야 함\n",
    "\n",
    "```python\n",
    "리스트[세로인덱스][가로인덱스]\n",
    "```"
   ]
  },
  {
   "cell_type": "code",
   "execution_count": 111,
   "metadata": {
    "ExecuteTime": {
     "end_time": "2021-10-16T12:35:16.956471Z",
     "start_time": "2021-10-16T12:35:16.944503Z"
    }
   },
   "outputs": [
    {
     "name": "stdout",
     "output_type": "stream",
     "text": [
      "[[10, 20], [30, 40], [50, 60]] (3, 2) 3 2\n"
     ]
    }
   ],
   "source": [
    "import numpy as np\n",
    "\n",
    "a = [[10, 20], [30, 40], [50, 60]]\n",
    "print(a, np.shape(a), len(a), len(a[0]))"
   ]
  },
  {
   "cell_type": "code",
   "execution_count": 112,
   "metadata": {
    "ExecuteTime": {
     "end_time": "2021-10-16T12:35:16.971431Z",
     "start_time": "2021-10-16T12:35:16.957469Z"
    }
   },
   "outputs": [
    {
     "name": "stdout",
     "output_type": "stream",
     "text": [
      "10 20 \n",
      "30 40 \n",
      "50 60 \n"
     ]
    }
   ],
   "source": [
    "# 기존 프로그램의 인덱스 접근\n"
   ]
  },
  {
   "cell_type": "code",
   "execution_count": 113,
   "metadata": {
    "ExecuteTime": {
     "end_time": "2021-10-16T12:35:16.986392Z",
     "start_time": "2021-10-16T12:35:16.972429Z"
    }
   },
   "outputs": [
    {
     "name": "stdout",
     "output_type": "stream",
     "text": [
      "10 20 \n",
      "30 40 \n",
      "50 60 \n"
     ]
    }
   ],
   "source": [
    "# 데이터가 변경되어도 실행되지 않는 값이 존재\n",
    "a = [[10, 20], [30, 40], [50, 60], [70, 80]]\n",
    "for i in range(3):            # 세로 크기\n",
    "    for j in range(2):     # 가로 크기\n",
    "        print(a[i][j], end=' ')\n",
    "    print()"
   ]
  },
  {
   "cell_type": "code",
   "execution_count": 114,
   "metadata": {
    "ExecuteTime": {
     "end_time": "2021-10-16T12:35:17.001351Z",
     "start_time": "2021-10-16T12:35:16.987390Z"
    }
   },
   "outputs": [
    {
     "name": "stdout",
     "output_type": "stream",
     "text": [
      "10 20 \n",
      "30 40 \n",
      "50 60 \n"
     ]
    }
   ],
   "source": [
    "# 기존 프로그램의 인덱스 접근\n"
   ]
  },
  {
   "cell_type": "code",
   "execution_count": 115,
   "metadata": {
    "ExecuteTime": {
     "end_time": "2021-10-16T12:35:17.016311Z",
     "start_time": "2021-10-16T12:35:17.002349Z"
    }
   },
   "outputs": [
    {
     "name": "stdout",
     "output_type": "stream",
     "text": [
      "10 20 \n",
      "30 40 \n",
      "50 60 \n",
      "70 80 \n"
     ]
    }
   ],
   "source": [
    "# 데이터가 변경되어도 모두 실행\n"
   ]
  },
  {
   "cell_type": "code",
   "execution_count": 116,
   "metadata": {
    "ExecuteTime": {
     "end_time": "2021-10-16T12:35:17.031271Z",
     "start_time": "2021-10-16T12:35:17.017309Z"
    }
   },
   "outputs": [
    {
     "name": "stdout",
     "output_type": "stream",
     "text": [
      "15 25 \n",
      "35 45 \n",
      "55 65 \n"
     ]
    }
   ],
   "source": [
    "# 2차원 데이터를 반복문의 중첩을 사용해서 연산도 가능\n"
   ]
  },
  {
   "cell_type": "code",
   "execution_count": 117,
   "metadata": {
    "ExecuteTime": {
     "end_time": "2021-10-16T12:35:17.046259Z",
     "start_time": "2021-10-16T12:35:17.032269Z"
    }
   },
   "outputs": [
    {
     "name": "stdout",
     "output_type": "stream",
     "text": [
      "10 20\n",
      "30 40\n",
      "50 60\n"
     ]
    }
   ],
   "source": [
    "# while문을 사용해서 동일결과 출력\n"
   ]
  },
  {
   "cell_type": "code",
   "execution_count": 118,
   "metadata": {
    "ExecuteTime": {
     "end_time": "2021-10-16T12:35:17.061191Z",
     "start_time": "2021-10-16T12:35:17.047228Z"
    }
   },
   "outputs": [
    {
     "name": "stdout",
     "output_type": "stream",
     "text": [
      "10 20 \n",
      "30 40 \n",
      "50 60 \n"
     ]
    }
   ],
   "source": [
    "# while문을 사용해서 동일결과 출력\n",
    "a = [[10, 20], [30, 40], [50, 60]]\n",
    " \n",
    "i = 0\n",
    "while i < len(a):           # 세로 크기\n",
    "    j = 0\n",
    "    while j < len(a[i]):    # 가로 크기\n",
    "        print(a[i][j], end=' ')\n",
    "        j = j + 1           # 가로 인덱스를 1 증가시킴\n",
    "    print()\n",
    "    i = i + 1               # 세로 인덱스를 1 증가시킴"
   ]
  },
  {
   "cell_type": "code",
   "execution_count": 119,
   "metadata": {
    "ExecuteTime": {
     "end_time": "2021-10-16T12:35:17.076152Z",
     "start_time": "2021-10-16T12:35:17.062189Z"
    }
   },
   "outputs": [
    {
     "name": "stdout",
     "output_type": "stream",
     "text": [
      "[10, 20]\n",
      "[30, 40]\n",
      "[50, 60]\n"
     ]
    }
   ],
   "source": [
    "a = [[10, 20], [30, 40], [50, 60]]\n",
    "for i in a:\n",
    "    print(i)"
   ]
  },
  {
   "cell_type": "code",
   "execution_count": 120,
   "metadata": {
    "ExecuteTime": {
     "end_time": "2021-10-16T12:35:17.091147Z",
     "start_time": "2021-10-16T12:35:17.077150Z"
    }
   },
   "outputs": [
    {
     "name": "stdout",
     "output_type": "stream",
     "text": [
      "10 20 \n",
      "30 40 \n",
      "50 60 \n"
     ]
    }
   ],
   "source": [
    "# 인덱스 위치를 신경쓸 필요가 없이 값 자체를 하나씩 반복 가능\n"
   ]
  },
  {
   "cell_type": "code",
   "execution_count": 121,
   "metadata": {
    "ExecuteTime": {
     "end_time": "2021-10-16T12:35:17.107069Z",
     "start_time": "2021-10-16T12:35:17.092110Z"
    }
   },
   "outputs": [
    {
     "name": "stdout",
     "output_type": "stream",
     "text": [
      "10 20\n",
      "30 40\n",
      "50 60\n"
     ]
    }
   ],
   "source": [
    "# 파이썬의 강점으로 반복 동안 2개(그이상도 가능)의 출력값을 활용 가능\n"
   ]
  },
  {
   "cell_type": "code",
   "execution_count": 122,
   "metadata": {
    "ExecuteTime": {
     "end_time": "2021-10-16T12:35:17.122028Z",
     "start_time": "2021-10-16T12:35:17.108066Z"
    }
   },
   "outputs": [
    {
     "data": {
      "text/plain": [
       "[1, 1]"
      ]
     },
     "execution_count": 122,
     "metadata": {},
     "output_type": "execute_result"
    }
   ],
   "source": [
    "line = []              # 안쪽 리스트로 사용할 빈 리스트 생성\n",
    "for j in range(2):\n",
    "    line.append(1)     # 안쪽 리스트에 0 추가\n",
    "\n",
    "line"
   ]
  },
  {
   "cell_type": "code",
   "execution_count": 123,
   "metadata": {
    "ExecuteTime": {
     "end_time": "2021-10-16T12:35:17.136988Z",
     "start_time": "2021-10-16T12:35:17.123026Z"
    }
   },
   "outputs": [
    {
     "name": "stdout",
     "output_type": "stream",
     "text": [
      "[[1, 1],\n",
      " [1, 1],\n",
      " [1, 1]]\n"
     ]
    }
   ],
   "source": [
    "a = []    # 빈 리스트 생성\n",
    " \n",
    "for i in range(3):\n",
    "    line = []              # 안쪽 리스트로 사용할 빈 리스트 생성\n",
    "    for j in range(2):\n",
    "        line.append(1)     # 안쪽 리스트에 0 추가\n",
    "    a.append(line)         # 전체 리스트에 안쪽 리스트를 추가\n",
    " \n",
    "pprint(a, width=10)"
   ]
  },
  {
   "cell_type": "code",
   "execution_count": 124,
   "metadata": {
    "ExecuteTime": {
     "end_time": "2021-10-16T12:35:17.151949Z",
     "start_time": "2021-10-16T12:35:17.137986Z"
    }
   },
   "outputs": [
    {
     "data": {
      "text/plain": [
       "[1, 1]"
      ]
     },
     "execution_count": 124,
     "metadata": {},
     "output_type": "execute_result"
    }
   ],
   "source": [
    "# 리스트 표현식으로 재현\n",
    "# line = []              # 안쪽 리스트로 사용할 빈 리스트 생성\n",
    "# for j in range(2):\n",
    "#     line.append(1)     # 안쪽 리스트에 0 추가\n",
    "# line\n",
    "\n"
   ]
  },
  {
   "cell_type": "code",
   "execution_count": 125,
   "metadata": {
    "ExecuteTime": {
     "end_time": "2021-10-16T12:35:17.166908Z",
     "start_time": "2021-10-16T12:35:17.152946Z"
    }
   },
   "outputs": [
    {
     "name": "stdout",
     "output_type": "stream",
     "text": [
      "[[1, 1],\n",
      " [1, 1],\n",
      " [1, 1]]\n"
     ]
    }
   ],
   "source": [
    "# 리스트 표현식으로 위 코드 결과를 재현\n"
   ]
  },
  {
   "cell_type": "code",
   "execution_count": 126,
   "metadata": {
    "ExecuteTime": {
     "end_time": "2021-10-16T12:35:17.181868Z",
     "start_time": "2021-10-16T12:35:17.167906Z"
    }
   },
   "outputs": [
    {
     "name": "stdout",
     "output_type": "stream",
     "text": [
      "[[1, 1],\n",
      " [1, 1],\n",
      " [1, 1]]\n"
     ]
    }
   ],
   "source": [
    "# 반복문의 중첩도 한줄의 list comprehension으로 전환 가능\n"
   ]
  },
  {
   "cell_type": "code",
   "execution_count": 127,
   "metadata": {
    "ExecuteTime": {
     "end_time": "2021-10-16T12:35:17.196828Z",
     "start_time": "2021-10-16T12:35:17.182866Z"
    }
   },
   "outputs": [
    {
     "data": {
      "text/plain": [
       "[1, 1, 1, 1, 1, 1]"
      ]
     },
     "execution_count": 127,
     "metadata": {},
     "output_type": "execute_result"
    }
   ],
   "source": [
    "# 대괄호를 하나 삭제한다면?\n",
    "[1 for j in range(2) for i in range(3)]"
   ]
  },
  {
   "cell_type": "code",
   "execution_count": 128,
   "metadata": {
    "ExecuteTime": {
     "end_time": "2021-10-16T12:35:17.211788Z",
     "start_time": "2021-10-16T12:35:17.197825Z"
    }
   },
   "outputs": [
    {
     "data": {
      "text/plain": [
       "[1, 1]"
      ]
     },
     "execution_count": 128,
     "metadata": {},
     "output_type": "execute_result"
    }
   ],
   "source": [
    "[1 for j in range(2)]"
   ]
  },
  {
   "cell_type": "code",
   "execution_count": 129,
   "metadata": {
    "ExecuteTime": {
     "end_time": "2021-10-16T12:35:17.226748Z",
     "start_time": "2021-10-16T12:35:17.212785Z"
    }
   },
   "outputs": [
    {
     "data": {
      "text/plain": [
       "[1, 1]"
      ]
     },
     "execution_count": 129,
     "metadata": {},
     "output_type": "execute_result"
    }
   ],
   "source": [
    "[1]*2"
   ]
  },
  {
   "cell_type": "code",
   "execution_count": 130,
   "metadata": {
    "ExecuteTime": {
     "end_time": "2021-10-16T12:35:17.241708Z",
     "start_time": "2021-10-16T12:35:17.227745Z"
    }
   },
   "outputs": [
    {
     "name": "stdout",
     "output_type": "stream",
     "text": [
      "[[1, 1],\n",
      " [1, 1],\n",
      " [1, 1]]\n"
     ]
    }
   ],
   "source": [
    "# 반복문 중첩도 효율적 연산으로 반복문을 줄여 동일결과 출력 가능\n"
   ]
  },
  {
   "cell_type": "code",
   "execution_count": 131,
   "metadata": {
    "ExecuteTime": {
     "end_time": "2021-10-16T12:35:17.256669Z",
     "start_time": "2021-10-16T12:35:17.242706Z"
    }
   },
   "outputs": [
    {
     "name": "stdout",
     "output_type": "stream",
     "text": [
      "[[1, 1],\n",
      " [1, 1],\n",
      " [1, 1]]\n"
     ]
    }
   ],
   "source": [
    "a = []    # 빈 리스트 생성\n",
    " \n",
    "for i in range(3):\n",
    "    line = []              # 안쪽 리스트로 사용할 빈 리스트 생성\n",
    "    for j in range(2):\n",
    "        line.append(1)     # 안쪽 리스트에 0 추가\n",
    "    a.append(line)         # 전체 리스트에 안쪽 리스트를 추가\n",
    " \n",
    "pprint(a, width=10)"
   ]
  },
  {
   "cell_type": "code",
   "execution_count": 132,
   "metadata": {
    "ExecuteTime": {
     "end_time": "2021-10-16T12:35:17.272626Z",
     "start_time": "2021-10-16T12:35:17.258664Z"
    }
   },
   "outputs": [
    {
     "name": "stdout",
     "output_type": "stream",
     "text": [
      "[[1, 1, 1],\n",
      " [1],\n",
      " [1, 1, 1],\n",
      " [1, 1],\n",
      " [1, 1, 1, 1, 1]]\n"
     ]
    }
   ],
   "source": [
    "# 가로의 길이를 임의의 값으로 입력받아 각 행별 출력 길이 조절 가능\n"
   ]
  },
  {
   "cell_type": "code",
   "execution_count": 133,
   "metadata": {
    "ExecuteTime": {
     "end_time": "2021-10-16T12:35:17.287586Z",
     "start_time": "2021-10-16T12:35:17.273623Z"
    }
   },
   "outputs": [
    {
     "name": "stdout",
     "output_type": "stream",
     "text": [
      "[[1, 1, 1],\n",
      " [1],\n",
      " [1, 1, 1],\n",
      " [1, 1],\n",
      " [1, 1, 1, 1, 1]]\n"
     ]
    }
   ],
   "source": [
    "# 위와 동일한 결과를 list comprehension으로 전환 가능\n"
   ]
  },
  {
   "cell_type": "code",
   "execution_count": 134,
   "metadata": {
    "ExecuteTime": {
     "end_time": "2021-10-16T12:35:17.302546Z",
     "start_time": "2021-10-16T12:35:17.288583Z"
    }
   },
   "outputs": [
    {
     "name": "stdout",
     "output_type": "stream",
     "text": [
      "[[500, 20], [30, 40]] [[500, 20], [30, 40]]\n"
     ]
    }
   ],
   "source": [
    "# 변수끼리의 = 기호는 할당이 아니라 동일한 변수로 반영\n",
    "a = [[10, 20], [30, 40]]\n",
    "b = a\n",
    "b[0][0] = 500\n",
    "print(a, b)"
   ]
  },
  {
   "cell_type": "code",
   "execution_count": 135,
   "metadata": {
    "ExecuteTime": {
     "end_time": "2021-10-16T12:35:17.317505Z",
     "start_time": "2021-10-16T12:35:17.303543Z"
    }
   },
   "outputs": [
    {
     "name": "stdout",
     "output_type": "stream",
     "text": [
      "[[500, 20], [30, 40]] [[500, 20], [30, 40]]\n"
     ]
    }
   ],
   "source": [
    "# 변수끼리의 = 기호는 할당이 아니라 동일한 변수로 반영\n",
    "# 복사를 해서 값만 할당해줘야 함\n",
    "# 2차원 이상에서는 이 방법도 적용 불가\n",
    "a = [[10, 20], [30, 40]]\n",
    "b = a.copy()\n",
    "b[0][0] = 500\n",
    "print(a, b)"
   ]
  },
  {
   "cell_type": "code",
   "execution_count": 136,
   "metadata": {
    "ExecuteTime": {
     "end_time": "2021-10-16T12:35:17.332465Z",
     "start_time": "2021-10-16T12:35:17.318503Z"
    }
   },
   "outputs": [
    {
     "name": "stdout",
     "output_type": "stream",
     "text": [
      "[[10, 20], [30, 40]] [[500, 20], [30, 40]]\n"
     ]
    }
   ],
   "source": [
    "# 2차원 이상에서는 깊은 복사로 진행하면 중첩된 리스트에 있는 모든 요소들을 복사함\n",
    "# deepcopy 외장함수로 내부 값들을 복사하여 전달\n"
   ]
  },
  {
   "cell_type": "markdown",
   "metadata": {},
   "source": [
    "## 반복문으로 3차원 리스트 생성\n",
    "\n",
    "- **3차원 리스트 생성 및 값 반영:**\n",
    "\n",
    "```python\n",
    "리스트 = [[[값, 값], [값, 값]], [[값, 값], [값, 값]], [[값, 값], [값, 값]]]\n",
    "리스트[높이인덱스][세로인덱스][가로인덱스] = 값\n",
    "```\n",
    "\n",
    "![Loop_3DimList](Image/Loop_3DimList.png)"
   ]
  },
  {
   "cell_type": "code",
   "execution_count": 137,
   "metadata": {
    "ExecuteTime": {
     "end_time": "2021-10-16T12:35:17.347425Z",
     "start_time": "2021-10-16T12:35:17.333463Z"
    }
   },
   "outputs": [
    {
     "data": {
      "text/plain": [
       "[0, 0, 0]"
      ]
     },
     "execution_count": 137,
     "metadata": {},
     "output_type": "execute_result"
    }
   ],
   "source": [
    "[0 for col in range(3)]"
   ]
  },
  {
   "cell_type": "code",
   "execution_count": 138,
   "metadata": {
    "ExecuteTime": {
     "end_time": "2021-10-16T12:35:17.362386Z",
     "start_time": "2021-10-16T12:35:17.348423Z"
    }
   },
   "outputs": [
    {
     "name": "stdout",
     "output_type": "stream",
     "text": [
      "[[0, 0, 0],\n",
      " [0, 0, 0],\n",
      " [0, 0, 0],\n",
      " [0, 0, 0]]\n"
     ]
    }
   ],
   "source": [
    "# list comprehension 활용 2차원 데이터 출력\n"
   ]
  },
  {
   "cell_type": "code",
   "execution_count": 139,
   "metadata": {
    "ExecuteTime": {
     "end_time": "2021-10-16T12:35:17.377345Z",
     "start_time": "2021-10-16T12:35:17.363385Z"
    }
   },
   "outputs": [
    {
     "name": "stdout",
     "output_type": "stream",
     "text": [
      "[[[0, 0, 0],\n",
      "  [0, 0, 0],\n",
      "  [0, 0, 0],\n",
      "  [0, 0, 0]],\n",
      " [[0, 0, 0],\n",
      "  [0, 0, 0],\n",
      "  [0, 0, 0],\n",
      "  [0, 0, 0]]]\n"
     ]
    }
   ],
   "source": [
    "# list comprehension 활용 2차원 데이터 출력을 중복적용하여 3차원 데이터 출력\n"
   ]
  },
  {
   "cell_type": "code",
   "execution_count": 140,
   "metadata": {
    "ExecuteTime": {
     "end_time": "2021-10-16T12:35:17.392305Z",
     "start_time": "2021-10-16T12:35:17.378343Z"
    },
    "scrolled": true
   },
   "outputs": [
    {
     "name": "stdout",
     "output_type": "stream",
     "text": [
      "[[[0, 0, 0],\n",
      "  [0, 0, 0],\n",
      "  [0, 0, 0],\n",
      "  [0, 0, 0]],\n",
      " [[0, 0, 0],\n",
      "  [0, 0, 0],\n",
      "  [0, 0, 0],\n",
      "  [0, 0, 0]]]\n"
     ]
    }
   ],
   "source": [
    "# list comprehension 활용 2차원 데이터 출력을 중복적용을 한줄로 표현하여 3차원 데이터 출력\n",
    "mat3d = [[[0 for col in range(3)] for row in range(4)] for depth in range(2)]\n",
    "pprint(mat3d, width=20)"
   ]
  },
  {
   "cell_type": "code",
   "execution_count": 1,
   "metadata": {
    "ExecuteTime": {
     "end_time": "2021-10-16T12:36:32.042634Z",
     "start_time": "2021-10-16T12:36:32.011686Z"
    }
   },
   "outputs": [
    {
     "name": "stdout",
     "output_type": "stream",
     "text": [
      "Intel64 Family 6 Model 158 Stepping 10, GenuineIntel\n",
      "48(GB)\n",
      "Windows\n",
      "10.0.19041\n",
      "D:\\DS\\Lecture\\[DataScience]\n",
      "2021-10-02 01:56:22.964415\n",
      "2021-10-16 21:35:57.053206\n",
      "2021-10-16 21:35:57.053206\n",
      "2021-10-16 21:36:32.028641\n",
      "다음 출력을 파일명으로 설정하고 제출하시오: 김경원_20211011_E정보시스템-1반_ConditionLoop\n"
     ]
    }
   ],
   "source": [
    "# 반드시 이 cell을 실행하시오\n",
    "# 실행하지 않을 시 직접 하지 않은 것으로 간주\n",
    "# 마지막 줄 출력으로 파일명을 설정하고 제출 필수\n",
    "import platform, psutil, os, datetime\n",
    "print(platform.processor())\n",
    "print(str(round(psutil.virtual_memory().total / (1024.0 **3)))+\"(GB)\")\n",
    "print(platform.system())\n",
    "print(platform.version())\n",
    "print(os.getcwd())\n",
    "print(datetime.datetime.fromtimestamp(os.path.getctime(os.getcwd())))\n",
    "print(datetime.datetime.fromtimestamp(os.path.getmtime(os.getcwd())))\n",
    "print(datetime.datetime.fromtimestamp(os.path.getatime(os.getcwd())))\n",
    "print(datetime.datetime.now())\n",
    "title = 'ConditionLoop'    # 고정값\n",
    "name = '김경원'    # 본인 이름을 작성\n",
    "studentid = '20211011'    # 본인 학번을 작성\n",
    "course_number = 'E정보시스템-1반'    # 1반: E정보시스템-1반, 2반: E정보시스템-2반, 3반: E정보시스템-3반\n",
    "print('다음 출력을 파일명으로 설정하고 제출하시오:', name + '_' + studentid + '_' + course_number + '_' + title)"
   ]
  },
  {
   "cell_type": "markdown",
   "metadata": {},
   "source": [
    "<!-- ## str/list/tuple/dictionary 응용\n",
    "\n",
    "<!-- https://dojang.io/mod/page/view.php?id=2281 -->"
   ]
  }
 ],
 "metadata": {
  "hide_input": false,
  "kernelspec": {
   "display_name": "Python 3",
   "language": "python",
   "name": "python3"
  },
  "language_info": {
   "codemirror_mode": {
    "name": "ipython",
    "version": 3
   },
   "file_extension": ".py",
   "mimetype": "text/x-python",
   "name": "python",
   "nbconvert_exporter": "python",
   "pygments_lexer": "ipython3",
   "version": "3.8.5"
  },
  "toc": {
   "base_numbering": 1,
   "nav_menu": {},
   "number_sections": true,
   "sideBar": true,
   "skip_h1_title": false,
   "title_cell": "Table of Contents",
   "title_sidebar": "Contents",
   "toc_cell": false,
   "toc_position": {
    "height": "calc(100% - 180px)",
    "left": "10px",
    "top": "150px",
    "width": "308.31px"
   },
   "toc_section_display": true,
   "toc_window_display": true
  },
  "varInspector": {
   "cols": {
    "lenName": 16,
    "lenType": 16,
    "lenVar": 40
   },
   "kernels_config": {
    "python": {
     "delete_cmd_postfix": "",
     "delete_cmd_prefix": "del ",
     "library": "var_list.py",
     "varRefreshCmd": "print(var_dic_list())"
    },
    "r": {
     "delete_cmd_postfix": ") ",
     "delete_cmd_prefix": "rm(",
     "library": "var_list.r",
     "varRefreshCmd": "cat(var_dic_list()) "
    }
   },
   "position": {
    "height": "144.667px",
    "left": "1346.67px",
    "right": "20px",
    "top": "141px",
    "width": "350px"
   },
   "types_to_exclude": [
    "module",
    "function",
    "builtin_function_or_method",
    "instance",
    "_Feature"
   ],
   "window_display": false
  }
 },
 "nbformat": 4,
 "nbformat_minor": 4
}
