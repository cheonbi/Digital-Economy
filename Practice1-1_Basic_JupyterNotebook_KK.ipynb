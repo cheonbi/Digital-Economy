{
 "cells": [
  {
   "cell_type": "markdown",
   "metadata": {},
   "source": [
    "# Jupyter Notebook 사용법\n",
    "\n",
    "- 주피터 노트북(Jupyter Notebook)은 웹 브라우저에서 파이썬 코드를 작성하고 실행해 볼 수 있는 개발도구\n",
    "- 아나콘다(Anaconda)를 설치하면 Jupyter Notebook이 함께 설치되어 Jupyter를 사용할 수 있음\n",
    "- Jupyter Notebook 서버와 사용자가 코딩하는데 사용되는 웹 브라우저 등 2개의 프로그램이 실행\n",
    "> - **Notebook 서버:** 백그라운드에서 실행되는 파이썬 프로그램으로 웹 브라우저를 통해 접속하는 서버 프로그램이며 실제 파이썬 코드 실행은 여기서 작동\n",
    "![JN_NBServer](Image/JN_NBServer.png)\n",
    "> <br>\n",
    ">\n",
    "> - **웹 브라우저:** 파이썬 코드를 입력받고, 실행해 볼 수 있는 UI를 제공하는 기능으로 코드를 Notebook 서버에 입력후 결과를 다시 웹 브라우저에 출력함\n",
    "![JN_Web](Image/JN_Web.png)"
   ]
  },
  {
   "cell_type": "markdown",
   "metadata": {},
   "source": [
    "## 새 텍스트 파일 생성 / 폴더 생성 / 터미널 접근\n",
    "\n",
    "- 오른쪽 부분의 New 버튼을 클릭하면 Python 3, Text File, Folder, Terminal 등의 옵션 선택 가능\n",
    "\n",
    "**1) 새 텍스트 파일 생성:**\n",
    "- Text File 선택하면 별도의 txt 파일이 생성된 창을 확인 가능\n",
    "- 제목 변경 가능하며 데이터를 붙여넣거나 메모와 같은 내용을 작성 가능\n",
    "- 확장자를 변경하면 다른 어플리케이션 용 파일로 생성 가능(.py)\n",
    "\n",
    "![JN_NewText](Image/JN_NewText.png)\n",
    "\n",
    "**2) 새 폴더 생성:**\n",
    "- Folder를 선택하여 새로운 폴더가 생성가능\n",
    "- 탐색기의 폴더에도 동일하게 생성됨\n",
    "\n",
    "![JN_NewFolder](Image/JN_NewFolder.png)\n",
    "\n",
    "**3) 터미널 접근:**\n",
    "- **터미널(Terminal):** 컴퓨터와 사용자 간 소통을 위한 \"고전적\" 방식의 \"텍스트\" 기반 인터페이스\n",
    "- 설치한 아나콘다 프로그램에 접근하여 변경/관리 하기 위한 프로그램\n",
    "- 윈도우나 맥 등의 명령창과 같고 파일 구성을 보거나 실행 가능(py 파일 포함)\n",
    "- Terminal을 선택하면 새로운 창이 뜨면서 아나콘다 설치 환경에 진입\n",
    "> - IPython: 터미널에서 파이썬 코드를 실행 하는 프로그램\n",
    "> - Jupyter: 웹 상에서 파이썬 코드를 실행 할 수 있는 웹 인터페이스\n",
    "> - Jupyter Notebook: IPython에 노트북 기능이 탑재되고 버전 상승 및 다른 프로그래밍 언어를 지원하면서 이름 변경된 범용 프로그램\n",
    "> - 단순한 차이는 \"텍스트\" 기반이냐 \"그래픽\" 기반이냐\n",
    "\n",
    "![JN_Terminal](Image/JN_Terminal.png)"
   ]
  },
  {
   "cell_type": "markdown",
   "metadata": {},
   "source": [
    "## 새 파일 생성\n",
    "\n",
    "- 오른쪽 부분의 New 버튼을 클릭하면 Python 3, Text File, Folder, Terminal 등의 옵션 선택 가능\n",
    "\n",
    "![JN_Nofile](Image/JN_Nofile.png)\n",
    "\n",
    "- Python 3을 클릭하여 파이썬 언어를 사용하여 대화할 수 있는 별도파일과 창이 생김\n",
    "- 제목은 Untitled.ipynb 라는 파일로 자동 생성되지면 클릭하여 수정 가능\n",
    "\n",
    "![JN_FileOpen](Image/JN_FileOpen.png)\n",
    "\n",
    "- 이전 폴더 경로에는 생성된 파일을 확인 가능\n",
    "\n",
    "![JN_Folder](Image/JN_Folder.png)\n",
    "\n",
    "- **Question:** \"본인이름이니셜.ipynb\" 파일을 새롭게 만들어 보시오"
   ]
  },
  {
   "cell_type": "markdown",
   "metadata": {},
   "source": [
    "## 편집모드와 명령모드\n",
    "\n",
    "- **편집모드:** 내용을 작성/편집 할 수 있는 모드가 되며 테두리가 초록색으로 변함\n",
    "- **명령모드:** 내용 작성은 불가한 상태로 테두리가 파란색으로 변하며 각 셀의 이동/관리를 위한 모드\n",
    "> - 명령모드 $\\rightarrow$ 편집모드: Enter\n",
    "> - 편집모드 $\\rightarrow$ 명령모드: Esc"
   ]
  },
  {
   "cell_type": "code",
   "execution_count": null,
   "metadata": {},
   "outputs": [],
   "source": []
  },
  {
   "cell_type": "markdown",
   "metadata": {},
   "source": [
    "## 셀의 종류와 실행\n",
    "\n",
    "- **셀:** 코드나 문서를 작성할 수 있는 공간의 이름\n",
    "> - Code/Markdown/Raw NBConvert/Heading 중 주로 Code와 Markdown을 사용하며 메뉴의 드롭다운 형식으로 선택\n",
    ">> - **Code:** 파이썬 코드를 처리하기 위한 목적\n",
    ">> - **Markdown:** 마크다운 코드로 문서화를 하기 위한 목적\n",
    ">> - **Raw NBConvert:** 입력된 내용을 그대로(Raw) 출력\n",
    ">> - **Heading:** 제목수준이 부여된 마크다운 문서화를 위한 목적\n",
    "\n",
    "**1) Code:** 파이썬 언어를 사용하여 일반 코드를 실행하기 위한 목적\n",
    "- 셀을 생성시 기본적으로 Code 셀로 생성됨\n",
    "- 새로운 셀을 추가하는 방법:\n",
    "> - 메뉴의 \"Insert\"를 누르고 위나 아래에 셀을 추가하는 항목을 선택\n",
    "> - 단축키를 사용하여 위(A)와 아래(B)에 셀을 신규로 넣을 수 있음\n",
    "> - 셀을 삭제는 메뉴의 \"Edit\"에서 셀삭제를 하거나 단축키로 \"D\"를 연속 두번\n",
    "- 코드 셀을 실행하는 방법: (메뉴의 \"Code\" 탭 참고)\n",
    "> - Enter: 셀의 코드가 실행되지 않고 셀 내에서 줄바꿈\n",
    "> - Ctrl + Enter: 셀의 코드가 실행되고 셀은 명령모드로 전환\n",
    "> - Alt + Enter: 셀의 코드가 실행되고 아래에 편집모드 상태의 신규 셀을 하나 생성\n",
    "> - Shift + Enter: 셀의 코드가 실행되고 아래에 명령모드로 상태의 셀로 이동\n",
    "> - 메뉴의 \"Run\"을 클릭\n",
    "> - 메뉴의 [Cell] - [Run Cell] 실행히 모든 셀이 순차적으로 실행\n",
    ">> - 기본적으로 하나의 셀마다 실행되도록 설계됨\n",
    "- 코드 셀을 이동하는 방법:\n",
    "> - 마우스로 다른 셀을 클릭하거나 키보드 화살표로 이동하되 셀 내부 이동 후 다음 셀로 이동\n",
    "- 코드 셀의 위치를 변경하는 방법:\n",
    "> - 메뉴의 위/아래 화살표를 사용\n",
    "> - 메뉴의 [Edit] - 위/아래 셀 이동을 클릭\n",
    "- 코드 셀을 나누고/합치는 방법:\n",
    "> - Ctrl + Shift + '-': 셀 내 커서가 위치한 곳 기준으로 위 아래로 셀 분리\n",
    "> - Shift + 'M': 바로 아래의 셀과 합쳐짐\n",
    "\n",
    "- **Question:** 1) 아래 그림과 같이 5개의 빈 셀을 만들고, 2) 맨 위 2개의 셀을 합치시오\n",
    "\n",
    "![JN_5Cells](Image/JN_5Cells.png)"
   ]
  },
  {
   "cell_type": "markdown",
   "metadata": {},
   "source": [
    "- **2) Markdown:** 코드는 실행되지 않고, 코드설명/수식/문서화/구분을 위해 주로 사용\n",
    "> - 수식은 Latex 언어기반 문법을 따름\n",
    "> - Code $\\rightarrow$ Markdown: m\n",
    "> - Markdown $\\rightarrow$ Code: y\n",
    "\n",
    "![JN_Math](Image/JN_Math.png)\n",
    "\n",
    "> - 새로운 셀을 추가하는 방법은 위와 아래에 Code 셀을 추가하고 Markdown 셀로 변경\n",
    "> - 마크다운 셀을 이동/실행/위치변경하는 방법은 코드 셀을 이동/실행/위치변경하는 방법과 동일\n",
    "> - 코드/마크다운 셀 실행 시, 하나의 셀 내용이 전부 실행되고 결과가 하단에 출력\n",
    "> - 코드/마크다운 셀 실행 시, 셀 옆의 'In []' 과 'Out []'에 누적 실행 숫자가 제시 된\n",
    "\n",
    "- **Question:** \"본인이름이니셜.ipynb\" 파일에서, 1) Markdown 셀을 만들고 2) 하기 내용을 복사하여 출력하시오 3) 출력된 Markdown 셀을 Code 셀로 변환하여 출력하시오\n",
    "\n",
    "```\n",
    "A = \"My name is \"\n",
    "B = \"KK\"\n",
    "print(A+B)\n",
    "```"
   ]
  },
  {
   "cell_type": "code",
   "execution_count": null,
   "metadata": {},
   "outputs": [],
   "source": []
  },
  {
   "cell_type": "markdown",
   "metadata": {},
   "source": [
    "## 코드 셀의 주석처리\n",
    "\n",
    "> **\"파이썬 코드에서 사람만 알아볼 수 있도록 작성하는 부분을 주석(Comment)이라고 하며 프로그램 실행에는 영향을 주지 않음\"**"
   ]
  },
  {
   "cell_type": "code",
   "execution_count": null,
   "metadata": {
    "ExecuteTime": {
     "end_time": "2021-10-05T11:08:01.789852Z",
     "start_time": "2021-10-05T11:08:01.776023Z"
    }
   },
   "outputs": [],
   "source": [
    "# Hello, world! 출력\n",
    "print('Hello, world!')  # Hello, world! 출력"
   ]
  },
  {
   "cell_type": "markdown",
   "metadata": {},
   "source": [
    "- 코드 맨 앞에 \"#\"을 사용하면 해당 줄은 모두 주석으로 간주\n",
    "- 작성한 코드 뒤에 \"#\"을 추가하여 붙일 수도 있음\n",
    "- 단축키: Ctrl + /\n",
    "- '(작은따옴표) 3개로 전체 주석 처리 가능"
   ]
  },
  {
   "cell_type": "code",
   "execution_count": null,
   "metadata": {
    "ExecuteTime": {
     "end_time": "2021-10-05T11:08:01.804704Z",
     "start_time": "2021-10-05T11:08:01.791318Z"
    }
   },
   "outputs": [],
   "source": [
    "# print('Hello, world!')"
   ]
  },
  {
   "cell_type": "code",
   "execution_count": null,
   "metadata": {
    "ExecuteTime": {
     "end_time": "2021-10-05T11:08:01.820369Z",
     "start_time": "2021-10-05T11:08:01.806243Z"
    }
   },
   "outputs": [],
   "source": [
    "a = 1 + 2 # 더하기\n",
    "print('Hello, world!') #printf('1234567890')"
   ]
  },
  {
   "cell_type": "code",
   "execution_count": null,
   "metadata": {
    "ExecuteTime": {
     "end_time": "2021-10-05T11:08:01.835586Z",
     "start_time": "2021-10-05T11:08:01.821724Z"
    }
   },
   "outputs": [],
   "source": [
    "'''\n",
    "a = 1 + 2 # 더하기\n",
    "print('Hello, world!') #printf('1234567890')\n",
    "'''"
   ]
  },
  {
   "cell_type": "markdown",
   "metadata": {},
   "source": [
    "- **Question:** 1) 하기 내용을 복사하고 B에는 본인의 이름 이니셜을 반영하여 Code 셀로 출력하시오 2) 출력된 셀 상단에 \"Text Example\" 이라고 주석을 작성하시오\n",
    "\n",
    "```python\n",
    "A = \"My name is \"\n",
    "B = \"KK\"\n",
    "print(A+B)\n",
    "```"
   ]
  },
  {
   "cell_type": "code",
   "execution_count": null,
   "metadata": {},
   "outputs": [],
   "source": []
  },
  {
   "cell_type": "markdown",
   "metadata": {},
   "source": [
    "## 강제중단/재실행\n",
    "\n",
    "**\"Jupyter Notebook이 인터넷이 끊기거나, 멈추거나, 시간이 오래 걸리거나, 오류 존재시 재실행이 필요\"**\n",
    "\n",
    "![JN_Shutdowned](Image/JN_Shutdowned.png)\n",
    "\n",
    "- \"Kernel\": Jupyter가 파이썬(다른 프로그램도 마찬가지)과 소통하기 위한 통로/중간다리 개념으로 작업마다 별도의 통로가 부여됨\n",
    "- 메뉴의 \"Kernel\" 탭 내 기능들을 사용하여 원하는 작업 진행가능\n",
    "- \"Kernel\" 탭의 모든 버튼은 코드를 삭제하지 않음\n",
    "> - **Interrupt:** 실행 중인 코드를 강제 중지하며 위 그림과 같은 에러가 뜨며 실행이 중지\n",
    "> - **Restart:** 실행 중인 코드가 중지되며 재시작되며 코드나 실행 결과는 삭제되지 않음\n",
    "> - **Restart & Clear Output:** 코드는 중지되며 코드는 삭제되지 않으나 실행 결과는 모두 삭제.\n",
    "> - **Restart & Run All:** 재시작 후 모든 셀의 코드를 위에서부터 순차적으로 한 번씩 실행\n",
    "> - **Reconnect:** 인터넷 연결이 끊어졌을 때 연결을 재시도\n",
    "> - **Shutdown:** 실행 결과는 삭제되지 않으나 완전 종료된 상태로 더 이상 메모리를 소비하지 않음\n",
    "- 실행중인 커널을 확인 하는 방법:\n",
    "> **1)** Home 화면에서 파일의 아이콘이 초록색이면 실행중, 회색이면 시작되지 않거나 중단된 상태\n",
    "![JN_KernelActive](Image/JN_KernelActive.png)\n",
    "> <br>\n",
    ">\n",
    "> **2)** Home 화면에서 Files 탭 대신 Running 탭을 클릭하면 실행중인 파일들 또는 터미널을 볼 수 있음\n",
    "![JN_KernelActiveList](Image/JN_KernelActiveList.png)"
   ]
  },
  {
   "cell_type": "markdown",
   "metadata": {},
   "source": [
    "## 파일 업로드\n",
    "\n",
    "**1)** Home 화면에서 파일을 생성하는 New 버튼 옆에 Upload 버튼을 눌러 업로드를 원하는 파일을 선택\n",
    "![JN_Upload](Image/JN_Upload.png)\n",
    "\n",
    "**2)** 업로드 할 파일 명을 필요하면 수정 후, Upload 버튼을 누르면 완료\n",
    "- 마찬가지로 데이터 파일, 문서 파일, 노트북 파일 등을 쉽게 업로드 가능\n",
    "![JN_UploadComplete](Image/JN_UploadComplete.png)\n",
    "\n",
    "**3)** 파일 탐색기에서 파일을 업로드 및 정리하면, 동일한 Home 화면의 폴더경로에 파일이 반영된 것이 확인되고 바로 사용할 수 있음"
   ]
  },
  {
   "cell_type": "markdown",
   "metadata": {},
   "source": [
    "## 단축키\n",
    "\n",
    "- 단축키 정보는 [Help] - [Keyboard Shortcuts] 또는 명령 모드에서 H를 눌러 확인 가능\n",
    "\n",
    "| 편집 모드 단축키 | 설명 |\n",
    "|:---:|:---:|\n",
    "| Ctrl + Z | Undo 명령이다. |\n",
    "| Ctrl + Shift + Z | Redo 명령이다. |\n",
    "| Tab | 자동완성 또는 Indent를 추가한다. |\n",
    "| Shift + Tab | 툴팁 또는 변수의 상태를 표시한다. |\n",
    "| Ctrl + Shift + - | 커서의 위치에서 셀을 잘라 두 개로 만든다. |\n",
    "\n",
    "| 명령 모드 단축키 | 설명 |\n",
    "|:---:|:---:|\n",
    "| ↑, ↓ | 셀 선택 |\n",
    "| A | 액티브 코드 셀의 위(Above)에 셀을 하나 생성한다. |\n",
    "| B | 액티브 코드 셀의 위(Below)에 셀을 하나 생성한다. |\n",
    "| Ctrl + S | Notebook 파일을 저장한다. |\n",
    "| Shift + L | 줄 번호 표시를 토글한다. |\n",
    "| D, D | (D 두번 연속으로 타이핑)액티브 코드 셀을 삭제한다. |\n",
    "| Z | 삭제한 셀을 하나 복원한다. |\n",
    "| Y | 액티브 코드 셀을 Code 타입(코드를 기술하는 타입)으로 한다. |\n",
    "| M | 액티브 코드 셀을 Markdown 타입으로 한다. |\n",
    "| O, O | 커널을 재시작한다. |\n",
    "| P | 명령 팔레트를 연다. |\n",
    "| H | 단축키 목록을 표시한다. Enter 키로 숨긴다. |\n",
    "\n",
    "<center><img src='Image/JN_Shortcut.png' width='600'></center>"
   ]
  },
  {
   "cell_type": "markdown",
   "metadata": {},
   "source": [
    "## 외부 출력/저장\n",
    "\n",
    "> - [File] - [Download as] 에서 작성된 노트북 파일 전체를 .html / .tex / .md / .pdf 등 출력\n",
    "> - 상황에 따라서 별도 라이브러리를 설치해야 진행 될 수도 있음\n",
    "\n",
    "![JN_Saving](Image/JN_Saving.png)"
   ]
  },
  {
   "cell_type": "markdown",
   "metadata": {},
   "source": [
    "## 라이브러리 설치\n",
    "\n",
    "- 라이브러리는 특정 기능이 실행되도록 미리 만들어둔 프로그래밍 함수 모음\n",
    "- 라이브러리는 넓은 범위에서 상황에 따라 패키지, 모듈, 클래스, 함수로 지칭\n",
    "- 좁은 범위에서 패키지와 같은 의미로도 쓰이고 패키지를 모아놓은 것이라는 의미로도 쓰임\n",
    "- **포함관계:** 라이브러리 $\\geq$ 패키지 $\\geq$ 모듈 $>$ 클래스 $>$ 함수\n",
    "\n",
    "<center><img src='Image/Function_to_Package.png' width='600'>(출처: https://thinkreen.github.io/_posts/2020-06-30-py-FunctionModuleClass/)</center>\n",
    "\n",
    "**1) 패키지(Package):**\n",
    "> - 라이브러리라고도 불림\n",
    "> - 특정 기능과 관련된 여러 모듈을 하나로 묵어 둔 응용 프로그램\n",
    "> - **설치:** ```pip, conda``` 라는 Python 라이브러리 관리 프로그램으로 간편하게 가능\n",
    ">> - Anaconda Prompt에서 실행시:\n",
    ">>> - ```pip install 패키지명```\n",
    ">>> - ```conda install 패키지명```\n",
    ">> - Jupyter Notebook에서 실행시:\n",
    ">>> - ```!pip install 패키지명```\n",
    ">> - 예시:\n",
    ">>> - ```!pip install numpy```\n",
    "\n",
    "**2) 모듈(Module):**\n",
    "> - 여러 기능들을 뭉쳐서 만든 하나의 ```.py``` 파일\n",
    "> - 변수, 함수, 클래스 등이 ```.py``` 파일 내 포함될 수 있음\n",
    "> - 패키지 설치시 패키지가 담고 있는 모듈들을 실행 가능\n",
    "> - **사용법:** Jupyter Notebook에서\n",
    ">> - ```from 패키지 import 모듈```\n",
    ">> - ```import 패키지.모듈```\n",
    ">> - ```import 모듈``` (기본 설치되었거나 다른 패키지와 미중복 단독으로 존재시)\n",
    ">> - ```import 모듈 as 축약어``` (모듈 이름이 길어서 축약어로 사용가능)\n",
    ">> - ```import 패키지 as 축약어``` (모듈보다 넓은 패키지도 호출 가능하며 호출 범위의 차이)\n",
    "> - **예시:**\n",
    ">> ```python\n",
    "import numpy as np\n",
    "\n",
    "**3) 클래스(Class):**\n",
    "> - 클래스는 속성(변수)과 함수를 포함하여 객체 또는 완제품으로 작동되도록 구성된 실체/객체\n",
    "> - 자동차, 휴대폰, 마우스, 게임케릭터 등 자동차가 휴대폰이 될 수 없고 마우스가 게임케릭터로 될 순 없지만, 각각 자체적으로 특정 기능만 수행하도록 구성된 것을 모두 클래스 형태\n",
    "> - **사용법:** Jupyter Notebook에서\n",
    ">\n",
    ">```python\n",
    "class 학생(): \n",
    "    def 인사하기()\n",
    "        print(\"하이\")\n",
    "    def 공부하기()\n",
    "        print(\"무념무상\")\n",
    "    def 물마시기()\n",
    "        print(\"벌컥벌컥)\n",
    ">\n",
    "> KK = 학생()\n",
    "> KK.공부하기()\n",
    "\n",
    "\n",
    "\n",
    "**4) 함수(Function):**\n",
    "> - 하나의 기능을 가진 코드로 입력값을 처리하여 출력값을 반환\n",
    "> - 함수를 사용한다는 것을 프로그래밍에선 함수를 호출한다고 함\n",
    "> - 내장함수(Built-in Function)과 외장함수가 있으며 외장함수는 별도 모듈 import 필요\n",
    "> - **사용법:** Jupyter Notebook에서\n",
    "> \n",
    ">```python\n",
    "min_value = min([1,2,3])\n",
    "import numpy as np\n",
    "mean_value = np.mean([1,2,3])\n",
    "\n",
    "> - 커스텀 함수를 작성하여 사용할 수 있고, 모듈처럼 만들어 파이썬 외장함수처럼 작동 가능\n",
    "> ```python\n",
    "def 평균구하기(입력):\n",
    "    return 총합/갯수\n",
    "출력 = 평균구하기(입력)\n",
    "```"
   ]
  },
  {
   "cell_type": "markdown",
   "metadata": {},
   "source": [
    "- **전체 사용 예시:**\n",
    "\n",
    "```python\n",
    "class 학생(): \n",
    "    def 인사하기()\n",
    "        print(\"하이\")\n",
    "    def 공부하기()\n",
    "        print(\"무념무상\")\n",
    "    def 물마시기()\n",
    "        print(\"벌컥벌컥)\n",
    "              \n",
    "KK = 학생()\n",
    "KK.공부하기()\n",
    "\n",
    "import numpy as np\n",
    "from cutom_module import 평균구하기\n",
    "              \n",
    "mean_value = np.mean([1,2,3])\n",
    "\n",
    "def 평균구하기(입력):\n",
    "    return 총합/갯수\n",
    "              \n",
    "출력 = 평균구하기(입력)     \n",
    "              \n",
    "mean_value == 출력\n",
    "```"
   ]
  },
  {
   "cell_type": "code",
   "execution_count": null,
   "metadata": {},
   "outputs": [],
   "source": []
  }
 ],
 "metadata": {
  "hide_input": false,
  "kernelspec": {
   "display_name": "Python 3",
   "language": "python",
   "name": "python3"
  },
  "language_info": {
   "codemirror_mode": {
    "name": "ipython",
    "version": 3
   },
   "file_extension": ".py",
   "mimetype": "text/x-python",
   "name": "python",
   "nbconvert_exporter": "python",
   "pygments_lexer": "ipython3",
   "version": "3.8.5"
  },
  "toc": {
   "base_numbering": 1,
   "nav_menu": {},
   "number_sections": true,
   "sideBar": true,
   "skip_h1_title": false,
   "title_cell": "Table of Contents",
   "title_sidebar": "Contents",
   "toc_cell": false,
   "toc_position": {
    "height": "calc(100% - 180px)",
    "left": "10px",
    "top": "150px",
    "width": "334.821px"
   },
   "toc_section_display": true,
   "toc_window_display": true
  },
  "varInspector": {
   "cols": {
    "lenName": 16,
    "lenType": 16,
    "lenVar": 40
   },
   "kernels_config": {
    "python": {
     "delete_cmd_postfix": "",
     "delete_cmd_prefix": "del ",
     "library": "var_list.py",
     "varRefreshCmd": "print(var_dic_list())"
    },
    "r": {
     "delete_cmd_postfix": ") ",
     "delete_cmd_prefix": "rm(",
     "library": "var_list.r",
     "varRefreshCmd": "cat(var_dic_list()) "
    }
   },
   "types_to_exclude": [
    "module",
    "function",
    "builtin_function_or_method",
    "instance",
    "_Feature"
   ],
   "window_display": false
  }
 },
 "nbformat": 4,
 "nbformat_minor": 4
}
